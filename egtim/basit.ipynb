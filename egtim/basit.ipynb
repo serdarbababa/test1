{
 "cells": [
  {
   "cell_type": "markdown",
   "source": [
    "# Data Processing\n",
    "https://towardsdatascience.com/building-a-logistic-regression-in-python-step-by-step-becd4d56c9c8"
   ],
   "metadata": {
    "collapsed": false,
    "pycharm": {
     "name": "#%% md\n",
     "is_executing": false
    }
   }
  },
  {
   "cell_type": "code",
   "execution_count": 1,
   "metadata": {
    "collapsed": true,
    "pycharm": {
     "is_executing": false,
     "name": "#%% \n"
    }
   },
   "outputs": [],
   "source": [
    "import pandas as pd\n",
    "import numpy as np\n",
    "from sklearn import preprocessing\n",
    "import matplotlib.pyplot as plt \n",
    "plt.rc(\"font\", size=14)\n",
    "from sklearn.linear_model import LogisticRegression\n",
    "from sklearn.model_selection import train_test_split\n",
    "import seaborn as sns\n",
    "sns.set(style=\"white\")\n",
    "sns.set(style=\"whitegrid\", color_codes=True)\n",
    "\n"
   ]
  },
  {
   "cell_type": "code",
   "execution_count": 9,
   "outputs": [
    {
     "name": "stdout",
     "text": [
      "(41188, 21)\n['age', 'job', 'marital', 'education', 'default', 'housing', 'loan', 'contact', 'month', 'day_of_week', 'duration', 'campaign', 'pdays', 'previous', 'poutcome', 'emp_var_rate', 'cons_price_idx', 'cons_conf_idx', 'euribor3m', 'nr_employed', 'y']\n"
     ],
     "output_type": "stream"
    }
   ],
   "source": [
    "data = pd.read_csv(\"banking.txt\", header = 0)\n",
    "\n",
    "data= data.dropna()\n",
    "print(data.shape)\n",
    "print(list(data.columns))"
   ],
   "metadata": {
    "collapsed": false,
    "pycharm": {
     "name": "#%%\n",
     "is_executing": false
    }
   }
  },
  {
   "cell_type": "code",
   "execution_count": 10,
   "outputs": [
    {
     "data": {
      "text/plain": "   age          job  marital          education  default housing loan  \\\n0   44  blue-collar  married           basic.4y  unknown     yes   no   \n1   53   technician  married            unknown       no      no   no   \n2   28   management   single  university.degree       no     yes   no   \n3   39     services  married        high.school       no      no   no   \n4   55      retired  married           basic.4y       no     yes   no   \n\n    contact month day_of_week ...  campaign  pdays  previous     poutcome  \\\n0  cellular   aug         thu ...         1    999         0  nonexistent   \n1  cellular   nov         fri ...         1    999         0  nonexistent   \n2  cellular   jun         thu ...         3      6         2      success   \n3  cellular   apr         fri ...         2    999         0  nonexistent   \n4  cellular   aug         fri ...         1      3         1      success   \n\n  emp_var_rate  cons_price_idx  cons_conf_idx  euribor3m  nr_employed  y  \n0          1.4          93.444          -36.1      4.963       5228.1  0  \n1         -0.1          93.200          -42.0      4.021       5195.8  0  \n2         -1.7          94.055          -39.8      0.729       4991.6  1  \n3         -1.8          93.075          -47.1      1.405       5099.1  0  \n4         -2.9          92.201          -31.4      0.869       5076.2  1  \n\n[5 rows x 21 columns]",
      "text/html": "<div>\n<style scoped>\n    .dataframe tbody tr th:only-of-type {\n        vertical-align: middle;\n    }\n\n    .dataframe tbody tr th {\n        vertical-align: top;\n    }\n\n    .dataframe thead th {\n        text-align: right;\n    }\n</style>\n<table border=\"1\" class=\"dataframe\">\n  <thead>\n    <tr style=\"text-align: right;\">\n      <th></th>\n      <th>age</th>\n      <th>job</th>\n      <th>marital</th>\n      <th>education</th>\n      <th>default</th>\n      <th>housing</th>\n      <th>loan</th>\n      <th>contact</th>\n      <th>month</th>\n      <th>day_of_week</th>\n      <th>...</th>\n      <th>campaign</th>\n      <th>pdays</th>\n      <th>previous</th>\n      <th>poutcome</th>\n      <th>emp_var_rate</th>\n      <th>cons_price_idx</th>\n      <th>cons_conf_idx</th>\n      <th>euribor3m</th>\n      <th>nr_employed</th>\n      <th>y</th>\n    </tr>\n  </thead>\n  <tbody>\n    <tr>\n      <th>0</th>\n      <td>44</td>\n      <td>blue-collar</td>\n      <td>married</td>\n      <td>basic.4y</td>\n      <td>unknown</td>\n      <td>yes</td>\n      <td>no</td>\n      <td>cellular</td>\n      <td>aug</td>\n      <td>thu</td>\n      <td>...</td>\n      <td>1</td>\n      <td>999</td>\n      <td>0</td>\n      <td>nonexistent</td>\n      <td>1.4</td>\n      <td>93.444</td>\n      <td>-36.1</td>\n      <td>4.963</td>\n      <td>5228.1</td>\n      <td>0</td>\n    </tr>\n    <tr>\n      <th>1</th>\n      <td>53</td>\n      <td>technician</td>\n      <td>married</td>\n      <td>unknown</td>\n      <td>no</td>\n      <td>no</td>\n      <td>no</td>\n      <td>cellular</td>\n      <td>nov</td>\n      <td>fri</td>\n      <td>...</td>\n      <td>1</td>\n      <td>999</td>\n      <td>0</td>\n      <td>nonexistent</td>\n      <td>-0.1</td>\n      <td>93.200</td>\n      <td>-42.0</td>\n      <td>4.021</td>\n      <td>5195.8</td>\n      <td>0</td>\n    </tr>\n    <tr>\n      <th>2</th>\n      <td>28</td>\n      <td>management</td>\n      <td>single</td>\n      <td>university.degree</td>\n      <td>no</td>\n      <td>yes</td>\n      <td>no</td>\n      <td>cellular</td>\n      <td>jun</td>\n      <td>thu</td>\n      <td>...</td>\n      <td>3</td>\n      <td>6</td>\n      <td>2</td>\n      <td>success</td>\n      <td>-1.7</td>\n      <td>94.055</td>\n      <td>-39.8</td>\n      <td>0.729</td>\n      <td>4991.6</td>\n      <td>1</td>\n    </tr>\n    <tr>\n      <th>3</th>\n      <td>39</td>\n      <td>services</td>\n      <td>married</td>\n      <td>high.school</td>\n      <td>no</td>\n      <td>no</td>\n      <td>no</td>\n      <td>cellular</td>\n      <td>apr</td>\n      <td>fri</td>\n      <td>...</td>\n      <td>2</td>\n      <td>999</td>\n      <td>0</td>\n      <td>nonexistent</td>\n      <td>-1.8</td>\n      <td>93.075</td>\n      <td>-47.1</td>\n      <td>1.405</td>\n      <td>5099.1</td>\n      <td>0</td>\n    </tr>\n    <tr>\n      <th>4</th>\n      <td>55</td>\n      <td>retired</td>\n      <td>married</td>\n      <td>basic.4y</td>\n      <td>no</td>\n      <td>yes</td>\n      <td>no</td>\n      <td>cellular</td>\n      <td>aug</td>\n      <td>fri</td>\n      <td>...</td>\n      <td>1</td>\n      <td>3</td>\n      <td>1</td>\n      <td>success</td>\n      <td>-2.9</td>\n      <td>92.201</td>\n      <td>-31.4</td>\n      <td>0.869</td>\n      <td>5076.2</td>\n      <td>1</td>\n    </tr>\n  </tbody>\n</table>\n<p>5 rows × 21 columns</p>\n</div>"
     },
     "metadata": {},
     "output_type": "execute_result",
     "execution_count": 10
    }
   ],
   "source": [
    "data.head()"
   ],
   "metadata": {
    "collapsed": false,
    "pycharm": {
     "name": "#%%\n",
     "is_executing": false
    }
   }
  },
  {
   "cell_type": "code",
   "execution_count": 11,
   "outputs": [
    {
     "data": {
      "text/plain": "array(['basic.4y', 'unknown', 'university.degree', 'high.school',\n       'basic.9y', 'professional.course', 'basic.6y', 'illiterate'],\n      dtype=object)"
     },
     "metadata": {},
     "output_type": "execute_result",
     "execution_count": 11
    }
   ],
   "source": [
    "data[\"education\"].unique()\n",
    "\n"
   ],
   "metadata": {
    "collapsed": false,
    "pycharm": {
     "name": "#%%\n",
     "is_executing": false
    }
   }
  },
  {
   "cell_type": "code",
   "execution_count": 12,
   "outputs": [],
   "source": [
    "data['education']=np.where(data['education'] =='basic.9y', 'Basic', data['education'])\n",
    "data['education']=np.where(data['education'] =='basic.6y', 'Basic', data['education'])\n",
    "data['education']=np.where(data['education'] =='basic.4y', 'Basic', data['education'])"
   ],
   "metadata": {
    "collapsed": false,
    "pycharm": {
     "name": "#%%\n",
     "is_executing": false
    }
   }
  },
  {
   "cell_type": "code",
   "execution_count": 13,
   "outputs": [
    {
     "data": {
      "text/plain": "array(['Basic', 'unknown', 'university.degree', 'high.school',\n       'professional.course', 'illiterate'], dtype=object)"
     },
     "metadata": {},
     "output_type": "execute_result",
     "execution_count": 13
    }
   ],
   "source": [
    "data[\"education\"].unique()\n"
   ],
   "metadata": {
    "collapsed": false,
    "pycharm": {
     "name": "#%%\n",
     "is_executing": false
    }
   }
  },
  {
   "cell_type": "code",
   "execution_count": 14,
   "outputs": [
    {
     "data": {
      "text/plain": "0    36548\n1     4640\nName: y, dtype: int64"
     },
     "metadata": {},
     "output_type": "execute_result",
     "execution_count": 14
    }
   ],
   "source": [
    "data['y'].value_counts()"
   ],
   "metadata": {
    "collapsed": false,
    "pycharm": {
     "name": "#%%\n",
     "is_executing": false
    }
   }
  },
  {
   "cell_type": "code",
   "execution_count": 15,
   "outputs": [
    {
     "data": {
      "text/plain": "<Figure size 432x288 with 1 Axes>",
      "image/png": "[encoded data removed]"
     },
     "metadata": {
      "needs_background": "light"
     },
     "output_type": "display_data"
    }
   ],
   "source": [
    "sns.countplot(x=\"y\", data=data, palette='hls')\n",
    "plt.show()"
   ],
   "metadata": {
    "collapsed": false,
    "pycharm": {
     "name": "#%%\n",
     "is_executing": false
    }
   }
  },
  {
   "cell_type": "code",
   "execution_count": 16,
   "outputs": [
    {
     "name": "stdout",
     "text": [
      "percentage of no subscription is 88.73458288821988\npercentage of subscription 11.265417111780131\n"
     ],
     "output_type": "stream"
    }
   ],
   "source": [
    "count_no_sub = len(data[data['y']==0])\n",
    "count_sub = len(data[data['y']==1])\n",
    "pct_of_no_sub = count_no_sub/(count_no_sub+count_sub)\n",
    "print(\"percentage of no subscription is\", pct_of_no_sub*100)\n",
    "pct_of_sub = count_sub/(count_no_sub+count_sub)\n",
    "print(\"percentage of subscription\", pct_of_sub*100)"
   ],
   "metadata": {
    "collapsed": false,
    "pycharm": {
     "name": "#%%\n",
     "is_executing": false
    }
   }
  },
  {
   "cell_type": "code",
   "execution_count": 18,
   "outputs": [
    {
     "data": {
      "text/plain": "         age    duration  campaign       pdays  previous  emp_var_rate  \\\ny                                                                        \n0  39.911185  220.844807  2.633085  984.113878  0.132374      0.248875   \n1  40.913147  553.191164  2.051724  792.035560  0.492672     -1.233448   \n\n   cons_price_idx  cons_conf_idx  euribor3m  nr_employed  \ny                                                         \n0       93.603757     -40.593097   3.811491  5176.166600  \n1       93.354386     -39.789784   2.123135  5095.115991  ",
      "text/html": "<div>\n<style scoped>\n    .dataframe tbody tr th:only-of-type {\n        vertical-align: middle;\n    }\n\n    .dataframe tbody tr th {\n        vertical-align: top;\n    }\n\n    .dataframe thead th {\n        text-align: right;\n    }\n</style>\n<table border=\"1\" class=\"dataframe\">\n  <thead>\n    <tr style=\"text-align: right;\">\n      <th></th>\n      <th>age</th>\n      <th>duration</th>\n      <th>campaign</th>\n      <th>pdays</th>\n      <th>previous</th>\n      <th>emp_var_rate</th>\n      <th>cons_price_idx</th>\n      <th>cons_conf_idx</th>\n      <th>euribor3m</th>\n      <th>nr_employed</th>\n    </tr>\n    <tr>\n      <th>y</th>\n      <th></th>\n      <th></th>\n      <th></th>\n      <th></th>\n      <th></th>\n      <th></th>\n      <th></th>\n      <th></th>\n      <th></th>\n      <th></th>\n    </tr>\n  </thead>\n  <tbody>\n    <tr>\n      <th>0</th>\n      <td>39.911185</td>\n      <td>220.844807</td>\n      <td>2.633085</td>\n      <td>984.113878</td>\n      <td>0.132374</td>\n      <td>0.248875</td>\n      <td>93.603757</td>\n      <td>-40.593097</td>\n      <td>3.811491</td>\n      <td>5176.166600</td>\n    </tr>\n    <tr>\n      <th>1</th>\n      <td>40.913147</td>\n      <td>553.191164</td>\n      <td>2.051724</td>\n      <td>792.035560</td>\n      <td>0.492672</td>\n      <td>-1.233448</td>\n      <td>93.354386</td>\n      <td>-39.789784</td>\n      <td>2.123135</td>\n      <td>5095.115991</td>\n    </tr>\n  </tbody>\n</table>\n</div>"
     },
     "metadata": {},
     "output_type": "execute_result",
     "execution_count": 18
    }
   ],
   "source": [
    "data.groupby(\"y\").mean()\n"
   ],
   "metadata": {
    "collapsed": false,
    "pycharm": {
     "name": "#%%\n",
     "is_executing": false
    }
   }
  },
  {
   "cell_type": "code",
   "execution_count": 19,
   "outputs": [
    {
     "data": {
      "text/plain": "                     age    duration  campaign       pdays  previous  \\\njob                                                                    \nadmin.         38.187296  254.312128  2.623489  954.319229  0.189023   \nblue-collar    39.555760  264.542360  2.558461  985.160363  0.122542   \nentrepreneur   41.723214  263.267857  2.535714  981.267170  0.138736   \nhousemaid      45.500000  250.454717  2.639623  960.579245  0.137736   \nmanagement     42.362859  257.058140  2.476060  962.647059  0.185021   \nretired        62.027326  273.712209  2.476744  897.936047  0.327326   \nself-employed  39.949331  264.142153  2.660802  976.621393  0.143561   \nservices       37.926430  258.398085  2.587805  979.974049  0.154951   \nstudent        25.894857  283.683429  2.104000  840.217143  0.524571   \ntechnician     38.507638  250.232241  2.577339  964.408127  0.153789   \nunemployed     39.733728  249.451677  2.564103  935.316568  0.199211   \nunknown        45.563636  239.675758  2.648485  938.727273  0.154545   \n\n               emp_var_rate  cons_price_idx  cons_conf_idx  euribor3m  \\\njob                                                                     \nadmin.             0.015563       93.534054     -40.245433   3.550274   \nblue-collar        0.248995       93.656656     -41.375816   3.771996   \nentrepreneur       0.158723       93.605372     -41.283654   3.791120   \nhousemaid          0.433396       93.676576     -39.495283   4.009645   \nmanagement        -0.012688       93.522755     -40.489466   3.611316   \nretired           -0.698314       93.430786     -38.573081   2.770066   \nself-employed      0.094159       93.559982     -40.488107   3.689376   \nservices           0.175359       93.634659     -41.290048   3.699187   \nstudent           -1.408000       93.331613     -40.187543   1.884224   \ntechnician         0.274566       93.561471     -39.927569   3.820401   \nunemployed        -0.111736       93.563781     -40.007594   3.466583   \nunknown            0.357879       93.718942     -38.797879   3.949033   \n\n               nr_employed         y  \njob                                   \nadmin.         5164.125350  0.129726  \nblue-collar    5175.615150  0.068943  \nentrepreneur   5176.313530  0.085165  \nhousemaid      5179.529623  0.100000  \nmanagement     5166.650513  0.112175  \nretired        5122.262151  0.252326  \nself-employed  5170.674384  0.104856  \nservices       5171.600126  0.081381  \nstudent        5085.939086  0.314286  \ntechnician     5175.648391  0.108260  \nunemployed     5157.156509  0.142012  \nunknown        5172.931818  0.112121  ",
      "text/html": "<div>\n<style scoped>\n    .dataframe tbody tr th:only-of-type {\n        vertical-align: middle;\n    }\n\n    .dataframe tbody tr th {\n        vertical-align: top;\n    }\n\n    .dataframe thead th {\n        text-align: right;\n    }\n</style>\n<table border=\"1\" class=\"dataframe\">\n  <thead>\n    <tr style=\"text-align: right;\">\n      <th></th>\n      <th>age</th>\n      <th>duration</th>\n      <th>campaign</th>\n      <th>pdays</th>\n      <th>previous</th>\n      <th>emp_var_rate</th>\n      <th>cons_price_idx</th>\n      <th>cons_conf_idx</th>\n      <th>euribor3m</th>\n      <th>nr_employed</th>\n      <th>y</th>\n    </tr>\n    <tr>\n      <th>job</th>\n      <th></th>\n      <th></th>\n      <th></th>\n      <th></th>\n      <th></th>\n      <th></th>\n      <th></th>\n      <th></th>\n      <th></th>\n      <th></th>\n      <th></th>\n    </tr>\n  </thead>\n  <tbody>\n    <tr>\n      <th>admin.</th>\n      <td>38.187296</td>\n      <td>254.312128</td>\n      <td>2.623489</td>\n      <td>954.319229</td>\n      <td>0.189023</td>\n      <td>0.015563</td>\n      <td>93.534054</td>\n      <td>-40.245433</td>\n      <td>3.550274</td>\n      <td>5164.125350</td>\n      <td>0.129726</td>\n    </tr>\n    <tr>\n      <th>blue-collar</th>\n      <td>39.555760</td>\n      <td>264.542360</td>\n      <td>2.558461</td>\n      <td>985.160363</td>\n      <td>0.122542</td>\n      <td>0.248995</td>\n      <td>93.656656</td>\n      <td>-41.375816</td>\n      <td>3.771996</td>\n      <td>5175.615150</td>\n      <td>0.068943</td>\n    </tr>\n    <tr>\n      <th>entrepreneur</th>\n      <td>41.723214</td>\n      <td>263.267857</td>\n      <td>2.535714</td>\n      <td>981.267170</td>\n      <td>0.138736</td>\n      <td>0.158723</td>\n      <td>93.605372</td>\n      <td>-41.283654</td>\n      <td>3.791120</td>\n      <td>5176.313530</td>\n      <td>0.085165</td>\n    </tr>\n    <tr>\n      <th>housemaid</th>\n      <td>45.500000</td>\n      <td>250.454717</td>\n      <td>2.639623</td>\n      <td>960.579245</td>\n      <td>0.137736</td>\n      <td>0.433396</td>\n      <td>93.676576</td>\n      <td>-39.495283</td>\n      <td>4.009645</td>\n      <td>5179.529623</td>\n      <td>0.100000</td>\n    </tr>\n    <tr>\n      <th>management</th>\n      <td>42.362859</td>\n      <td>257.058140</td>\n      <td>2.476060</td>\n      <td>962.647059</td>\n      <td>0.185021</td>\n      <td>-0.012688</td>\n      <td>93.522755</td>\n      <td>-40.489466</td>\n      <td>3.611316</td>\n      <td>5166.650513</td>\n      <td>0.112175</td>\n    </tr>\n    <tr>\n      <th>retired</th>\n      <td>62.027326</td>\n      <td>273.712209</td>\n      <td>2.476744</td>\n      <td>897.936047</td>\n      <td>0.327326</td>\n      <td>-0.698314</td>\n      <td>93.430786</td>\n      <td>-38.573081</td>\n      <td>2.770066</td>\n      <td>5122.262151</td>\n      <td>0.252326</td>\n    </tr>\n    <tr>\n      <th>self-employed</th>\n      <td>39.949331</td>\n      <td>264.142153</td>\n      <td>2.660802</td>\n      <td>976.621393</td>\n      <td>0.143561</td>\n      <td>0.094159</td>\n      <td>93.559982</td>\n      <td>-40.488107</td>\n      <td>3.689376</td>\n      <td>5170.674384</td>\n      <td>0.104856</td>\n    </tr>\n    <tr>\n      <th>services</th>\n      <td>37.926430</td>\n      <td>258.398085</td>\n      <td>2.587805</td>\n      <td>979.974049</td>\n      <td>0.154951</td>\n      <td>0.175359</td>\n      <td>93.634659</td>\n      <td>-41.290048</td>\n      <td>3.699187</td>\n      <td>5171.600126</td>\n      <td>0.081381</td>\n    </tr>\n    <tr>\n      <th>student</th>\n      <td>25.894857</td>\n      <td>283.683429</td>\n      <td>2.104000</td>\n      <td>840.217143</td>\n      <td>0.524571</td>\n      <td>-1.408000</td>\n      <td>93.331613</td>\n      <td>-40.187543</td>\n      <td>1.884224</td>\n      <td>5085.939086</td>\n      <td>0.314286</td>\n    </tr>\n    <tr>\n      <th>technician</th>\n      <td>38.507638</td>\n      <td>250.232241</td>\n      <td>2.577339</td>\n      <td>964.408127</td>\n      <td>0.153789</td>\n      <td>0.274566</td>\n      <td>93.561471</td>\n      <td>-39.927569</td>\n      <td>3.820401</td>\n      <td>5175.648391</td>\n      <td>0.108260</td>\n    </tr>\n    <tr>\n      <th>unemployed</th>\n      <td>39.733728</td>\n      <td>249.451677</td>\n      <td>2.564103</td>\n      <td>935.316568</td>\n      <td>0.199211</td>\n      <td>-0.111736</td>\n      <td>93.563781</td>\n      <td>-40.007594</td>\n      <td>3.466583</td>\n      <td>5157.156509</td>\n      <td>0.142012</td>\n    </tr>\n    <tr>\n      <th>unknown</th>\n      <td>45.563636</td>\n      <td>239.675758</td>\n      <td>2.648485</td>\n      <td>938.727273</td>\n      <td>0.154545</td>\n      <td>0.357879</td>\n      <td>93.718942</td>\n      <td>-38.797879</td>\n      <td>3.949033</td>\n      <td>5172.931818</td>\n      <td>0.112121</td>\n    </tr>\n  </tbody>\n</table>\n</div>"
     },
     "metadata": {},
     "output_type": "execute_result",
     "execution_count": 19
    }
   ],
   "source": [
    "data.groupby(\"job\").mean()\n",
    "\n"
   ],
   "metadata": {
    "collapsed": false,
    "pycharm": {
     "name": "#%%\n",
     "is_executing": false
    }
   }
  },
  {
   "cell_type": "code",
   "execution_count": 21,
   "outputs": [
    {
     "data": {
      "text/plain": "Text(0, 0.5, 'Frequency of Purchase')"
     },
     "metadata": {},
     "output_type": "execute_result",
     "execution_count": 21
    },
    {
     "data": {
      "text/plain": "<Figure size 432x288 with 1 Axes>",
      "image/png": "[encoded data removed]"
     },
     "metadata": {
      "needs_background": "light"
     },
     "output_type": "display_data"
    }
   ],
   "source": [
    "%matplotlib inline\n",
    "pd.crosstab(data.job,data.y).plot(kind='bar')\n",
    "plt.title('Purchase Frequency for Job Title')\n",
    "plt.xlabel('Job')\n",
    "plt.ylabel('Frequency of Purchase')\n"
   ],
   "metadata": {
    "collapsed": false,
    "pycharm": {
     "name": "#%%\n",
     "is_executing": false
    }
   }
  },
  {
   "cell_type": "code",
   "execution_count": null,
   "outputs": [],
   "source": [
    "\n"
   ],
   "metadata": {
    "collapsed": false,
    "pycharm": {
     "name": "#%%\n"
    }
   }
  }
 ],
 "metadata": {
  "kernelspec": {
   "name": "python3",
   "language": "python",
   "display_name": "Python 3"
  },
  "language_info": {
   "codemirror_mode": {
    "name": "ipython",
    "version": 2
   },
   "file_extension": ".py",
   "mimetype": "text/x-python",
   "name": "python",
   "nbconvert_exporter": "python",
   "pygments_lexer": "ipython2",
   "version": "2.7.6"
  },
  "pycharm": {
   "stem_cell": {
    "cell_type": "raw",
    "source": [],
    "metadata": {
     "collapsed": false
    }
   }
  }
 },
 "nbformat": 4,
 "nbformat_minor": 0
}