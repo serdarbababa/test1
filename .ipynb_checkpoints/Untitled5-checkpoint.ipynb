{
 "cells": [
  {
   "cell_type": "code",
   "execution_count": 40,
   "metadata": {},
   "outputs": [],
   "source": [
    "\n",
    "from modules.Components import Abstract, Context1, Context2, Actuator, Spektron"
   ]
  },
  {
   "cell_type": "code",
   "execution_count": 39,
   "metadata": {
    "scrolled": false
   },
   "outputs": [
    {
     "name": "stdout",
     "output_type": "stream",
     "text": [
      "0 [128, 4, 97, 25, 107, 23, 23, -40]\n",
      "1 [4, 14, 158, 192, 54, -26, 177, -25]\n",
      "2 [162, 170, -27, -76, 219, 173, 165, 209]\n",
      "3 [236, 185, 130, 19, 151, 71, 128, 83]\n",
      "4 [162, 170, -27, -76, 219, 173, 165, 209]\n",
      "indice symbol pattern\n",
      "0 0 [162, 170, -27, -76, 219, 173, 165, 209]\n",
      "1 1 [128, 4, 97, 25, 107, 23, 23, -40]\n",
      "2 2 [83, 104, -20, 131, 57, 192, 193, 102]\n",
      "3 3 [397, 174, 217, 61, 50, 56, -102, 31]\n",
      "4 4 [-43, -7, 298, 118, 276, 90, 114, 121]\n",
      "5 5 [185, 82, 74, 30, 225, -34, 79, 154]\n",
      "6 6 [60, 87, 75, 152, 128, 105, 94, 205]\n",
      "7 7 [199, -45, 128, -13, 182, 59, 97, 219]\n",
      "8 8 [85, -194, -33, 63, 181, 50, 86, 188]\n",
      "9 9 [253, 342, 71, 302, 54, 179, 361, 63]\n",
      "10 + [35, 287, 122, 17, -225, 51, -54, 3]\n",
      "11 - [78, -9, 76, 214, 321, -67, 209, -69]\n",
      "12 * [4, 14, 158, 192, 54, -26, 177, -25]\n",
      "13 / [-1, 199, -77, 115, 199, 22, 234, 71]\n",
      "14 = [236, 185, 130, 19, 151, 71, 128, 83]\n",
      "15 ? [142, -108, -47, 15, 75, 105, 109, 223]\n"
     ]
    }
   ],
   "source": [
    "\n",
    "spek= Spektron()\n",
    "\n",
    "for i in range(1000):\n",
    "    spek.oneBeat(verbose=False)\n",
    "\n",
    "operations= spek.getInstantOperationInput()\n",
    "[print(i, operations[i]) for i in range(len(operations))]\n",
    "#for count, item in enumerate(operations):\n",
    "#    spek.oneBeat(symbol=item, verbose=True)\n",
    "for symbol in operations:\n",
    "    spek.oneComplexBeat(symbol)\n",
    "for symbol in operations[:-1]:\n",
    "    spek.checkOperation(symbol)\n",
    "    \n",
    "for i in range(100):\n",
    "    operations= spek.getInstantOperationInput()\n",
    "    for symbol in operations:\n",
    "        spek.oneComplexBeat(symbol)\n",
    "    \n",
    "    \n",
    "spek.displaySpektron()"
   ]
  },
  {
   "cell_type": "code",
   "execution_count": 31,
   "metadata": {},
   "outputs": [
    {
     "name": "stdout",
     "output_type": "stream",
     "text": [
      "/Users/serdar/Documents/data/train/audio/four/7014b07e_nohash_0.wav\n"
     ]
    }
   ],
   "source": [
    "path =\"/Users/serdar/Documents/data/train/audio/four/7014b07e_nohash_0.wav\"\n",
    "print(path)\n",
    "playsound.playsound(path)\n",
    "\n",
    "\n"
   ]
  },
  {
   "cell_type": "code",
   "execution_count": 32,
   "metadata": {},
   "outputs": [
    {
     "name": "stdout",
     "output_type": "stream",
     "text": [
      "indice symbol pattern\n",
      "0 0 [-58, 132, 78, 14, 8, 235, 130, 153]\n",
      "1 1 [16, 151, 30, -60, 257, 82, 53, 113]\n",
      "2 2 [193, 176, 128, 116, -48, 69, 121, 207]\n",
      "3 3 [49, 59, 48, 110, 105, 218, 3, 310]\n",
      "4 4 [90, 201, 61, 173, 121, -108, 35, 136]\n",
      "5 5 [10, 146, 193, -140, 70, 246, 168, -16]\n",
      "6 6 [-5, -11, 138, 72, 100, 29, 173, 161]\n",
      "7 7 [16, 102, 109, 59, 91, 89, 51, 143]\n",
      "8 8 [210, 87, 186, 155, -63, 74, 138, 118]\n",
      "9 9 [193, 114, 148, 41, 207, -74, 181, -55]\n",
      "10 + [247, 144, 13, -69, -131, 191, 175, 58]\n",
      "11 - [24, 2, 94, 249, 171, 39, 150, 94]\n",
      "12 * [154, 87, 169, 176, -76, -109, 62, 210]\n",
      "13 / [46, 67, 116, 300, 189, 122, 125, 52]\n",
      "14 = [61, 64, -4, 120, 355, 79, 275, 222]\n",
      "15 ? [186, -14, 222, 18, 35, -19, -15, -54]\n",
      "[[16, 151, 30, -60, 257, 82, 53, 113], [247, 144, 13, -69, -131, 191, 175, 58], [16, 151, 30, -60, 257, 82, 53, 113], [61, 64, -4, 120, 355, 79, 275, 222]]\n",
      "0 [16, 151, 30, -60, 257, 82, 53, 113]\n",
      "1 [247, 144, 13, -69, -131, 191, 175, 58]\n",
      "2 [16, 151, 30, -60, 257, 82, 53, 113]\n",
      "3 [61, 64, -4, 120, 355, 79, 275, 222]\n",
      "10\n",
      "output branch values  []\n",
      "8\n",
      "output branch values  [10.04, 145.96, 193.04, -139.95, 70.05, 245.95, 167.96, -15.96]\n",
      "wrong prediction, predict again \n",
      "output branch values  []\n"
     ]
    }
   ],
   "source": [
    "import sys\n",
    "#sys.path.append(r\"C:\\Users\\dellCTA\\OneDrive\\teza\\code\\simplu\\test1\\modules\")\n",
    "\n",
    "from modules.Components import Abstract, Context1, Context2, Actuator, Spektron\n",
    "from modules.Veri import Veri\n",
    "from scipy.io import wavfile\n",
    "import matplotlib.pyplot as plt\n",
    "import numpy as np\n",
    "import playsound\n",
    "import pyAudioAnalysis\n",
    "#from python_speech_features import mfcc, logfbank\n",
    "from fnmatch import fnmatch\n",
    "import os\n",
    "from python_speech_features import mfcc, logfbank\n",
    "\n",
    "\n",
    "\n",
    "def browseFolder( root, pattern):\n",
    "    print(root)\n",
    "    lista = []\n",
    "    # pattern = \"*.lyr\"\n",
    "    for path, subdirs, files in os.walk(root):\n",
    "        # print( path\n",
    "        for name in files:\n",
    "            if fnmatch(name.lower(), pattern):\n",
    "                lista.append(os.path.join(path, name))\n",
    "    return lista\n",
    "\n",
    "def calistirma():\n",
    "\n",
    "    spek = Spektron()\n",
    "\n",
    "    for i in range(1000):\n",
    "        spek.oneBeat(verbose=False)\n",
    "\n",
    "    spek.displaySpektron()\n",
    "    operations = [spek.v.symbols[1], spek.v.symbols[10], spek.v.symbols[1], spek.v.symbols[14]]\n",
    "    print(operations)\n",
    "    for i in range(len(operations)):\n",
    "        print(i, operations[i])\n",
    "\n",
    "\n",
    "    for symbol in operations:\n",
    "        spek.checkOperation1(symbol)\n",
    "\n",
    "    for symbol in operations:\n",
    "        spek.checkOperation1(symbol)\n",
    "\n",
    "\n",
    "    for symbol in operations:\n",
    "        spek.checkOperation1(symbol)\n",
    "    # operations = spek.getInstantOperationInput()\n",
    "    # [print(i, operations[i]) for i in range(len(operations))]\n",
    "    # # for count, item in enumerate(operations):\n",
    "    # #    spek.oneBeat(symbol=item, verbose=True)\n",
    "    # for symbol in operations:\n",
    "    #     spek.oneComplexBeat(symbol)\n",
    "    # for symbol in operations[:-1]:\n",
    "    #     spek.checkOperation(symbol)\n",
    "    #\n",
    "    # for i in range(100):\n",
    "    #     operations = spek.getInstantOperationInput()\n",
    "    #     for symbol in operations:\n",
    "    #         spek.oneComplexBeat(symbol)\n",
    "\n",
    "    #spek.displaySpektron()\n",
    "\n",
    "def waveletDonustur(data):\n",
    "    v = Veri()\n",
    "    m=[]\n",
    "    plt.plot(data)\n",
    "    plt.show()\n",
    "    for i in range(int(len(data)/128)):\n",
    "        coefs = v.getWaveletCoefs(data[i*128:(i+1)*128])\n",
    "        m.append(coefs)\n",
    "    print(len(m))\n",
    "    m=np.array(m).T\n",
    "\n",
    "    cax= plt.matshow(m)\n",
    "    plt.xlabel(\"Time\")\n",
    "    plt.ylabel(\"Wavelet Coeff\")\n",
    "    plt.colorbar(cax)\n",
    "    plt.title('wavelet')\n",
    "    plt.show()\n",
    "\n",
    "    plt.hist(m)\n",
    "    plt.show()\n",
    "\n",
    "\n",
    "def deney():\n",
    "    path =\"/Users/serdar/Documents/data/train/audio/\"\n",
    "    f = [r\"four/747e69fd_nohash_0.wav\",\n",
    "         r\"C:\\serdar\\data\\train\\train\\audio\\digits\\five\\afd53389_nohash_0.wav\",\n",
    "         r\"C:\\serdar\\data\\train\\train\\audio\\digits\\eight\\df6bd83f_nohash_1.wav\",\n",
    "         r\"C:\\serdar\\data\\train\\train\\audio\\digits\\one\\08ab8082_nohash_0.wav\",\n",
    "         r\"C:\\serdar\\data\\train\\train\\audio\\digits\\eight\\f17be97f_nohash_2.wav\",\n",
    "         r\"C:\\serdar\\data\\train\\train\\audio\\digits\\four\\2f666bb2_nohash_1.wav\",\n",
    "         r\"C:\\serdar\\data\\train\\train\\audio\\digits\\six\\3b852f6f_nohash_0.wav\",\n",
    "         r\"C:\\serdar\\data\\train\\train\\audio\\digits\\seven\\fd395b74_nohash_3.wav\",\n",
    "         r\"C:\\serdar\\data\\train\\train\\audio\\digits\\two\\172dc2b0_nohash_1.wav\",\n",
    "         r\"C:\\serdar\\data\\train\\train\\audio\\digits\\zero\\0fa1e7a9_nohash_0.wav\"]\n",
    "    f = browseFolder(r\"C:\\serdar\\data\\train\\train\\audio\\digits\", \"*.wav\")\n",
    "    abstract = Abstract(16, 0)\n",
    "    leafs = []\n",
    "    for i in range(10):\n",
    "        playsound.playsound(f[i])\n",
    "        print(i,f[i])\n",
    "\n",
    "        frequency_sampling, data = wavfile.read(f[i])\n",
    "        plt.plot(data)\n",
    "        plt.show()\n",
    "        continue\n",
    "\n",
    "\n",
    "        features_mfcc = mfcc(data, frequency_sampling, numcep=16,)\n",
    "        a=features_mfcc[0]\n",
    "        for i in range(int(len(features_mfcc) )):\n",
    "            abstract_output = abstract.learnSymbol(features_mfcc[i ], False)\n",
    "            leafs.append(abstract_output)\n",
    "\n",
    "\n",
    "        #print('\\nMFCC:\\nNumber of windows =', features_mfcc.shape[0])\n",
    "        #print('Length of each feature =', features_mfcc.shape[1])\n",
    "\n",
    "        #features_mfcc = features_mfcc.T\n",
    "        #cax = plt.matshow(features_mfcc)\n",
    "        #plt.title('MFCC')\n",
    "        #plt.colorbar(cax)\n",
    "        #plt.show()\n",
    "\n",
    "        print(\"son yaprak\", leafs[-1])\n",
    "        continue\n",
    "\n",
    "        #playsound.playsound(f[i])\n",
    "        print(i,f[i])\n",
    "        #waveletDonustur(data)\n",
    "\n",
    "        for i in range(int(len(data) / 128)):\n",
    "            abstract_output = abstract.learnSymbol(data[i * 128:(i + 1) * 128], False)\n",
    "            leafs.append(abstract_output)\n",
    "        print(\"son yaprak\" , leafs[-1])\n",
    "    plt.plot(leafs)\n",
    "    plt.show()\n",
    "        #features_mfcc = mfcc(audio_signal, frequency_sampling, numcep=8)\n",
    "        #print('\\nMFCC:\\nNumber of windows =', features_mfcc.shape[0])\n",
    "        #print('Length of each feature =', features_mfcc.shape[1])\n",
    "\n",
    "\n",
    "        #\n",
    "\n",
    "\n",
    "def deney1():\n",
    "    f = [r\"C:\\serdar\\data\\train\\train\\audio\\digits\\four\\747e69fd_nohash_0.wav\",\n",
    "         r\"C:\\serdar\\data\\train\\train\\audio\\digits\\five\\afd53389_nohash_0.wav\",\n",
    "         r\"C:\\serdar\\data\\train\\train\\audio\\digits\\eight\\df6bd83f_nohash_1.wav\",\n",
    "         r\"C:\\serdar\\data\\train\\train\\audio\\digits\\one\\08ab8082_nohash_0.wav\",\n",
    "         r\"C:\\serdar\\data\\train\\train\\audio\\digits\\eight\\f17be97f_nohash_2.wav\",\n",
    "         r\"C:\\serdar\\data\\train\\train\\audio\\digits\\four\\2f666bb2_nohash_1.wav\",\n",
    "         r\"C:\\serdar\\data\\train\\train\\audio\\digits\\six\\3b852f6f_nohash_0.wav\",\n",
    "         r\"C:\\serdar\\data\\train\\train\\audio\\digits\\seven\\fd395b74_nohash_3.wav\",\n",
    "         r\"C:\\serdar\\data\\train\\train\\audio\\digits\\two\\172dc2b0_nohash_1.wav\",\n",
    "         r\"C:\\serdar\\data\\train\\train\\audio\\digits\\zero\\0fa1e7a9_nohash_0.wav\"]\n",
    "    #f = browseFolder(r\"C:\\serdar\\data\\train\\train\\audio\\digits\", \"*.wav\")\n",
    "    abstract = Abstract(128, 0)\n",
    "    leafs = []\n",
    "    for i in range(2):\n",
    "        #playsound.playsound(f[i])\n",
    "        frequency_sampling, data = wavfile.read(f[i])\n",
    "\n",
    "\n",
    "\n",
    "        #playsound.playsound(f[i])\n",
    "        print(i,f[i])\n",
    "        #waveletDonustur(data)\n",
    "\n",
    "        for i in range(int(len(data) / 128)):\n",
    "            abstract_output = abstract.learnSymbol(data[i * 128:(i + 1) * 128], False)\n",
    "            leafs.append(abstract_output)\n",
    "        print(\"son yaprak\" , leafs[-1])\n",
    "    plt.plot(leafs)\n",
    "    plt.show()\n",
    "        #features_mfcc = mfcc(audio_signal, frequency_sampling, numcep=8)\n",
    "        #print('\\nMFCC:\\nNumber of windows =', features_mfcc.shape[0])\n",
    "        #print('Length of each feature =', features_mfcc.shape[1])\n",
    "\n",
    "\n",
    "        #\n",
    "\n",
    "def features():\n",
    "    f = [r\"C:\\serdar\\data\\train\\train\\audio\\digits\\four\\747e69fd_nohash_0.wav\",\n",
    "         r\"C:\\serdar\\data\\train\\train\\audio\\digits\\five\\afd53389_nohash_0.wav\",\n",
    "         r\"C:\\serdar\\data\\train\\train\\audio\\digits\\eight\\df6bd83f_nohash_1.wav\",\n",
    "         r\"C:\\serdar\\data\\train\\train\\audio\\digits\\one\\08ab8082_nohash_0.wav\",\n",
    "         r\"C:\\serdar\\data\\train\\train\\audio\\digits\\eight\\f17be97f_nohash_2.wav\",\n",
    "         r\"C:\\serdar\\data\\train\\train\\audio\\digits\\four\\2f666bb2_nohash_1.wav\",\n",
    "         r\"C:\\serdar\\data\\train\\train\\audio\\digits\\six\\3b852f6f_nohash_0.wav\",\n",
    "         r\"C:\\serdar\\data\\train\\train\\audio\\digits\\seven\\fd395b74_nohash_3.wav\",\n",
    "         r\"C:\\serdar\\data\\train\\train\\audio\\digits\\two\\172dc2b0_nohash_1.wav\",\n",
    "         r\"C:\\serdar\\data\\train\\train\\audio\\digits\\zero\\0fa1e7a9_nohash_0.wav\"]\n",
    "    frequency_sampling, audio_signal = wavfile.read(f[1])\n",
    "    features_mfcc = mfcc(audio_signal, frequency_sampling, numcep=16)\n",
    "\n",
    "    print('\\nMFCC:\\nNumber of windows =', features_mfcc.shape[0])\n",
    "    print('Length of each feature =', features_mfcc.shape[1])\n",
    "\n",
    "    features_mfcc = features_mfcc.T\n",
    "    cax = plt.matshow(features_mfcc)\n",
    "    plt.title('MFCC')\n",
    "    plt.colorbar(cax)\n",
    "    plt.show()\n",
    "\n",
    "calistirma()\n",
    "#features()\n",
    "#deney()\n"
   ]
  },
  {
   "cell_type": "code",
   "execution_count": 33,
   "metadata": {},
   "outputs": [],
   "source": [
    "spek = Spektron()\n",
    "\n",
    "for i in range(1000):\n",
    "    spek.oneBeat(verbose=False)\n"
   ]
  },
  {
   "cell_type": "code",
   "execution_count": 34,
   "metadata": {},
   "outputs": [
    {
     "name": "stdout",
     "output_type": "stream",
     "text": [
      "indice symbol pattern\n",
      "0 0 [8, -83, 48, 79, 195, 80, 136, 72]\n",
      "1 1 [81, 266, 264, 151, 82, 104, -14, 226]\n",
      "2 2 [166, 19, -51, 132, -3, 166, 27, 135]\n",
      "3 3 [76, 119, -10, 29, 219, -23, 133, 187]\n",
      "4 4 [14, -1, 208, 121, -102, 309, 190, 97]\n",
      "5 5 [51, 149, 66, 124, -8, -28, 6, 132]\n",
      "6 6 [28, 87, 144, 48, 133, 36, 90, 53]\n",
      "7 7 [81, -54, -11, 203, 91, 153, 190, 208]\n",
      "8 8 [216, 124, -32, 224, 160, 73, -94, 139]\n",
      "9 9 [102, 69, 153, 133, 84, -68, -4, 121]\n",
      "10 + [119, 225, 52, 175, 119, 58, 349, 15]\n",
      "11 - [198, 162, 217, 140, 80, 153, 161, 226]\n",
      "12 * [62, 128, -41, 121, -35, 158, 186, -40]\n",
      "13 / [47, 169, 177, -162, 56, 202, 95, -80]\n",
      "14 = [-69, 31, 202, -14, 28, 37, 139, 77]\n",
      "15 ? [-7, 111, 56, 20, 242, 245, 264, -2]\n"
     ]
    }
   ],
   "source": [
    "\n",
    "spek.displaySpektron()\n"
   ]
  },
  {
   "cell_type": "code",
   "execution_count": 35,
   "metadata": {},
   "outputs": [
    {
     "name": "stdout",
     "output_type": "stream",
     "text": [
      "0 [81, 266, 264, 151, 82, 104, -14, 226]\n",
      "1 [119, 225, 52, 175, 119, 58, 349, 15]\n",
      "2 [81, 266, 264, 151, 82, 104, -14, 226]\n",
      "3 [-69, 31, 202, -14, 28, 37, 139, 77]\n"
     ]
    }
   ],
   "source": [
    "operations = [spek.v.symbols[1], spek.v.symbols[10], spek.v.symbols[1], spek.v.symbols[14]]\n",
    "\n",
    "for i in range(len(operations)):\n",
    "    print(i, operations[i])\n"
   ]
  },
  {
   "cell_type": "code",
   "execution_count": 36,
   "metadata": {},
   "outputs": [
    {
     "name": "stdout",
     "output_type": "stream",
     "text": [
      "11\n",
      "output branch values  []\n"
     ]
    }
   ],
   "source": [
    "for symbol in operations:\n",
    "    spek.checkOperation1(symbol)\n",
    "\n"
   ]
  },
  {
   "cell_type": "code",
   "execution_count": 37,
   "metadata": {},
   "outputs": [
    {
     "name": "stdout",
     "output_type": "stream",
     "text": [
      "15\n",
      "output branch values  [81.05, -53.96, -10.96, 202.96, 91.05, 152.96, 189.95, 207.96]\n"
     ]
    }
   ],
   "source": [
    "for symbol in operations:\n",
    "    spek.checkOperation1(symbol)\n"
   ]
  },
  {
   "cell_type": "code",
   "execution_count": 38,
   "metadata": {},
   "outputs": [
    {
     "name": "stdout",
     "output_type": "stream",
     "text": [
      "wrong prediction, predict again \n",
      "output branch values  []\n"
     ]
    }
   ],
   "source": [
    "for symbol in operations:\n",
    "    spek.checkOperation1(symbol)"
   ]
  },
  {
   "cell_type": "code",
   "execution_count": null,
   "metadata": {},
   "outputs": [],
   "source": []
  },
  {
   "cell_type": "code",
   "execution_count": null,
   "metadata": {},
   "outputs": [],
   "source": []
  }
 ],
 "metadata": {
  "kernelspec": {
   "display_name": "Python 3",
   "language": "python",
   "name": "python3"
  },
  "language_info": {
   "codemirror_mode": {
    "name": "ipython",
    "version": 3
   },
   "file_extension": ".py",
   "mimetype": "text/x-python",
   "name": "python",
   "nbconvert_exporter": "python",
   "pygments_lexer": "ipython3",
   "version": "3.6.6"
  }
 },
 "nbformat": 4,
 "nbformat_minor": 2
}
