{
 "cells": [
  {
   "cell_type": "code",
   "execution_count": 10,
   "metadata": {},
   "outputs": [
    {
     "ename": "ModuleNotFoundError",
     "evalue": "No module named 'modules'",
     "traceback": [
      "\u001b[0;31m---------------------------------------------------------------------------\u001b[0m",
      "\u001b[0;31mModuleNotFoundError\u001b[0m                       Traceback (most recent call last)",
      "\u001b[0;32m<ipython-input-10-e9563ff6054f>\u001b[0m in \u001b[0;36m<module>\u001b[0;34m\u001b[0m\n\u001b[0;32m----> 1\u001b[0;31m \u001b[0;32mfrom\u001b[0m \u001b[0mmodules\u001b[0m\u001b[0;34m.\u001b[0m\u001b[0mComponents\u001b[0m \u001b[0;32mimport\u001b[0m \u001b[0mAbstract\u001b[0m\u001b[0;34m,\u001b[0m \u001b[0mContext1\u001b[0m\u001b[0;34m,\u001b[0m \u001b[0mContext2\u001b[0m\u001b[0;34m,\u001b[0m \u001b[0mActuator\u001b[0m\u001b[0;34m,\u001b[0m \u001b[0mSpektron\u001b[0m\u001b[0;34m\u001b[0m\u001b[0m\n\u001b[0m",
      "\u001b[0;31mModuleNotFoundError\u001b[0m: No module named 'modules'"
     ],
     "output_type": "error"
    }
   ],
   "source": [
    "\n",
    "from modules.Components import Abstract, Context1, Context2, Actuator, Spektron"
   ]
  },
  {
   "cell_type": "code",
   "execution_count": 4,
   "metadata": {
    "scrolled": false
   },
   "outputs": [
    {
     "ename": "NameError",
     "evalue": "name 'Spektron' is not defined",
     "traceback": [
      "\u001b[0;31m---------------------------------------------------------------------------\u001b[0m",
      "\u001b[0;31mNameError\u001b[0m                                 Traceback (most recent call last)",
      "\u001b[0;32m<ipython-input-4-b533d9efdd7b>\u001b[0m in \u001b[0;36m<module>\u001b[0;34m\u001b[0m\n\u001b[1;32m      1\u001b[0m \u001b[0;34m\u001b[0m\u001b[0m\n\u001b[0;32m----> 2\u001b[0;31m \u001b[0mspek\u001b[0m\u001b[0;34m=\u001b[0m \u001b[0mSpektron\u001b[0m\u001b[0;34m(\u001b[0m\u001b[0;34m)\u001b[0m\u001b[0;34m\u001b[0m\u001b[0m\n\u001b[0m\u001b[1;32m      3\u001b[0m \u001b[0;34m\u001b[0m\u001b[0m\n\u001b[1;32m      4\u001b[0m \u001b[0;32mfor\u001b[0m \u001b[0mi\u001b[0m \u001b[0;32min\u001b[0m \u001b[0mrange\u001b[0m\u001b[0;34m(\u001b[0m\u001b[0;36m1000\u001b[0m\u001b[0;34m)\u001b[0m\u001b[0;34m:\u001b[0m\u001b[0;34m\u001b[0m\u001b[0m\n\u001b[1;32m      5\u001b[0m     \u001b[0mspek\u001b[0m\u001b[0;34m.\u001b[0m\u001b[0moneBeat\u001b[0m\u001b[0;34m(\u001b[0m\u001b[0mverbose\u001b[0m\u001b[0;34m=\u001b[0m\u001b[0;32mFalse\u001b[0m\u001b[0;34m)\u001b[0m\u001b[0;34m\u001b[0m\u001b[0m\n",
      "\u001b[0;31mNameError\u001b[0m: name 'Spektron' is not defined"
     ],
     "output_type": "error"
    }
   ],
   "source": [
    "\n",
    "spek= Spektron()\n",
    "\n",
    "for i in range(1000):\n",
    "    spek.oneBeat(verbose=False)\n",
    "\n",
    "operations= spek.getInstantOperationInput()\n",
    "[print(i, operations[i]) for i in range(len(operations))]\n",
    "#for count, item in enumerate(operations):\n",
    "#    spek.oneBeat(symbol=item, verbose=True)\n",
    "for symbol in operations:\n",
    "    spek.oneComplexBeat(symbol)\n",
    "for symbol in operations[:-1]:\n",
    "    spek.checkOperation(symbol)\n",
    "    \n",
    "for i in range(100):\n",
    "    operations= spek.getInstantOperationInput()\n",
    "    for symbol in operations:\n",
    "        spek.oneComplexBeat(symbol)\n",
    "    \n",
    "    \n",
    "spek.displaySpektron()"
   ]
  },
  {
   "cell_type": "code",
   "execution_count": null,
   "metadata": {},
   "outputs": [],
   "source": []
  }
 ],
 "metadata": {
  "kernelspec": {
   "display_name": "Python 3",
   "language": "python",
   "name": "python3"
  },
  "language_info": {
   "codemirror_mode": {
    "name": "ipython",
    "version": 3
   },
   "file_extension": ".py",
   "mimetype": "text/x-python",
   "name": "python",
   "nbconvert_exporter": "python",
   "pygments_lexer": "ipython3",
   "version": "3.6.5"
  }
 },
 "nbformat": 4,
 "nbformat_minor": 2
}
