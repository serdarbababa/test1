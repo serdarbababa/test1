{
 "cells": [
  {
   "cell_type": "code",
   "execution_count": 1,
   "outputs": [],
   "source": [
    "# md\n",
    "\n",
    "# Algorithms\n",
    "\n",
    "###  Linear Regression\n",
    "### SVM (Support Vector Machine)\n",
    "### KNN (K-Nearest Neighbors)\n",
    "### Logistic Regression\n",
    "### Decision Tree\n",
    "### K-Means\n",
    "### Random Forest\n",
    "### Naive Bayes\n",
    "### Dimensional Reduction Algorithms\n",
    "### Gradient Boosting Algorithms"
   ],
   "metadata": {
    "collapsed": false,
    "pycharm": {
     "name": "#%%\n",
     "is_executing": false
    }
   }
  },
  {
   "cell_type": "code",
   "execution_count": null,
   "outputs": [],
   "source": [
    "\n"
   ],
   "metadata": {
    "collapsed": false,
    "pycharm": {
     "name": "#%%\n"
    }
   }
  },
  {
   "cell_type": "markdown",
   "source": [
    "# 1. Linear Regression\n",
    "Linear Regression algorithm will use the data points to find the best fit line to model the data. A line can be represented by the equation, y = m*x + c where y is the dependent variable and x is the independent variable. Basic calculus theories are applied to find the values for m and c using the given data set.\n",
    "Linear Regression has 2 types as Simple Linear Regression where only 1 independent variable is used and Multiple Linear Regression where multiple independent variables are defined.\n",
    "\n",
    "âscikit-learnâ is a simple and efficient tool using for machine learning in python. Following is an implementation of Linear Regression using scikit-learn."
   ],
   "metadata": {
    "collapsed": false
   }
  },
  {
   "cell_type": "code",
   "execution_count": 11,
   "outputs": [
    {
     "name": "stdout",
     "text": [
      "[8.86342983]\n8\n"
     ],
     "output_type": "stream"
    }
   ],
   "source": [
    "from sklearn import linear_model, datasets\n",
    "\n",
    "#digit dataset from sklearn\n",
    "digits = datasets.load_digits()\n",
    "\n",
    "#create the LinearRegression model\n",
    "clf = linear_model.LinearRegression()\n",
    "\n",
    "#set training set\n",
    "x, y = digits.data[:-1], digits.target[:-1]\n",
    "\n",
    "#train model\n",
    "clf.fit(x, y)\n",
    "\n",
    "#predict\n",
    "y_pred = clf.predict([digits.data[-1]])\n",
    "y_true = digits.target[-1]\n",
    "\n",
    "print(y_pred)\n",
    "print(y_true)"
   ],
   "metadata": {
    "collapsed": false,
    "pycharm": {
     "name": "#%%\n",
     "is_executing": false
    }
   }
  },
  {
   "cell_type": "code",
   "execution_count": 12,
   "outputs": [
    {
     "data": {
      "text/plain": "array([-5.88650643e-16,  8.39142662e-02, -9.66033132e-03, -2.82451003e-02,\n        5.82376798e-02, -4.54526776e-03, -3.47284198e-02, -5.53999778e-03,\n        1.17720812e+00, -2.70300495e-02,  1.03647951e-01,  4.39541413e-02,\n       -6.56610825e-02, -7.46822647e-02,  8.77039212e-02,  2.37690861e-01,\n       -9.20891767e-01,  2.07935490e-02,  7.92647618e-02, -3.10958840e-02,\n       -6.75661743e-02,  4.90282835e-02, -5.53207681e-02, -2.58738355e-01,\n       -9.00163279e-01, -1.57629621e-01,  3.70335859e-02,  8.46883603e-02,\n        7.21011788e-02,  9.38105139e-02, -1.91048564e-02, -2.80454868e+00,\n       -3.56520369e-14, -1.57635937e-01, -2.03150956e-02,  1.35536397e-01,\n       -4.55330598e-02,  3.51695139e-02, -1.05286112e-02, -9.88098492e-15,\n        1.32012258e-01,  1.10973932e-01, -1.72593064e-02, -6.63177448e-03,\n        1.12485203e-01,  5.59455296e-02,  9.24314907e-03,  9.83085666e-02,\n        6.00519957e-01,  2.88782556e-02, -5.87813585e-03, -6.64045964e-02,\n       -2.06464257e-01, -4.09877576e-02,  1.04206504e-01, -1.47957666e-01,\n       -1.26507667e+00, -1.37699192e-01,  8.05752113e-03, -6.19482404e-02,\n       -6.60981411e-03, -7.91305334e-02, -3.20622450e-03, -5.44163979e-02])"
     },
     "metadata": {},
     "output_type": "execute_result",
     "execution_count": 12
    }
   ],
   "source": [
    "clf.coef_"
   ],
   "metadata": {
    "collapsed": false,
    "pycharm": {
     "name": "#%%\n",
     "is_executing": false
    }
   }
  },
  {
   "cell_type": "code",
   "execution_count": null,
   "outputs": [],
   "source": [
    "print(len(digits[\"data\"]))\n",
    "print(digits.data.shape)\n",
    "print(digits.keys())\n",
    "\n",
    "i=100\n",
    "print(clf)\n",
    "print(digits[\"data\"][i])\n",
    "print(digits[\"target\"][i])\n",
    "\n",
    "import matplotlib.pyplot as plt \n",
    "plt.gray() \n",
    "plt.matshow(digits.images[i]) \n",
    "plt.show() \n"
   ],
   "metadata": {
    "collapsed": false,
    "pycharm": {
     "name": "#%%\n"
    }
   }
  },
  {
   "cell_type": "code",
   "execution_count": 6,
   "outputs": [],
   "source": [
    "\n"
   ],
   "metadata": {
    "collapsed": false,
    "pycharm": {
     "name": "#%%\n",
     "is_executing": false
    }
   }
  },
  {
   "cell_type": "code",
   "execution_count": 7,
   "outputs": [
    {
     "name": "stdout",
     "text": [
      "Coefficients: \n [938.23786125]\nMean squared error: 2548.07\nVariance score: 0.47\n"
     ],
     "output_type": "stream"
    },
    {
     "data": {
      "text/plain": "<Figure size 432x288 with 1 Axes>",
      "image/png": "[encoded data removed]"
     },
     "metadata": {
      "needs_background": "light"
     },
     "output_type": "display_data"
    }
   ],
   "source": [
    "import matplotlib.pyplot as plt\n",
    "import numpy as np\n",
    "from sklearn import datasets, linear_model\n",
    "from sklearn.metrics import mean_squared_error, r2_score\n",
    "\n",
    "# Load the diabetes dataset\n",
    "diabetes = datasets.load_diabetes()\n",
    "\n",
    "\n",
    "# Use only one feature\n",
    "diabetes_X = diabetes.data[:, np.newaxis, 2]\n",
    "\n",
    "# Split the data into training/testing sets\n",
    "diabetes_X_train = diabetes_X[:-20]\n",
    "diabetes_X_test = diabetes_X[-20:]\n",
    "\n",
    "# Split the targets into training/testing sets\n",
    "diabetes_y_train = diabetes.target[:-20]\n",
    "diabetes_y_test = diabetes.target[-20:]\n",
    "\n",
    "# Create linear regression object\n",
    "regr = linear_model.LinearRegression()\n",
    "\n",
    "# Train the model using the training sets\n",
    "regr.fit(diabetes_X_train, diabetes_y_train)\n",
    "\n",
    "# Make predictions using the testing set\n",
    "diabetes_y_pred = regr.predict(diabetes_X_test)\n",
    "\n",
    "# The coefficients\n",
    "print('Coefficients: \\n', regr.coef_)\n",
    "# The mean squared error\n",
    "print(\"Mean squared error: %.2f\"\n",
    "      % mean_squared_error(diabetes_y_test, diabetes_y_pred))\n",
    "# Explained variance score: 1 is perfect prediction\n",
    "print('Variance score: %.2f' % r2_score(diabetes_y_test, diabetes_y_pred))\n",
    "\n",
    "# Plot outputs\n",
    "plt.scatter(diabetes_X_test, diabetes_y_test,  color='black')\n",
    "plt.plot(diabetes_X_test, diabetes_y_pred, color='blue', linewidth=3)\n",
    "\n",
    "#plt.xticks(())\n",
    "#plt.yticks(())\n",
    "\n",
    "plt.show()"
   ],
   "metadata": {
    "collapsed": false,
    "pycharm": {
     "name": "#%%\n",
     "is_executing": false
    }
   }
  },
  {
   "cell_type": "code",
   "execution_count": 8,
   "outputs": [
    {
     "name": "stdout",
     "text": [
      "442\n(442, 10)\ndict_keys(['data', 'target', 'DESCR', 'feature_names', 'data_filename', 'target_filename'])\nLinearRegression(copy_X=True, fit_intercept=True, n_jobs=None,\n         normalize=False)\n[ 0.01628068 -0.04464164  0.01750591 -0.02288496  0.06034892  0.0444058\n  0.03023191 -0.00259226  0.03723201 -0.0010777 ]\n128.0\n"
     ],
     "output_type": "stream"
    }
   ],
   "source": [
    "print(len(diabetes[\"data\"]))\n",
    "print(diabetes.data.shape)\n",
    "print(diabetes.keys())\n",
    "\n",
    "i=100\n",
    "print(regr)\n",
    "print(diabetes[\"data\"][i])\n",
    "print(diabetes[\"target\"][i])\n",
    "\n"
   ],
   "metadata": {
    "collapsed": false,
    "pycharm": {
     "name": "#%%\n",
     "is_executing": false
    }
   }
  },
  {
   "cell_type": "markdown",
   "source": [
    "## 2. SVM (Support Vector Machine)\n",
    "This belongs to classification type algorithm. The algorithm will separate the data points using a line. This line is chosen such that it will be furthermost from the nearest data points in 2 categories.\n",
    "\n",
    "In above diagram red line is the best line since it has the most distance from the nearest points. Based on this line data points are classified into 2 groups."
   ],
   "metadata": {
    "collapsed": false
   }
  },
  {
   "cell_type": "code",
   "execution_count": 9,
   "outputs": [
    {
     "name": "stdout",
     "text": [
      "[8]\n8\n"
     ],
     "output_type": "stream"
    }
   ],
   "source": [
    "from sklearn import svm, datasets\n",
    "\n",
    "#digit dataset from sklearn\n",
    "digits = datasets.load_digits()\n",
    "\n",
    "#create the  Support Vector Classifier\n",
    "clf = svm.SVC(gamma = 0.001, C = 100)\n",
    "\n",
    "#set training set\n",
    "x, y = digits.data[:-1], digits.target[:-1]\n",
    "\n",
    "#train model\n",
    "clf.fit(x, y)\n",
    "\n",
    "#predict\n",
    "y_pred = clf.predict([digits.data[-1]])\n",
    "y_true = digits.target[-1]\n",
    "\n",
    "print(y_pred)\n",
    "print(y_true)\n"
   ],
   "metadata": {
    "collapsed": false,
    "pycharm": {
     "name": "#%%\n",
     "is_executing": false
    }
   }
  },
  {
   "cell_type": "markdown",
   "source": [
    "## 3. KNN (K-Nearest Neighbors)\n",
    "This is a simple algorithm which predicts unknown data point with its k nearest neighbors. The value of k is a critical factor here regarding the accuracy of prediction. It determines the nearest by calculating the distance using basic distance functions like Euclidean.\n",
    "<p>\n",
    "However, this algorithm needs high computation power and we need to normalize data initially to bring every data point to same range"
   ],
   "metadata": {
    "collapsed": false
   }
  },
  {
   "cell_type": "code",
   "execution_count": 10,
   "outputs": [
    {
     "name": "stdout",
     "text": [
      "[8]\n8\n"
     ],
     "output_type": "stream"
    }
   ],
   "source": [
    "from sklearn import datasets\n",
    "from sklearn.neighbors import KNeighborsClassifier\n",
    "\n",
    "#digit dataset from sklearn\n",
    "digits = datasets.load_digits()\n",
    "\n",
    "#create the  KNeighborsClassifier\n",
    "clf = KNeighborsClassifier(n_neighbors=6)\n",
    "\n",
    "#set training set\n",
    "x, y = digits.data[:-1], digits.target[:-1]\n",
    "\n",
    "#train model\n",
    "clf.fit(x, y)\n",
    "\n",
    "#predict\n",
    "y_pred = clf.predict([digits.data[-1]])\n",
    "y_true = digits.target[-1]\n",
    "\n",
    "print(y_pred)\n",
    "print(y_true)"
   ],
   "metadata": {
    "collapsed": false,
    "pycharm": {
     "name": "#%%\n",
     "is_executing": false
    }
   }
  },
  {
   "cell_type": "markdown",
   "source": [
    "## 4. Logistic Regression\n",
    "Logistic Regression is used where a discreet output is expected such as the occurrence of some event (Ex. predict whether rain will occur or not). Usually, Logistic regression uses some function to squeeze values to a particular range.\n",
    "\n",
    "Sigmoid (Logistic function) is one of such function which has âSâ shape curve used for binary classification. It converts values to the range of 0, 1 which interpreted as a probability of occurring some event.\n",
    "y = e^(b0 + b1*x) / (1 + e^(b0 + b1*x))\n",
    "\n",
    "Above is a simple logistic regression equation where b0, b1 are constants. While training values for these will be calculated such that the error between prediction and actual value become minimum."
   ],
   "metadata": {
    "collapsed": false
   }
  },
  {
   "cell_type": "code",
   "execution_count": 10,
   "outputs": [],
   "source": [
    "\n"
   ],
   "metadata": {
    "collapsed": false,
    "pycharm": {
     "name": "#%%\n",
     "is_executing": false
    }
   }
  },
  {
   "cell_type": "code",
   "execution_count": 10,
   "outputs": [],
   "source": [],
   "metadata": {
    "collapsed": false,
    "pycharm": {
     "name": "#%%\n",
     "is_executing": false
    }
   }
  },
  {
   "cell_type": "code",
   "execution_count": null,
   "outputs": [],
   "source": [
    "\n"
   ],
   "metadata": {
    "collapsed": false,
    "pycharm": {
     "name": "#%%\n"
    }
   }
  }
 ],
 "metadata": {
  "kernelspec": {
   "display_name": "Python 3",
   "language": "python",
   "name": "python3"
  },
  "language_info": {
   "codemirror_mode": {
    "name": "ipython",
    "version": 2
   },
   "file_extension": ".py",
   "mimetype": "text/x-python",
   "name": "python",
   "nbconvert_exporter": "python",
   "pygments_lexer": "ipython2",
   "version": "2.7.6"
  },
  "pycharm": {
   "stem_cell": {
    "cell_type": "raw",
    "source": [],
    "metadata": {
     "collapsed": false
    }
   }
  }
 },
 "nbformat": 4,
 "nbformat_minor": 0
}