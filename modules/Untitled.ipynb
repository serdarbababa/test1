{
 "cells": [
  {
   "cell_type": "code",
   "execution_count": 22,
   "metadata": {},
   "outputs": [],
   "source": [
    "import sqlalchemy as db\n",
    "from sqlalchemy.orm import sessionmaker    \n",
    "from sqlalchemy import exists\n",
    "from sqlalchemy import create_engine\n",
    "from sqlalchemy.sql import select\n",
    "from sqlalchemy import and_, desc\n",
    "from sqlalchemy import Table, Column, Integer, String, Text, DateTime, Boolean\n",
    "from sqlalchemy.ext.declarative import declarative_base\n",
    "import json\n",
    "from request import Request\n",
    "\n",
    "class DBConnection:\n",
    "    def __init__(self, db_type='mysql', username='ubuntu', password='ubuntu', host='localhost', database='f5'):\n",
    "        self.db_string = '{}://{}:{}@{}/{}'.format(db_type, username, password, host, database)\n",
    "        self.engine = create_engine(self.db_string)\n",
    "        #self.connection = self.engine.connect()\n",
    "        self.metadata = db.MetaData()\n",
    "        Session = sessionmaker(bind=self.engine)\n",
    "        self.session = Session()\n",
    "\n",
    "    def create_table(self, table_name, column_names, column_types, p_key):\n",
    "        columns = []\n",
    "        for i, name in enumerate(column_names):\n",
    "            is_pk = True if name == p_key else False\n",
    "            columns.append(Column(name, column_types[i], primary_key=is_pk))\n",
    "\n",
    "        table_object = Table(\n",
    "            table_name, self.metadata,\n",
    "            *columns)\n",
    "\n",
    "        self.metadata.create_all(self.engine)\n",
    "\n",
    "    def select_all(self, table, order_by=None, sort_desc=False):\n",
    "        connection = self.engine.connect()\n",
    "        table_object = db.Table(table, self.metadata, autoload=True, autoload_with=self.engine)\n",
    "        if order_by:\n",
    "            if sort_desc:\n",
    "                selection = table_object.select().order_by(desc(table_object.c[order_by]))\n",
    "            else:\n",
    "                selection = table_object.select().order_by(table_object.c[order_by])\n",
    "        else:\n",
    "            selection = table_object.select()\n",
    "            \n",
    "        columns = list(map(lambda x: str(x).split(\".\")[1], table_object.c))\n",
    "        return (connection.execute(selection), columns, connection.close())\n",
    "\n",
    "   \n",
    "        \n",
    "if __name__ == '__main__':\n",
    "    conn = DBConnection()\n"
   ]
  },
  {
   "cell_type": "code",
   "execution_count": 23,
   "metadata": {},
   "outputs": [],
   "source": [
    "conn = DBConnection(db_type='mssql+pymssql', username='sa', password='Ubuntu123', host='localhost', database='UI')"
   ]
  },
  {
   "cell_type": "code",
   "execution_count": 17,
   "metadata": {},
   "outputs": [],
   "source": [
    "res = conn.select_all('scud_user')"
   ]
  },
  {
   "cell_type": "code",
   "execution_count": 24,
   "metadata": {},
   "outputs": [
    {
     "data": {
      "text/plain": [
       "[]"
      ]
     },
     "execution_count": 24,
     "metadata": {},
     "output_type": "execute_result"
    }
   ],
   "source": [
    "list(conn.select_all('scud_user')[0])"
   ]
  },
  {
   "cell_type": "code",
   "execution_count": 19,
   "metadata": {},
   "outputs": [
    {
     "ename": "AttributeError",
     "evalue": "'NoneType' object has no attribute 'execute'",
     "output_type": "error",
     "traceback": [
      "\u001b[0;31m---------------------------------------------------------------------------\u001b[0m",
      "\u001b[0;31mAttributeError\u001b[0m                            Traceback (most recent call last)",
      "\u001b[0;32m<ipython-input-19-e04dd643fc71>\u001b[0m in \u001b[0;36m<module>\u001b[0;34m()\u001b[0m\n\u001b[1;32m      1\u001b[0m \u001b[0meh\u001b[0m \u001b[0;34m=\u001b[0m \u001b[0mres\u001b[0m\u001b[0;34m[\u001b[0m\u001b[0;34m-\u001b[0m\u001b[0;36m1\u001b[0m\u001b[0;34m]\u001b[0m\u001b[0;34m\u001b[0m\u001b[0m\n\u001b[0;32m----> 2\u001b[0;31m \u001b[0meh\u001b[0m\u001b[0;34m.\u001b[0m\u001b[0mexecute\u001b[0m\u001b[0;34m(\u001b[0m\u001b[0;34m\"\"\u001b[0m\u001b[0;34m)\u001b[0m\u001b[0;34m\u001b[0m\u001b[0m\n\u001b[0m",
      "\u001b[0;31mAttributeError\u001b[0m: 'NoneType' object has no attribute 'execute'"
     ]
    }
   ],
   "source": [
    "eh = res[-1]\n",
    "eh.execute(\"\")"
   ]
  },
  {
   "cell_type": "code",
   "execution_count": null,
   "metadata": {},
   "outputs": [],
   "source": []
  },
  {
   "cell_type": "code",
   "execution_count": null,
   "metadata": {},
   "outputs": [],
   "source": []
  },
  {
   "cell_type": "code",
   "execution_count": null,
   "metadata": {},
   "outputs": [],
   "source": [
    "\n",
    "def getResourceDeployments(self, GROUP_NAMEE, REQUEST_ID, log=True):\n",
    "        #print('\\nList Deployments')\n",
    "        a={'deployments': []}\n",
    "        \n",
    "        for deployment in self.resource_client.deployments.list_by_resource_group(GROUP_NAMEE):\n",
    "            \n",
    "            x = deployment.as_dict()\n",
    "            \n",
    "            \n"
   ]
  }
 ],
 "metadata": {
  "kernelspec": {
   "display_name": "Python 3",
   "language": "python",
   "name": "python3"
  },
  "language_info": {
   "codemirror_mode": {
    "name": "ipython",
    "version": 3
   },
   "file_extension": ".py",
   "mimetype": "text/x-python",
   "name": "python",
   "nbconvert_exporter": "python",
   "pygments_lexer": "ipython3",
   "version": "3.7.0"
  }
 },
 "nbformat": 4,
 "nbformat_minor": 2
}
