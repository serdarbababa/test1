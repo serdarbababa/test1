{
 "cells": [
  {
   "cell_type": "code",
   "execution_count": 5,
   "metadata": {},
   "outputs": [],
   "source": [
    "import subprocess\n",
    "def doSysCmd(command):\n",
    "    p = subprocess.Popen(command, shell=True, stdout=subprocess.PIPE, stderr=subprocess.STDOUT)\n",
    "    for line in p.stdout.readlines():\n",
    "        print(line)\n",
    "    retval = p.wait()"
   ]
  },
  {
   "cell_type": "code",
   "execution_count": 8,
   "metadata": {},
   "outputs": [
    {
     "name": "stdout",
     "output_type": "stream",
     "text": [
      "b'/home/u1/pyCode\\n'\n",
      "\n",
      "b'u1       tty1         2018-10-02 15:39\\n'\n",
      "b'u1       pts/0        2018-10-03 19:44 (192.168.229.1)\\n'\n",
      "b'u1       pts/2        2018-10-03 20:32 (192.168.229.1)\\n'\n",
      "\n",
      "b'alarme\\n'\n",
      "b'importMeteoToElastic.py\\n'\n",
      "b'insertSineData.py\\n'\n",
      "b'interpreter.py\\n'\n",
      "b'mirela.py\\n'\n",
      "b'mirela.txt\\n'\n",
      "b'mirela.txt.save\\n'\n",
      "b'notebook.tex\\n'\n",
      "b'output_10_1.png\\n'\n",
      "b'output_5_1.png\\n'\n",
      "b'output_8_0.png\\n'\n",
      "b'output_9_0.png\\n'\n",
      "b'RstudioInstall.sh\\n'\n",
      "b'Sunum_DefteriV1.0.ipynb\\n'\n",
      "b'Untitled.ipynb\\n'\n",
      "b'veriUret.py\\n'\n",
      "b'work1.py\\n'\n",
      "b'work.py\\n'\n",
      "b'eth0      Link encap:Ethernet  HWaddr 00:0c:29:75:82:62  \\n'\n",
      "b'          inet addr:192.168.229.133  Bcast:192.168.229.255  Mask:255.255.255.0\\n'\n",
      "b'          inet6 addr: fe80::20c:29ff:fe75:8262/64 Scope:Link\\n'\n",
      "b'          UP BROADCAST RUNNING MULTICAST  MTU:1500  Metric:1\\n'\n",
      "b'          RX packets:133388 errors:0 dropped:0 overruns:0 frame:0\\n'\n",
      "b'          TX packets:33079 errors:0 dropped:0 overruns:0 carrier:0\\n'\n",
      "b'          collisions:0 txqueuelen:1000 \\n'\n",
      "b'          RX bytes:41902711 (41.9 MB)  TX bytes:28112060 (28.1 MB)\\n'\n",
      "b'\\n'\n",
      "b'lo        Link encap:Local Loopback  \\n'\n",
      "b'          inet addr:127.0.0.1  Mask:255.0.0.0\\n'\n",
      "b'          inet6 addr: ::1/128 Scope:Host\\n'\n",
      "b'          UP LOOPBACK RUNNING  MTU:65536  Metric:1\\n'\n",
      "b'          RX packets:21319 errors:0 dropped:0 overruns:0 frame:0\\n'\n",
      "b'          TX packets:21319 errors:0 dropped:0 overruns:0 carrier:0\\n'\n",
      "b'          collisions:0 txqueuelen:1 \\n'\n",
      "b'          RX bytes:28909819 (28.9 MB)  TX bytes:28909819 (28.9 MB)\\n'\n",
      "b'\\n'\n"
     ]
    }
   ],
   "source": [
    "doSysCmd(\"pwd\")\n",
    "print()\n",
    "doSysCmd(\"who\")\n",
    "print()\n",
    "doSysCmd(\"ls\")\n",
    "doSysCmd(\"ifconfig\")"
   ]
  },
  {
   "cell_type": "code",
   "execution_count": 21,
   "metadata": {},
   "outputs": [
    {
     "name": "stdout",
     "output_type": "stream",
     "text": [
      "ssh u1:ubuntu@192.168.229.131 'bash -s ls' \n",
      "b'Pseudo-terminal will not be allocated because stdin is not a terminal.\\r\\n'\n",
      "b'Permission denied, please try again.\\r\\n'\n",
      "b'Permission denied, please try again.\\r\\n'\n",
      "b'Permission denied (publickey,password).\\r\\n'\n",
      "b'ubuntu\\n'\n",
      "b'ls\\n'\n"
     ]
    }
   ],
   "source": [
    "machineA = \"192.168.229.131\"\n",
    "user=\"u1\"\n",
    "passw = \"ubuntu\"\n",
    "cmd = \"ssh %s:%s@%s 'bash -s ls' \"%(user,passw,machineA)\n",
    "print(cmd)\n",
    "\n",
    "doSysCmd(\"./comanda.sh\" )"
   ]
  },
  {
   "cell_type": "code",
   "execution_count": null,
   "metadata": {},
   "outputs": [],
   "source": []
  }
 ],
 "metadata": {
  "kernelspec": {
   "display_name": "Python 3",
   "language": "python",
   "name": "python3"
  },
  "language_info": {
   "codemirror_mode": {
    "name": "ipython",
    "version": 3
   },
   "file_extension": ".py",
   "mimetype": "text/x-python",
   "name": "python",
   "nbconvert_exporter": "python",
   "pygments_lexer": "ipython3",
   "version": "3.6.5"
  }
 },
 "nbformat": 4,
 "nbformat_minor": 2
}
