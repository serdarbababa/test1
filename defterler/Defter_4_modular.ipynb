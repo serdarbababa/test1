{
 "cells": [
  {
   "cell_type": "markdown",
   "metadata": {},
   "source": [
    "### Importing necessary libraries"
   ]
  },
  {
   "cell_type": "code",
   "execution_count": 32,
   "metadata": {},
   "outputs": [],
   "source": [
    "import numpy as np\n",
    "from pywt import wavedec\n",
    "import matplotlib.pyplot as plt\n",
    "from networkx.drawing.nx_agraph import  graphviz_layout\n",
    "import networkx as nx\n",
    "import pandas as pd\n",
    "import seaborn as sns\n",
    "\n",
    "plt.rcParams['figure.figsize'] = [25, 20]     \n",
    "\n",
    "\n",
    "def genData(param, show = False):\n",
    "\ta=[]\n",
    "\tif param[0]==\"normal\":\n",
    "\t\tmu, sigma, s = param[1],   param[2], param[3]\n",
    "\t\ta= np.random.normal(mu, sigma, size=s)\n",
    "\telif param[0]=='uniform':\n",
    "\t\tmi, ma,s=param[1],   param[2], param[3]\n",
    "\t\ta= np.random.uniform(mi, ma, s)\n",
    "\telif param[0]==\"poisson\":\n",
    "\t\trate,s=param[1],   param[2]\n",
    "\t\ta = np.random.poisson(rate, s)\n",
    "\tif(show):\n",
    "\t\tcount, bins, ignored = plt.hist(s, 14, density=True)\n",
    "\treturn a"
   ]
  },
  {
   "cell_type": "code",
   "execution_count": 33,
   "metadata": {},
   "outputs": [],
   "source": [
    "def genSample(signalCount):\n",
    "    print(\"generate sample data\")\n",
    "    signals = [] \n",
    "    for i in range(signalCount):\n",
    "        a = genData([\"normal\", 100,100,8])\n",
    "        #print(a)\n",
    "        sig = [] \n",
    "        for j in range(8):\n",
    "            sig.append(int(a[j]))\n",
    "        signals.append(sig)\n",
    "    for i in range(signalCount):\n",
    "        print(signals[i])\n",
    "    return signals"
   ]
  },
  {
   "cell_type": "code",
   "execution_count": 34,
   "metadata": {},
   "outputs": [],
   "source": [
    "def getSamplePredef():\n",
    "    print(\"return sample data\")\n",
    "    signals = [[105, 220, 23, 99, 266, 190, 37, 5],\n",
    "                [334, 174, 134, -7, 19, 155, 93, 89],\n",
    "                [72, 96, 102, 151, -14, 171, 127, 127],\n",
    "                [151, 38, 283, 204, 232, 141, 121, 47],\n",
    "                [157, -60, 54, 54, 69, -27, -14, 101],\n",
    "                [0, 113, 74, 176, 68, 322, 135, 367],\n",
    "                [56, 114, 126, 181, 93, 41, 118, 76],\n",
    "                [164, 200, 351, 51, 36, 163, 298, -5],\n",
    "                [140, 124, 99, 34, -46, -5, 240, 136],\n",
    "                [113, 58, 130, 123, 171, 143, 109, 17],\n",
    "                [-8, 299, 65, 62, 130, 146, -43, 23],\n",
    "                [-96, 212, 56, 150, -55, 150, 151, 70],\n",
    "                [-22, 148, 219, 62, 108, 136, 198, 126],\n",
    "                [220, 84, 165, 167, 1, 227, 15, 144],\n",
    "                [0, 135, 165, 64, 100, 224, 244, 140],\n",
    "                [211, 183, -161, 65, 33, 257, -16, 112]]\n",
    "    return signals"
   ]
  },
  {
   "cell_type": "code",
   "execution_count": 35,
   "metadata": {},
   "outputs": [],
   "source": [
    "def mergeList(input_data, verbose= False):\n",
    "    if verbose:\n",
    "        print(\"merge data\")\n",
    "    merged_list = []\n",
    "    for l in input_data:\n",
    "        merged_list += list(l)\n",
    "    return merged_list"
   ]
  },
  {
   "cell_type": "code",
   "execution_count": 36,
   "metadata": {},
   "outputs": [],
   "source": [
    "def listToPandasDF(input_data):\n",
    "    df = pd.DataFrame(input_data)\n",
    "    return df"
   ]
  },
  {
   "cell_type": "code",
   "execution_count": 37,
   "metadata": {},
   "outputs": [],
   "source": [
    "def getWaveletCoefs(input_data):\n",
    "    coefs = [] \n",
    "    for i in range(len(input_data)):\n",
    "        girdi = np.array(input_data[i]) #np.array([1,2,3,4,5,6,7,8])*1\n",
    "        coeff = wavedec(girdi, 'haar', level=int(np.log2(len(girdi))))\n",
    "        coefs.append(mergeList(coeff))\n",
    "    return coefs"
   ]
  },
  {
   "cell_type": "code",
   "execution_count": 38,
   "metadata": {},
   "outputs": [],
   "source": [
    "def plotCorrelation(input_data_frame):\n",
    "    Var_Corr = input_data_frame.corr()\n",
    "    # plot the heatmap and annotation on it\n",
    "    sns.heatmap(Var_Corr, xticklabels=Var_Corr.columns, yticklabels=Var_Corr.columns, annot=True)\n",
    "    plt.show()\n",
    "    # Basic correlogram\n",
    "    sns_plot = sns.pairplot(input_data_frame)\n",
    "    plt.show()"
   ]
  },
  {
   "cell_type": "code",
   "execution_count": 39,
   "metadata": {},
   "outputs": [],
   "source": [
    "def generateOperationsSymbols(operations_count, symbol_list, Test = False, verbose= False):\n",
    "    ops_ids=[]\n",
    "    symbolSet = []\n",
    "    \n",
    "    for i in range(operations_count):\n",
    "        if(verbose):print(i, end=\"\\t\")\n",
    "        a = genData([\"uniform\", 0,10,4])    \n",
    "        a= [int(x) for x in a]\n",
    "        if(Test):\n",
    "            a[3]=0\n",
    "        go = True        \n",
    "        #a=[4, 5, 9, -5]\n",
    "        \n",
    "        rez = 0\n",
    "        if(int(a[1])%4==0   ): # operation is + \n",
    "            if ( a[0] + a[2] > 9 ):\n",
    "                go = False\n",
    "            else :\n",
    "                rez = a[0] + a[2]\n",
    "        elif(int(a[1])%4==1   ): # operation is -\n",
    "            if a[0] < a[2]  :\n",
    "                go = False                \n",
    "            else :\n",
    "                #print(\"here\", a[0] - a[2] , a[0] > a[2])\n",
    "                rez = a[0] - a[2]\n",
    "        elif(int(a[1])%4==2   ): # operation is *\n",
    "            if ( a[0] * a[2] >9  ):\n",
    "                go = False\n",
    "            else :                \n",
    "                rez = a[0] * a[2]               \n",
    "        elif(int(a[1])%4==3   ): # operation is -\n",
    "            if ( a[2] ==0 ):                \n",
    "                go = False\n",
    "            else :\n",
    "                rez = int(a[0] / a[2])\n",
    "        #rint(go)  \n",
    "        if go:\n",
    "            if verbose : print(go , rez)\n",
    "            a[3]=rez\n",
    "            ops_ids.append(a)\n",
    "            symbolSet.append(symbol_list[a[0]] )\n",
    "            symbolSet.append(symbol_list[a[1]%4+10] )\n",
    "            symbolSet.append(symbol_list[a[2]] )\n",
    "            symbolSet.append(symbol_list[14] )\n",
    "            if(not Test):\n",
    "                symbolSet.append(symbol_list[a[3]] )\n",
    "            else:\n",
    "                symbolSet.append(symbol_list[15] )\n",
    "    return ops_ids, symbolSet\n",
    "            "
   ]
  },
  {
   "cell_type": "code",
   "execution_count": 40,
   "metadata": {},
   "outputs": [],
   "source": [
    "def generateOperations(operations_count, Test = False, verbose= False):\n",
    "    energy = 0 \n",
    "    all=[]\n",
    "    for i in range(operations_count):\n",
    "        if(verbose):print(i, end=\"\\t\")\n",
    "        a = genData([\"uniform\", 0,10,4])    \n",
    "        a= [int(x) for x in a]\n",
    "        if(True):#Test):\n",
    "            a[3]=0\n",
    "            \n",
    "        all.append(a)\n",
    "        #print(int(a[0]) , int(a[1])%4, int(a[2]) ,int(a[3])%2)\n",
    "        if(int(a[1])%4==0 and int(a[3])%2 == 0  ):\n",
    "            if(verbose):\n",
    "                print(int(a[0]) , \"+\", int(a[2]) ,\"=\", int(a[0])  + int(a[2]))\n",
    "        elif(int(a[1])%4==0 and int(a[3])%2 == 1 ):\n",
    "            if(verbose):print(int(a[0]) , \"+\", int(a[2]) ,\"= ?\")\n",
    "        elif(int(a[1])%4==1 and int(a[3])%2 == 0  ):\n",
    "            if(int(a[2])<int(a[0])):\n",
    "                if(verbose):print(int(a[0]) , \"/\", int(a[2]) ,\"=\", int(int(a[0])  - int(a[2])))\n",
    "            else:\n",
    "                if(verbose):print(int(a[0]) , \"/\", int(a[2]) ,\"=\", int(int(a[2])  - int(a[0])))          \n",
    "        elif(int(a[1])%4==1 and int(a[3])%2 == 1  ):\n",
    "            if(verbose):print(int(a[0]) , \"-\", int(a[2]) ,\"= ?\")        \n",
    "        \n",
    "        elif(int(a[1])%4==2 and int(a[3])%2 == 0  ):\n",
    "            if(verbose):print(int(a[0]) , \"*\", int(a[2]) ,\"=\", int(a[0])  * int(a[2]))\n",
    "        elif(int(a[1])%4==2 and int(a[3])%2 == 1 ):\n",
    "            if(verbose):print(int(a[0]) , \"*\", int(a[2]) ,\"= ?\")\n",
    "        \n",
    "        elif(int(a[1])%4==3 and int(a[3])%2 == 0  ):\n",
    "            if(int(a[2])!=0):\n",
    "                if(verbose):print(int(a[0]) , \"/\", int(a[2]) ,\"=\", int(int(a[0])  / int(a[2])))\n",
    "            elif(int(a[0])!=0):\n",
    "                if(verbose):print(int(a[0]) , \"/\", int(a[2]) ,\"=\", int(int(a[2])  / int(a[0])))    \n",
    "        \n",
    "        elif(int(a[1])%4==3 and int(a[3])%2 == 1  ):\n",
    "            if(verbose):print(int(a[0]) , \"/\", int(a[2]) ,\"= ?\")\n",
    "    return all"
   ]
  },
  {
   "cell_type": "code",
   "execution_count": 41,
   "metadata": {},
   "outputs": [],
   "source": [
    "def decodeOperations(all):\n",
    "    for i in range(1):\n",
    "        print(i, end=\"\\t\")\n",
    "        a = all[i]\n",
    "        #print(int(a[0]) , int(a[1])%4, int(a[2]) ,int(a[3])%2)\n",
    "        if(int(a[1])%4==0 and int(a[3])%2 == 0  ):\n",
    "            print(int(a[0]) , \"+\", int(a[2]) ,\"=\", int(a[0])  + int(a[2]))\n",
    "        elif(int(a[1])%4==0 and int(a[3])%2 == 1 ):\n",
    "            print(int(a[0]) , \"+\", int(a[2]) ,\"= ?\")\n",
    "        elif(int(a[1])%4==1 and int(a[3])%2 == 0  ):\n",
    "            if(int(a[2])<int(a[0])):\n",
    "                print(int(a[0]) , \"/\", int(a[2]) ,\"=\", int(int(a[0])  - int(a[2])))\n",
    "            else:\n",
    "                print(int(a[0]) , \"/\", int(a[2]) ,\"=\", int(int(a[2])  - int(a[0])))          \n",
    "        elif(int(a[1])%4==1 and int(a[3])%2 == 1  ):\n",
    "            print(int(a[0]) , \"-\", int(a[2]) ,\"= ?\")        \n",
    "        elif(int(a[1])%4==2 and int(a[3])%2 == 0  ):\n",
    "            print(int(a[0]) , \"*\", int(a[2]) ,\"=\", int(a[0])  * int(a[2]))\n",
    "        elif(int(a[1])%4==2 and int(a[3])%2 == 1 ):\n",
    "            print(int(a[0]) , \"*\", int(a[2]) ,\"= ?\")\n",
    "        elif(int(a[1])%4==3 and int(a[3])%2 == 0  ):\n",
    "            if(int(a[2])>0):\n",
    "                print(int(a[0]) , \"/\", int(a[2]) ,\"=\", int(int(a[0])  / int(a[2])))\n",
    "            else:\n",
    "                print(int(a[0]) , \"/\", int(a[2]) ,\"=\", int(int(a[2])  / int(a[0])))    \n",
    "        elif(int(a[1])%4==3 and int(a[3])%2 == 1  ):\n",
    "            print(int(a[0]) , \"/\", int(a[2]) ,\"= ?\")"
   ]
  },
  {
   "cell_type": "code",
   "execution_count": 42,
   "metadata": {},
   "outputs": [],
   "source": [
    "def decodeTrainOperations(all):\n",
    "    for i in range(len(all)):\n",
    "        print(i, end=\"\\t\")\n",
    "        a = all[i]\n",
    "        \n",
    "        if(int(a[1])%4==0   ):\n",
    "            print(int(a[0]) , \"+\", int(a[2]) ,\"=\", int(a[0])  + int(a[2]))\n",
    "       \n",
    "        elif(int(a[1])%4==1  ):            \n",
    "            print(int(a[0]) , \"-\", int(a[2]) ,\"=\", int(int(a[0])  - int(a[2])))            \n",
    "        \n",
    "        elif(int(a[1])%4==2   ):\n",
    "            print(int(a[0]) , \"*\", int(a[2]) ,\"=\", int(a[0])  * int(a[2]))\n",
    "                    \n",
    "        elif(int(a[1])%4==3 ):            \n",
    "            print(int(a[0]) , \"/\", int(a[2]) ,\"=\", int(int(a[0])  / int(a[2])))\n",
    "           "
   ]
  },
  {
   "cell_type": "code",
   "execution_count": 43,
   "metadata": {},
   "outputs": [],
   "source": [
    "def quantize(input_data, len_of_data, verbose = False):\n",
    "    borders = [-200,-100,-50,0, 50, 100, 200]\n",
    "    qsignals = [] \n",
    "\n",
    "    for i in range(len(input_data)):\n",
    "        sig = [] \n",
    "        if(verbose):\n",
    "            print(input_data[i])\n",
    "        for j in range(int(len(input_data[i]))):\n",
    "            output = 7\n",
    "            for k in range(7):\n",
    "                if( input_data[i][j] < borders[k]):\n",
    "                    output = k\n",
    "                    break\n",
    "            if verbose:\n",
    "                print(output, end = \" \")\n",
    "            sig.append(output)\n",
    "        if verbose:\n",
    "            print()\n",
    "        qsignals.append(sig)\n",
    "    return qsignals"
   ]
  },
  {
   "cell_type": "code",
   "execution_count": 44,
   "metadata": {},
   "outputs": [],
   "source": [
    "def decodeOperationsDeeper(input_data, len_data, qsignals, verbose = False):\n",
    "    inputs = [] \n",
    "    for i in range(len_data):\n",
    "\n",
    "        if (verbose):print(i, end=\"\\t\")\n",
    "        a = input_data[i]\n",
    "        if(verbose):print(int(a[0]) , int(a[1])%4, int(a[2]) ,int(a[3])%2)\n",
    "\n",
    "        if(int(a[1])%4==0 and int(a[3])%2 == 0  ):\n",
    "            if(int(a[0])  + int(a[2]) < 10):\n",
    "                if(verbose):\n",
    "                    print( qsignals[int(a[0])] , \"+\", qsignals[int(a[2])] ,\"=\", qsignals[int(a[0])  + int(a[2])])            \n",
    "                    print( qsignals[int(a[0])] , qsignals[10], qsignals[int(a[2])] ,\"=\", qsignals[int(a[0])  + int(a[2])])            \n",
    "                inputs.append([ qsignals[int(a[0])] , qsignals[10], qsignals[int(a[2])] , qsignals[int(a[0])  + int(a[2])]])            \n",
    "        elif(int(a[1])%4==0 and int(a[3])%2 == 1 ):\n",
    "            if(verbose):\n",
    "                print( qsignals[int(a[0])] , \"+\", qsignals[int(a[2])] ,\"=\", qsignals[14])\n",
    "                print( qsignals[int(a[0])] , qsignals[10], qsignals[int(a[2])] ,\"=\", qsignals[14])\n",
    "            inputs.append( [qsignals[int(a[0])] , qsignals[10], qsignals[int(a[2])] , qsignals[14]])\n",
    "\n",
    "        elif(int(a[1])%4==1 and int(a[3])%2 == 0  ):\n",
    "            if(int(a[2])<int(a[0])):\n",
    "                if(verbose):\n",
    "                    print( qsignals[int(a[0])] , \"-\", qsignals[int(a[2])] ,\"=\", qsignals[int(a[0])  - int(a[2])])\n",
    "                    print( qsignals[int(a[0])] , qsignals[11], qsignals[int(a[2])] ,\"=\", qsignals[int(a[0])  - int(a[2])])\n",
    "                inputs.append( [qsignals[int(a[0])] , qsignals[11], qsignals[int(a[2])] , qsignals[int(a[0])  - int(a[2])]])\n",
    "            else:\n",
    "                if(verbose):\n",
    "                    print( qsignals[int(a[0])] , \"-\", qsignals[int(a[2])] ,\"=\", qsignals[int(a[2])  - int(a[0])])   \n",
    "                    print( qsignals[int(a[0])] , qsignals[11], qsignals[int(a[2])] ,\"=\", qsignals[int(a[2])  - int(a[0])])   \n",
    "                inputs.append( [qsignals[int(a[0])] , qsignals[11], qsignals[int(a[2])] , qsignals[int(a[2])  - int(a[0])]])\n",
    "\n",
    "        elif(int(a[1])%4==1 and int(a[3])%2 == 1  ):\n",
    "            if(verbose):\n",
    "                print( qsignals[int(a[0])] , \"-\", qsignals[int(a[2])] ,\"=\", qsignals[14])\n",
    "                print( qsignals[int(a[0])] , qsignals[11], qsignals[int(a[2])] ,\"=\", qsignals[14])\n",
    "            inputs.append( [qsignals[int(a[0])] , qsignals[11], qsignals[int(a[2])] , qsignals[14]])        \n",
    "\n",
    "        elif(int(a[1])%4==2 and int(a[3])%2 == 0  ):\n",
    "            if(int(a[0])  * int(a[2]) < 10):\n",
    "                if(verbose):\n",
    "                    print( qsignals[int(a[0])] , \"*\", qsignals[int(a[2])] ,\"=\", qsignals[int(a[0])  * int(a[2])])\n",
    "                    print( qsignals[int(a[0])] , qsignals[12], qsignals[int(a[2])] ,\"=\", qsignals[int(a[0])  * int(a[2])])\n",
    "                inputs.append( [qsignals[int(a[0])] , qsignals[12], qsignals[int(a[2])] , qsignals[int(a[0])  * int(a[2])]])\n",
    "        elif(int(a[1])%4==2 and int(a[3])%2 == 1 ):\n",
    "            if(verbose):\n",
    "                print( qsignals[int(a[0])] , \"*\", qsignals[int(a[2])] ,\"=\", qsignals[14])\n",
    "                print( qsignals[int(a[0])] ,  qsignals[12], qsignals[int(a[2])] ,\"=\", qsignals[14])\n",
    "            inputs.append( [qsignals[int(a[0])] ,  qsignals[12], qsignals[int(a[2])] , qsignals[14]])\n",
    "        elif(int(a[1])%4==3 and int(a[3])%2 == 0  ):\n",
    "            if(int(a[2])>0):            \n",
    "                if(verbose):\n",
    "                    print( qsignals[int(a[0])] , \"/\", qsignals[int(a[2])] ,\"=\", qsignals[int( int(a[0])  /int(a[2]))])\n",
    "                    print( qsignals[int(a[0])] , qsignals[13], qsignals[int(a[2])] ,\"=\", qsignals[int(int(a[0])  /int(a[2]))])\n",
    "                inputs.append( [qsignals[int(a[0])] , qsignals[13], qsignals[int(a[2])] , qsignals[ int(int(a[0])  /int(a[2]))]])\n",
    "\n",
    "        elif(int(a[1])%4==3 and int(a[3])%2 == 1  ):\n",
    "            if(verbose):\n",
    "                print( qsignals[int(a[0])] , \"/\", qsignals[int(a[2])] ,\"=\", qsignals[14])\n",
    "                print( qsignals[int(a[0])] , qsignals[13], qsignals[int(a[2])] ,\"=\", qsignals[14])\n",
    "            inputs.append( [qsignals[int(a[0])] , qsignals[13], qsignals[int(a[2])] , qsignals[14]])\n",
    "    return inputs\n",
    "\n",
    "\n"
   ]
  },
  {
   "cell_type": "code",
   "execution_count": 45,
   "metadata": {},
   "outputs": [],
   "source": [
    "def initTree():\n",
    "    GG=nx.DiGraph()    \n",
    "    GG.add_node(0, value=999,occurance_count=1, id = -1,food =0)    \n",
    "    return GG,1"
   ]
  },
  {
   "cell_type": "code",
   "execution_count": 46,
   "metadata": {},
   "outputs": [],
   "source": [
    "def train_tree(input_data, GG, counter , WL, overlap):\n",
    "    plt.rcParams.update({'font.size': 22})\n",
    "    data1= input_data  \n",
    "    #print(data1)\n",
    "    poz = 0\n",
    "    #print(len(data1)/WL)    \n",
    "    step = WL-overlap\n",
    "\n",
    "    for i in range(0,len(data1)-step+1, step):\n",
    "        #if(data1[i:i+step]==[0,0,1,0] or  data1[i:i+step]==[1,0,0,0] ):\n",
    "        #    //print(str(i)+ \" food\")\n",
    "        poz=0\n",
    "        for j in range(WL):\n",
    "            # data\n",
    "            d=data1[i + j]\n",
    "            #print(d, end=' ')\n",
    "            #print (d)\n",
    "            # neighbours \n",
    "            nei= list(GG.neighbors(poz))       \n",
    "            if len(nei)==0:\n",
    "                #print (counter, poz, data1[i: i+step])\n",
    "                GG.add_node(counter,value=d, occurance_count=1, id = -1,food =0)    \n",
    "                GG.add_edge(poz,counter)\n",
    "                poz=counter\n",
    "                counter +=1\n",
    "            else:\n",
    "                k=-1\n",
    "                for n in nei:\n",
    "                    if(GG.node[n]['value']==d):\n",
    "                        k=n\n",
    "                        break\n",
    "                if(k>=0):\n",
    "                    poz=k\n",
    "                    GG.node[k]['occurance_count'] = GG.node[k]['occurance_count'] + 1\n",
    "                else:\n",
    "                    GG.add_node(counter,value=d,occurance_count=1, id = -1,food =0)    \n",
    "                    GG.add_edge(poz,counter)\n",
    "                    poz=counter\n",
    "                    counter += 1\n",
    "    finalNodes = [] \n",
    "    for i in range(1, counter):\n",
    "        yol =  nx.shortest_path(GG,0,i)\n",
    "        if(len(yol) >WL):\n",
    "            GG.node[yol[-1]]['id']=len(finalNodes)\n",
    "            finalNodes.append(yol[-1])\n",
    "    return GG, counter\n"
   ]
  },
  {
   "cell_type": "code",
   "execution_count": 47,
   "metadata": {},
   "outputs": [],
   "source": [
    "def plotGraph(GG, WL, counter, short = False):\n",
    "    plt.rcParams['figure.figsize'] = [15, 10]        \n",
    "    labels=dict((n,d['value']) for n,d in GG.nodes(data=True))   \n",
    "    #pos=nx.graphviz_layout(GG, prog='dot')\n",
    "    pos =graphviz_layout(GG, prog='dot')\n",
    "    #nx.spring_layout(GG)\n",
    "\n",
    "    plt.title(\"node values\")\n",
    "    nx.draw_networkx(GG,  pos=pos, arrows=True, with_labels=True, labels=labels )\n",
    "    plt.show()\n",
    "    if( short):\n",
    "        return\n",
    "    plt.title(\"node ids\")\n",
    "    nx.draw_networkx(GG,  pos=pos, arrows=True, with_labels=True )\n",
    "    plt.show()\n",
    "\n",
    "    plt.title(\"node frequency\")\n",
    "    labels=dict((n,d['occurance_count']) for n,d in GG.nodes(data=True))   \n",
    "    nx.draw_networkx(GG,  pos=pos, arrows=True, with_labels=True, labels=labels )\n",
    "    plt.show()\n",
    "\n",
    "    \n",
    "\n",
    "    plt.title(\"final nodes ids\")\n",
    "    labels=dict((n,d['id']) for n,d in GG.nodes(data=True))   \n",
    "    nx.draw_networkx(GG,  pos=pos, arrows=True, with_labels=True, labels=labels )\n",
    "    plt.show()    "
   ]
  },
  {
   "cell_type": "code",
   "execution_count": 48,
   "metadata": {},
   "outputs": [],
   "source": [
    "def getBranchId(branch,GG, counter , WL, overlap):    \n",
    "    ids = []\n",
    "    plt.rcParams.update({'font.size': 22})\n",
    "    data1= branch  \n",
    "    #print (data1)\n",
    "    poz = 0\n",
    "    #print(len(data1)/WL)    \n",
    "    step = WL-overlap\n",
    "    \n",
    "    for i in range(0,len(data1)-step+1, step):\n",
    "        k=0\n",
    "        poz=0\n",
    "        #print()\n",
    "        for j in range(WL):\n",
    "            # data\n",
    "            d=data1[i + j]\n",
    "            \n",
    "            # neighbours \n",
    "            nei= list(GG.neighbors(poz))       \n",
    "            if len(nei)==0:\n",
    "                k=-1\n",
    "                break\n",
    "            else:\n",
    "                k=-1\n",
    "                for n in nei:\n",
    "                    if(GG.node[n]['value']==d):\n",
    "                        k=n\n",
    "                        break\n",
    "                if(k>=0):\n",
    "                    poz=k                    \n",
    "                    #GG.node[k]['occurance_count'] = GG.node[k]['occurance_count'] + 1\n",
    "                else:\n",
    "                    k=-1\n",
    "                    break\n",
    "        #ids.append(k)\n",
    "        \n",
    "        #ids.append(GG.node[k]['id'])\n",
    "        if(k>0):\n",
    "            ids.append(GG.node[k]['id'])\n",
    "        else:\n",
    "            ids.append(-1)\n",
    "    return ids\n"
   ]
  },
  {
   "cell_type": "code",
   "execution_count": 49,
   "metadata": {},
   "outputs": [],
   "source": [
    "def getBranchGivenStartNodeValue(startNodeValue,GG, counter , WL, overlap):    \n",
    "    data = [] \n",
    "    nei= list(GG.neighbors(0))      \n",
    "    #print(nei)\n",
    "    k=-1\n",
    "    for n in nei:\n",
    "        if(GG.node[n]['value']==startNodeValue):\n",
    "            k=n\n",
    "            break\n",
    "    #print(k)\n",
    "    #data.append(k)\n",
    "    \n",
    "    while(k>=0):\n",
    "        nei= list(GG.neighbors(k))    \n",
    "        if len(nei)==0:\n",
    "            k=-1\n",
    "        else:\n",
    "            k=nei[0]\n",
    "            data.append(GG.node[k]['value'])\n",
    "    return data\n"
   ]
  },
  {
   "cell_type": "code",
   "execution_count": 50,
   "metadata": {},
   "outputs": [],
   "source": [
    "def checkBranch(branch,GG, counter , WL, overlap):    \n",
    "    ids = []\n",
    "    plt.rcParams.update({'font.size': 22})\n",
    "    data1= branch  \n",
    "    #print (data1)\n",
    "    poz = 0\n",
    "    #print(len(data1)/WL)    \n",
    "    step = WL-overlap\n",
    "    \n",
    "    for i in range(0,len(data1)-step+1, step):\n",
    "        k=0\n",
    "        poz=0\n",
    "        #print()\n",
    "        j=0\n",
    "        # data\n",
    "        d=data1[i + j]\n",
    "\n",
    "        # neighbours \n",
    "        nei= list(GG.neighbors(poz))       \n",
    "        if len(nei)==0:\n",
    "            k=-1\n",
    "            break\n",
    "        else:\n",
    "            k=-1\n",
    "            for n in nei:\n",
    "                if(GG.node[n]['value']==d):\n",
    "                    k=n\n",
    "                    break\n",
    "            if(k>=0):\n",
    "                poz=k                    \n",
    "                #GG.node[k]['occurance_count'] = GG.node[k]['occurance_count'] + 1\n",
    "            else:\n",
    "                k=-1\n",
    "                break\n",
    "        #ids.append(k)\n",
    "        \n",
    "        #ids.append(GG.node[k]['id'])\n",
    "        if(k>0):\n",
    "            ids.append(GG.node[k]['value'])\n",
    "        else:\n",
    "            ids.append(-1)\n",
    "    return ids"
   ]
  },
  {
   "cell_type": "code",
   "execution_count": 51,
   "metadata": {},
   "outputs": [],
   "source": [
    "def buildAbstractTree(GG, symbols, ops,counter):\n",
    "    #print(b)\n",
    "    decodedOps=decodeOperationsDeeper(input_data=ops,len_data=20, qsignals= quantize(symbols,len_of_data=4) )\n",
    "    \n",
    "    GG,counter = train_tree( mergeList(mergeList(decodedOps)), GG, counter , WL, overlap)\n",
    "    plotGraph(GG,WL,counter)\n",
    "    return GG, counter\n"
   ]
  },
  {
   "cell_type": "code",
   "execution_count": 52,
   "metadata": {},
   "outputs": [],
   "source": [
    "def addBranches(GG,ops,counter,WL, overlap=0, doPlot = False):    \n",
    "    GG,counter = train_tree( (mergeList(ops)), GG, counter , WL, overlap)\n",
    "    if doPlot:\n",
    "        plotGraph(GG,WL,counter)\n",
    "    return GG, counter"
   ]
  },
  {
   "cell_type": "code",
   "execution_count": 53,
   "metadata": {},
   "outputs": [],
   "source": [
    "def buildContextTree(GG, ops,counter,WL, overlap=0):\n",
    "    #print(b)\n",
    "    #decodedOps=decodeOperationsDeeper(input_data=ops,len_data=20, qsignals= quantize(symbols,len_of_data=4) )\n",
    "    \n",
    "    GG,counter = train_tree( ops, GG, counter , WL, overlap)\n",
    "    plotGraph(GG,WL,counter)\n",
    "    return GG, counter"
   ]
  },
  {
   "cell_type": "markdown",
   "metadata": {},
   "source": [
    "# Build the system"
   ]
  },
  {
   "cell_type": "markdown",
   "metadata": {},
   "source": [
    "## Generate Symbols randomly (only one time run )"
   ]
  },
  {
   "cell_type": "code",
   "execution_count": 54,
   "metadata": {},
   "outputs": [
    {
     "name": "stdout",
     "output_type": "stream",
     "text": [
      "generate sample data\n[135, 87, 32, 134, 74, 87, 197, 123]\n[147, -43, 49, 261, 96, 175, 92, 87]\n[210, 11, 53, 233, -18, 63, 177, 127]\n[286, 37, 226, 179, -55, 96, 122, 87]\n[25, 100, 194, 71, 83, 87, 118, 131]\n[37, 8, 200, 2, -160, 166, -42, 254]\n[140, 183, 241, 204, -42, 76, 150, 17]\n[128, 28, 201, 145, -63, 128, 133, -7]\n[205, 168, 52, -11, 137, -92, 149, 107]\n[127, 54, 113, 53, 181, 236, 88, 4]\n[127, -39, 301, 239, 186, 164, 112, 52]\n[-7, 69, 141, 157, 53, 125, -123, 115]\n[57, 254, 130, 56, 18, 79, 73, 92]\n[234, 5, 320, 126, 93, 221, 171, 58]\n[314, -17, 162, 140, 229, 106, 132, 119]\n[191, 127, 259, 96, -83, 94, 2, 65]\n\n0 [307, -32, 28, -79, 33, -72, -9, 52]\n1 [305, -12, -103, 46, 134, -149, -55, 3]\n2 [302, 55, -32, -129, 140, -127, -57, 35]\n3 [345, 168, -41, -84, 176, 33, -106, 24]\n4 [286, -10, -70, -39, -53, 86, -2, -9]\n5 [164, 10, -78, -103, 20, 140, -230, -209]\n6 [342, 200, -61, -66, -30, 26, -83, 94]\n7 [245, 109, -95, -30, 70, 39, -135, 98]\n8 [252, 39, 166, -105, 26, 44, 161, 29]\n9 [302, -57, 7, 162, 51, 42, -38, 59]\n10 [403, 40, -226, 93, 117, 43, 15, 42]\n11 [187, 67, -118, 93, -53, -11, -50, -168]\n12 [268, 83, 62, -34, -139, 52, -43, -13]\n13 [434, 50, -103, 42, 161, 137, -90, 79]\n14 [418, 4, -2, 42, 234, 15, 86, 9]\n15 [265, 210, -18, -27, 45, 115, -125, -44]\n"
     ]
    }
   ],
   "source": [
    "symbols= genSample(16)\n",
    "wsymbols= ( getWaveletCoefs(symbols))\n",
    "print()\n",
    "for i in range(len(wsymbols)):\n",
    "    #print(symbols[i])\n",
    "    print(i,[ int(j) for j in wsymbols[i]])\n",
    "#a= getSamplePredef()\n"
   ]
  },
  {
   "cell_type": "markdown",
   "metadata": {},
   "source": [
    "## Generate operations "
   ]
  },
  {
   "cell_type": "code",
   "execution_count": 55,
   "metadata": {
    "scrolled": false
   },
   "outputs": [
    {
     "name": "stdout",
     "output_type": "stream",
     "text": [
      "symbols\n0 0 [135, 87, 32, 134, 74, 87, 197, 123]\n1 1 [147, -43, 49, 261, 96, 175, 92, 87]\n2 2 [210, 11, 53, 233, -18, 63, 177, 127]\n3 3 [286, 37, 226, 179, -55, 96, 122, 87]\n4 4 [25, 100, 194, 71, 83, 87, 118, 131]\n5 5 [37, 8, 200, 2, -160, 166, -42, 254]\n6 6 [140, 183, 241, 204, -42, 76, 150, 17]\n7 7 [128, 28, 201, 145, -63, 128, 133, -7]\n8 8 [205, 168, 52, -11, 137, -92, 149, 107]\n9 9 [127, 54, 113, 53, 181, 236, 88, 4]\n10 + [127, -39, 301, 239, 186, 164, 112, 52]\n11 - [-7, 69, 141, 157, 53, 125, -123, 115]\n12 * [57, 254, 130, 56, 18, 79, 73, 92]\n13 / [234, 5, 320, 126, 93, 221, 171, 58]\n14 = [314, -17, 162, 140, 229, 106, 132, 119]\n15 ? [191, 127, 259, 96, -83, 94, 2, 65]\n\noperations encoded \n0 [9, 7, 8, 1]\n\noperations\n0\t9 / 8 = 1\noperation symbols\n0 [127, 54, 113, 53, 181, 236, 88, 4]\n1 [234, 5, 320, 126, 93, 221, 171, 58]\n2 [205, 168, 52, -11, 137, -92, 149, 107]\n3 [314, -17, 162, 140, 229, 106, 132, 119]\n4 [147, -43, 49, 261, 96, 175, 92, 87]\n\nwavelet symbols\n0 [302.6417023478424, -57.27564927611033, 7.5, 162.5, 51.61879502661797, 42.42640687119285, -38.890872965260115, 59.396969619669996]\n1 [434.1635636485403, 50.20458146424488, -103.50000000000004, 42.500000000000014, 161.92745289171938, 137.17871555019022, -90.50966799187809, 79.90306627407988]\n2 [252.7906742741908, 39.95153313703993, 166.00000000000003, -105.50000000000003, 26.162950903902257, 44.5477272147525, 161.92745289171938, 29.69848480983501]\n3 [418.96076785302944, 4.596194077712511, -2.5000000000000284, 42.000000000000014, 234.05234457274724, 15.556349186104043, 86.97413408594534, 9.192388155425107]\n4 [305.4701294725886, -12.727922061357873, -103.00000000000003, 46.00000000000003, 134.35028842544403, -149.9066376115481, -55.86143571373725, 3.5355339059327306]\n\nquantized wavelet symbols\n0 [7, 2, 4, 6, 5, 4, 3, 5]\n1 [7, 5, 1, 4, 6, 6, 2, 5]\n2 [7, 4, 6, 1, 4, 4, 6, 4]\n3 [7, 4, 3, 4, 7, 4, 5, 4]\n4 [7, 3, 1, 4, 6, 1, 2, 4]\n"
     ]
    }
   ],
   "source": [
    "verbose = True\n",
    "op_count = 2\n",
    "symbols_correspondence = [\"0\",\"1\",\"2\",\"3\",\"4\",\"5\",\"6\",\"7\",\"8\",\"9\",\"+\", \"-\",\"*\", \"/\",\"=\",\"?\"]\n",
    "if (verbose):\n",
    "    print(\"symbols\")\n",
    "    [print(i, symbols_correspondence[i], symbols[i]) for i in range(len(symbols))]\n",
    "    print()\n",
    "    \n",
    "a,b=generateOperationsSymbols(op_count, symbols, False, False)\n",
    "\n",
    "if (verbose): \n",
    "    print(\"operations encoded \")\n",
    "    [print(i, a[i]) for i in range(len(a))]\n",
    "    print() \n",
    "    print(\"operations\")\n",
    "    decodeTrainOperations(a)\n",
    "    print(\"operation symbols\")\n",
    "    [print(i, b[i]) for i in range(len(b))]\n",
    "    print()\n",
    "\n",
    "c= ( getWaveletCoefs(b))\n",
    "if (verbose): \n",
    "    print(\"wavelet symbols\")\n",
    "    [print(i, c[i]) for i in range(len(c))]\n",
    "    \n",
    "    print()\n",
    "d=quantize(c,len_of_data=4)\n",
    "\n",
    "if (verbose): \n",
    "    print(\"quantized wavelet symbols\")\n",
    "    [print(i, d[i]) for i in range(len(d))]"
   ]
  },
  {
   "cell_type": "markdown",
   "metadata": {},
   "source": [
    "## Initialize the components"
   ]
  },
  {
   "cell_type": "code",
   "execution_count": 56,
   "metadata": {},
   "outputs": [],
   "source": [
    "#GG= initTree()\n",
    "WLabstract = 8 # window length\n",
    "overlap = 0# int(WL/5)\n",
    "AbstractTree,counterAbstract = initTree()\n",
    "ContextTree,counterContext = initTree()\n",
    "ActuatorTree,counterActuator = initTree()\n",
    "#stepByStep1()"
   ]
  },
  {
   "cell_type": "code",
   "execution_count": 57,
   "metadata": {},
   "outputs": [
    {
     "name": "stdout",
     "output_type": "stream",
     "text": [
      "[[7, 2, 4, 6, 5, 4, 3, 5], [7, 5, 1, 4, 6, 6, 2, 5], [7, 4, 6, 1, 4, 4, 6, 4], [7, 4, 3, 4, 7, 4, 5, 4], [7, 3, 1, 4, 6, 1, 2, 4]]\n"
     ]
    },
    {
     "data": {
      "text/plain": [
       "[-1]"
      ]
     },
     "execution_count": 57,
     "metadata": {},
     "output_type": "execute_result"
    }
   ],
   "source": [
    "print(d)\n",
    "branchID=0\n",
    "getBranchId(d[branchID],AbstractTree, counterAbstract , WL=8, overlap=0)\n"
   ]
  },
  {
   "cell_type": "code",
   "execution_count": 58,
   "metadata": {
    "scrolled": false,
    "collapsed": true
   },
   "outputs": [
    {
     "name": "stdout",
     "output_type": "stream",
     "text": [
      "generate sample data\n[177, -95, 160, 69, 38, 116, 37, 256]\ninput data  [7, 2, 4, 6, 5, 4, 3, 5]\nabstract branch id =  [0]\ncontext branch id =  [0]\n\ngenerate sample data\n[96, 69, 32, 13, 140, 211, 96, -91]\ninput data  [7, 5, 1, 4, 6, 6, 2, 5]\nabstract branch id =  [1]\ncontext branch id =  [1]\n\nABSTRACT\n"
     ]
    },
    {
     "ename": "ImportError",
     "evalue": "('requires pygraphviz ', 'http://pygraphviz.github.io/')",
     "traceback": [
      "\u001b[0;31m---------------------------------------------------------------------------\u001b[0m",
      "\u001b[0;31mModuleNotFoundError\u001b[0m                       Traceback (most recent call last)",
      "\u001b[0;32m~/anaconda3/lib/python3.6/site-packages/networkx/drawing/nx_agraph.py\u001b[0m in \u001b[0;36mpygraphviz_layout\u001b[0;34m(G, prog, root, args)\u001b[0m\n\u001b[1;32m    282\u001b[0m     \u001b[0;32mtry\u001b[0m\u001b[0;34m:\u001b[0m\u001b[0;34m\u001b[0m\u001b[0m\n\u001b[0;32m--> 283\u001b[0;31m         \u001b[0;32mimport\u001b[0m \u001b[0mpygraphviz\u001b[0m\u001b[0;34m\u001b[0m\u001b[0m\n\u001b[0m\u001b[1;32m    284\u001b[0m     \u001b[0;32mexcept\u001b[0m \u001b[0mImportError\u001b[0m\u001b[0;34m:\u001b[0m\u001b[0;34m\u001b[0m\u001b[0m\n",
      "\u001b[0;31mModuleNotFoundError\u001b[0m: No module named 'pygraphviz'",
      "\nDuring handling of the above exception, another exception occurred:\n",
      "\u001b[0;31mImportError\u001b[0m                               Traceback (most recent call last)",
      "\u001b[0;32m<ipython-input-58-7a591c36d398>\u001b[0m in \u001b[0;36m<module>\u001b[0;34m\u001b[0m\n\u001b[1;32m     26\u001b[0m     \u001b[0mprint\u001b[0m\u001b[0;34m(\u001b[0m\u001b[0;34m)\u001b[0m\u001b[0;34m\u001b[0m\u001b[0m\n\u001b[1;32m     27\u001b[0m \u001b[0mprint\u001b[0m\u001b[0;34m(\u001b[0m\u001b[0;34m\"ABSTRACT\"\u001b[0m\u001b[0;34m)\u001b[0m\u001b[0;34m\u001b[0m\u001b[0m\n\u001b[0;32m---> 28\u001b[0;31m \u001b[0mplotGraph\u001b[0m\u001b[0;34m(\u001b[0m\u001b[0mAbstractTree\u001b[0m\u001b[0;34m,\u001b[0m\u001b[0;36m8\u001b[0m\u001b[0;34m,\u001b[0m \u001b[0mcounterAbstract\u001b[0m\u001b[0;34m,\u001b[0m \u001b[0mshort\u001b[0m \u001b[0;34m=\u001b[0m \u001b[0;32mTrue\u001b[0m\u001b[0;34m)\u001b[0m\u001b[0;34m\u001b[0m\u001b[0m\n\u001b[0m\u001b[1;32m     29\u001b[0m \u001b[0mprint\u001b[0m\u001b[0;34m(\u001b[0m\u001b[0;34m\"CONTEXT\"\u001b[0m\u001b[0;34m)\u001b[0m\u001b[0;34m\u001b[0m\u001b[0m\n\u001b[1;32m     30\u001b[0m \u001b[0mplotGraph\u001b[0m\u001b[0;34m(\u001b[0m\u001b[0mContextTree\u001b[0m\u001b[0;34m,\u001b[0m\u001b[0;36m1\u001b[0m\u001b[0;34m,\u001b[0m \u001b[0mcounterContext\u001b[0m\u001b[0;34m,\u001b[0m \u001b[0mshort\u001b[0m \u001b[0;34m=\u001b[0m \u001b[0;32mTrue\u001b[0m\u001b[0;34m)\u001b[0m\u001b[0;34m\u001b[0m\u001b[0m\n",
      "\u001b[0;32m<ipython-input-47-e2f4c2577a53>\u001b[0m in \u001b[0;36mplotGraph\u001b[0;34m(GG, WL, counter, short)\u001b[0m\n\u001b[1;32m      3\u001b[0m     \u001b[0mlabels\u001b[0m\u001b[0;34m=\u001b[0m\u001b[0mdict\u001b[0m\u001b[0;34m(\u001b[0m\u001b[0;34m(\u001b[0m\u001b[0mn\u001b[0m\u001b[0;34m,\u001b[0m\u001b[0md\u001b[0m\u001b[0;34m[\u001b[0m\u001b[0;34m'value'\u001b[0m\u001b[0;34m]\u001b[0m\u001b[0;34m)\u001b[0m \u001b[0;32mfor\u001b[0m \u001b[0mn\u001b[0m\u001b[0;34m,\u001b[0m\u001b[0md\u001b[0m \u001b[0;32min\u001b[0m \u001b[0mGG\u001b[0m\u001b[0;34m.\u001b[0m\u001b[0mnodes\u001b[0m\u001b[0;34m(\u001b[0m\u001b[0mdata\u001b[0m\u001b[0;34m=\u001b[0m\u001b[0;32mTrue\u001b[0m\u001b[0;34m)\u001b[0m\u001b[0;34m)\u001b[0m\u001b[0;34m\u001b[0m\u001b[0m\n\u001b[1;32m      4\u001b[0m     \u001b[0;31m#pos=nx.graphviz_layout(GG, prog='dot')\u001b[0m\u001b[0;34m\u001b[0m\u001b[0;34m\u001b[0m\u001b[0m\n\u001b[0;32m----> 5\u001b[0;31m     \u001b[0mpos\u001b[0m \u001b[0;34m=\u001b[0m\u001b[0mgraphviz_layout\u001b[0m\u001b[0;34m(\u001b[0m\u001b[0mGG\u001b[0m\u001b[0;34m,\u001b[0m \u001b[0mprog\u001b[0m\u001b[0;34m=\u001b[0m\u001b[0;34m'dot'\u001b[0m\u001b[0;34m)\u001b[0m\u001b[0;34m\u001b[0m\u001b[0m\n\u001b[0m\u001b[1;32m      6\u001b[0m     \u001b[0;31m#nx.spring_layout(GG)\u001b[0m\u001b[0;34m\u001b[0m\u001b[0;34m\u001b[0m\u001b[0m\n\u001b[1;32m      7\u001b[0m \u001b[0;34m\u001b[0m\u001b[0m\n",
      "\u001b[0;32m~/anaconda3/lib/python3.6/site-packages/networkx/drawing/nx_agraph.py\u001b[0m in \u001b[0;36mgraphviz_layout\u001b[0;34m(G, prog, root, args)\u001b[0m\n\u001b[1;32m    241\u001b[0m \u001b[0;34m\u001b[0m\u001b[0m\n\u001b[1;32m    242\u001b[0m     \"\"\"\n\u001b[0;32m--> 243\u001b[0;31m     \u001b[0;32mreturn\u001b[0m \u001b[0mpygraphviz_layout\u001b[0m\u001b[0;34m(\u001b[0m\u001b[0mG\u001b[0m\u001b[0;34m,\u001b[0m \u001b[0mprog\u001b[0m\u001b[0;34m=\u001b[0m\u001b[0mprog\u001b[0m\u001b[0;34m,\u001b[0m \u001b[0mroot\u001b[0m\u001b[0;34m=\u001b[0m\u001b[0mroot\u001b[0m\u001b[0;34m,\u001b[0m \u001b[0margs\u001b[0m\u001b[0;34m=\u001b[0m\u001b[0margs\u001b[0m\u001b[0;34m)\u001b[0m\u001b[0;34m\u001b[0m\u001b[0m\n\u001b[0m\u001b[1;32m    244\u001b[0m \u001b[0;34m\u001b[0m\u001b[0m\n\u001b[1;32m    245\u001b[0m \u001b[0;34m\u001b[0m\u001b[0m\n",
      "\u001b[0;32m~/anaconda3/lib/python3.6/site-packages/networkx/drawing/nx_agraph.py\u001b[0m in \u001b[0;36mpygraphviz_layout\u001b[0;34m(G, prog, root, args)\u001b[0m\n\u001b[1;32m    284\u001b[0m     \u001b[0;32mexcept\u001b[0m \u001b[0mImportError\u001b[0m\u001b[0;34m:\u001b[0m\u001b[0;34m\u001b[0m\u001b[0m\n\u001b[1;32m    285\u001b[0m         raise ImportError('requires pygraphviz ',\n\u001b[0;32m--> 286\u001b[0;31m                           'http://pygraphviz.github.io/')\n\u001b[0m\u001b[1;32m    287\u001b[0m     \u001b[0;32mif\u001b[0m \u001b[0mroot\u001b[0m \u001b[0;32mis\u001b[0m \u001b[0;32mnot\u001b[0m \u001b[0;32mNone\u001b[0m\u001b[0;34m:\u001b[0m\u001b[0;34m\u001b[0m\u001b[0m\n\u001b[1;32m    288\u001b[0m         \u001b[0margs\u001b[0m \u001b[0;34m+=\u001b[0m \u001b[0;34m\"-Groot=%s\"\u001b[0m \u001b[0;34m%\u001b[0m \u001b[0mroot\u001b[0m\u001b[0;34m\u001b[0m\u001b[0m\n",
      "\u001b[0;31mImportError\u001b[0m: ('requires pygraphviz ', 'http://pygraphviz.github.io/')"
     ],
     "output_type": "error"
    }
   ],
   "source": [
    "addBranch = True\n",
    "for branchID in range(2) : #range(len(d)):    \n",
    "    #branchID=1\n",
    "    if addBranch:\n",
    "        AbstractTree,counterAbstract = addBranches(AbstractTree,[d[branchID]],counterAbstract,WL=8, overlap=0, doPlot=False)\n",
    "\n",
    "    abid= getBranchId(d[branchID],AbstractTree, counterAbstract , WL=8, overlap=0)\n",
    "\n",
    "    if addBranch:\n",
    "        ContextTree,counterContext = addBranches(ContextTree,[abid],counterContext,WL=1, overlap=0, doPlot=False)\n",
    "    cbid= getBranchId(abid,ContextTree, counterContext , WL=1, overlap=0)\n",
    "    \n",
    "    foundNode = checkBranch(cbid,ActuatorTree, counterContext , WL=1, overlap=0)\n",
    "    if len(foundNode) ==0:\n",
    "        sample_sound= mergeList( [cbid, (genSample(1)[0])])\n",
    "        ActuatorTree,counterActuator = addBranches(ActuatorTree, [sample_sound] ,counterActuator,WL=9, overlap=0, doPlot=False)\n",
    "    else:\n",
    "        print(\"node exists in actuator, check error\")\n",
    "        #print(b)\n",
    "        #print()\n",
    "        \n",
    "\n",
    "    print (\"input data \",d[branchID])\n",
    "    print(\"abstract branch id = \" , abid)\n",
    "    print(\"context branch id = \" , cbid)\n",
    "    print()\n",
    "print(\"ABSTRACT\")\n",
    "plotGraph(AbstractTree,8, counterAbstract, short = True)\n",
    "print(\"CONTEXT\")\n",
    "plotGraph(ContextTree,1, counterContext, short = True)\n",
    "print(\"ACTUATOR\")\n",
    "plotGraph(ActuatorTree,1, counterActuator, short = True)\n",
    "\n"
   ]
  },
  {
   "cell_type": "code",
   "execution_count": 59,
   "metadata": {},
   "outputs": [
    {
     "data": {
      "text/plain": [
       "[177, -95, 160, 69, 38, 116, 37, 256]"
      ]
     },
     "execution_count": 59,
     "metadata": {},
     "output_type": "execute_result"
    }
   ],
   "source": [
    "#print (checkBranch(d[branchID],AbstractTree, counterAbstract , WL=8, overlap=0))\n",
    "#checkBranch([1],ContextTree, counterContext , WL=1, overlap=0)\n",
    "#foundNode\n",
    "checkBranch([1],ActuatorTree, counterActuator , WL=1, overlap=0)\n",
    "brach =[65, 205, 45, 86, 151, 121, 183, 94]\n",
    "\n",
    "getBranchGivenStartNodeValue(0, ActuatorTree, counterActuator , 9, 0)\n"
   ]
  },
  {
   "cell_type": "code",
   "execution_count": 64,
   "metadata": {},
   "outputs": [
    {
     "ename": "TypeError",
     "evalue": "trainOneStep() missing 1 required positional argument: 'data'",
     "traceback": [
      "\u001b[0;31m---------------------------------------------------------------------------\u001b[0m",
      "\u001b[0;31mTypeError\u001b[0m                                 Traceback (most recent call last)",
      "\u001b[0;32m<ipython-input-64-88b96b030db6>\u001b[0m in \u001b[0;36m<module>\u001b[0;34m\u001b[0m\n\u001b[1;32m      4\u001b[0m         \u001b[0;32mif\u001b[0m \u001b[0maddBranch\u001b[0m\u001b[0;34m:\u001b[0m\u001b[0;34m\u001b[0m\u001b[0m\n\u001b[1;32m      5\u001b[0m             \u001b[0mAbstractTree\u001b[0m\u001b[0;34m,\u001b[0m\u001b[0mcounterAbstract\u001b[0m \u001b[0;34m=\u001b[0m \u001b[0maddBranches\u001b[0m\u001b[0;34m(\u001b[0m\u001b[0mAbstractTree\u001b[0m\u001b[0;34m,\u001b[0m\u001b[0;34m[\u001b[0m\u001b[0md\u001b[0m\u001b[0;34m[\u001b[0m\u001b[0mbranchID\u001b[0m\u001b[0;34m]\u001b[0m\u001b[0;34m]\u001b[0m\u001b[0;34m,\u001b[0m\u001b[0mcounterAbstract\u001b[0m\u001b[0;34m,\u001b[0m\u001b[0mWL\u001b[0m\u001b[0;34m=\u001b[0m\u001b[0;36m8\u001b[0m\u001b[0;34m,\u001b[0m \u001b[0moverlap\u001b[0m\u001b[0;34m=\u001b[0m\u001b[0;36m0\u001b[0m\u001b[0;34m,\u001b[0m \u001b[0mdoPlot\u001b[0m\u001b[0;34m=\u001b[0m\u001b[0;32mFalse\u001b[0m\u001b[0;34m)\u001b[0m\u001b[0;34m\u001b[0m\u001b[0m\n\u001b[0;32m----> 6\u001b[0;31m \u001b[0mtrainOneStep\u001b[0m\u001b[0;34m(\u001b[0m\u001b[0;34m)\u001b[0m\u001b[0;34m\u001b[0m\u001b[0m\n\u001b[0m",
      "\u001b[0;31mTypeError\u001b[0m: trainOneStep() missing 1 required positional argument: 'data'"
     ],
     "output_type": "error"
    }
   ],
   "source": [
    "def trainOneStep(data):\n",
    "    for branchID in range(2) : #range(len(d)):    \n",
    "    #branchID=1\n",
    "        if addBranch:\n",
    "            AbstractTree,counterAbstract = addBranches(AbstractTree,[d[branchID]],counterAbstract,WL=8, overlap=0, doPlot=False)\n",
    "trainOneStep()\n"
   ]
  },
  {
   "cell_type": "code",
   "execution_count": null,
   "metadata": {},
   "outputs": [],
   "source": []
  },
  {
   "cell_type": "code",
   "execution_count": null,
   "metadata": {},
   "outputs": [],
   "source": []
  },
  {
   "cell_type": "code",
   "execution_count": null,
   "metadata": {},
   "outputs": [],
   "source": []
  },
  {
   "cell_type": "code",
   "execution_count": null,
   "metadata": {},
   "outputs": [],
   "source": []
  },
  {
   "cell_type": "code",
   "execution_count": null,
   "metadata": {},
   "outputs": [],
   "source": []
  },
  {
   "cell_type": "code",
   "execution_count": null,
   "metadata": {},
   "outputs": [],
   "source": []
  },
  {
   "cell_type": "code",
   "execution_count": null,
   "metadata": {},
   "outputs": [],
   "source": []
  },
  {
   "cell_type": "code",
   "execution_count": null,
   "metadata": {},
   "outputs": [],
   "source": []
  },
  {
   "cell_type": "code",
   "execution_count": null,
   "metadata": {},
   "outputs": [],
   "source": []
  },
  {
   "cell_type": "code",
   "execution_count": 65,
   "metadata": {
    "scrolled": false
   },
   "outputs": [
    {
     "ename": "SyntaxError",
     "evalue": "invalid syntax (<ipython-input-65-4619ff62bfc1>, line 9)",
     "traceback": [
      "\u001b[0;36m  File \u001b[0;32m\"<ipython-input-65-4619ff62bfc1>\"\u001b[0;36m, line \u001b[0;32m9\u001b[0m\n\u001b[0;31m    GG,counter = buildAbstractTree(, symbols, ops, counter)\u001b[0m\n\u001b[0m                                   ^\u001b[0m\n\u001b[0;31mSyntaxError\u001b[0m\u001b[0;31m:\u001b[0m invalid syntax\n"
     ],
     "output_type": "error"
    }
   ],
   "source": [
    "#GG= initTree()\n",
    "WL = 8 # window length\n",
    "overlap = 0# int(WL/5)\n",
    "GG,counter = initTree()\n",
    "\n",
    "\n",
    "ops=generateOperations(100)\n",
    "print(ops)\n",
    "GG,counter = buildAbstractTree(, symbols, ops, counter)\n",
    "#print(GG.node[0])\n",
    "#print(counter)"
   ]
  },
  {
   "cell_type": "markdown",
   "metadata": {
    "scrolled": true
   },
   "source": [
    "\n",
    "\n",
    "plt.title(\"samples in time domain\")\n",
    "plt.plot(np.array(a).T)\n",
    "plt.show()\n",
    "\n",
    "plt.title(\"samples in wavelet domain\")\n",
    "plt.plot(np.array(aa).T)\n",
    "plt.show()\n",
    "\n",
    "plt.title(\"samples in time domain\")\n",
    "plotCorrelation(listToPandasDF(np.array(a).T))\n",
    "plt.show()\n",
    "plt.title(\"samples in wavelet domain\")\n",
    "plotCorrelation(listToPandasDF(np.array(aa).T))\n",
    "for j in range(len(aa)):\n",
    "    print([int(i) for i in aa[j]])\n"
   ]
  },
  {
   "cell_type": "markdown",
   "metadata": {},
   "source": [
    "# test the abstract with some operations"
   ]
  },
  {
   "cell_type": "code",
   "execution_count": 21,
   "metadata": {},
   "outputs": [],
   "source": [
    "WL = 4 # window length\n",
    "overlap = 0# int(WL/5)\n",
    "GG1,counter1 = initTree()"
   ]
  },
  {
   "cell_type": "code",
   "execution_count": 22,
   "metadata": {},
   "outputs": [
    {
     "name": "stdout",
     "output_type": "stream",
     "text": [
      "0\t9 + 7 = 16\n",
      "1\t4 / 8 = 0\n",
      "2\t1 + 6 = 7\n",
      "3\t9 / 3 = 6\n",
      "4\t7 / 4 = 1\n",
      "5\t9 / 3 = 3\n",
      "6\t5 * 2 = 10\n",
      "7\t8 / 1 = 8\n",
      "8\t1 + 2 = 3\n",
      "9\t5 / 6 = 1\n",
      "10\t6 + 3 = 9\n",
      "11\t0 + 8 = 8\n",
      "12\t5 / 2 = 3\n",
      "13\t4 / 7 = 3\n",
      "14\t3 * 0 = 0\n",
      "15\t5 * 8 = 40\n",
      "16\t0 / 6 = 6\n",
      "17\t0 + 0 = 0\n",
      "18\t4 / 1 = 4\n",
      "19\t8 / 8 = 0\n",
      "20\t8 + 9 = 17\n",
      "21\t5 * 4 = 20\n",
      "22\t6 / 4 = 1\n",
      "23\t7 * 8 = 56\n",
      "24\t5 + 1 = 6\n",
      "25\t9 / 0 = 9\n",
      "26\t9 / 5 = 4\n",
      "27\t8 + 5 = 13\n",
      "28\t8 + 6 = 14\n",
      "29\t3 / 9 = 0\n",
      "30\t9 + 6 = 15\n",
      "31\t6 + 3 = 9\n",
      "32\t6 * 5 = 30\n",
      "33\t0 + 0 = 0\n",
      "34\t7 / 5 = 2\n",
      "35\t5 + 3 = 8\n",
      "36\t8 + 8 = 16\n",
      "37\t7 / 1 = 6\n",
      "38\t0 + 0 = 0\n",
      "39\t4 + 6 = 10\n",
      "40\t7 / 2 = 3\n",
      "41\t6 * 5 = 30\n",
      "42\t1 / 1 = 0\n",
      "43\t3 * 2 = 6\n",
      "44\t45\t8 * 4 = 32\n",
      "46\t3 / 5 = 0\n",
      "47\t8 + 4 = 12\n",
      "48\t8 / 7 = 1\n",
      "49\t1 / 2 = 1\n",
      "50\t2 * 9 = 18\n",
      "51\t4 / 4 = 0\n",
      "52\t1 / 2 = 1\n",
      "53\t8 * 6 = 48\n",
      "54\t1 + 5 = 6\n",
      "55\t6 / 4 = 2\n",
      "56\t7 + 6 = 13\n",
      "57\t5 + 5 = 10\n",
      "58\t5 + 4 = 9\n",
      "59\t0 / 1 = 1\n",
      "60\t5 + 6 = 11\n",
      "61\t2 / 4 = 2\n",
      "62\t0 * 6 = 0\n",
      "63\t4 + 1 = 5\n",
      "64\t8 / 1 = 7\n",
      "65\t0 * 8 = 0\n",
      "66\t0 + 9 = 9\n",
      "67\t0 * 9 = 0\n",
      "68\t2 / 5 = 0\n",
      "69\t7 * 7 = 49\n",
      "70\t3 / 8 = 5\n",
      "71\t6 * 2 = 12\n",
      "72\t4 / 3 = 1\n",
      "73\t4 * 3 = 12\n",
      "74\t5 + 8 = 13\n",
      "75\t7 / 5 = 2\n",
      "76\t77\t5 / 4 = 1\n",
      "78\t0 * 7 = 0\n",
      "79\t9 * 3 = 27\n",
      "80\t2 + 3 = 5\n",
      "81\t0 + 5 = 5\n",
      "82\t7 + 8 = 15\n",
      "83\t1 / 8 = 7\n",
      "84\t5 + 4 = 9\n",
      "85\t5 + 5 = 10\n",
      "86\t9 * 8 = 72\n",
      "87\t2 / 6 = 4\n",
      "88\t3 * 8 = 24\n",
      "89\t7 * 4 = 28\n",
      "90\t5 / 6 = 0\n",
      "91\t4 / 4 = 0\n",
      "92\t3 / 7 = 0\n",
      "93\t6 + 5 = 11\n",
      "94\t0 * 9 = 0\n",
      "95\t2 / 9 = 0\n",
      "96\t4 / 9 = 0\n",
      "97\t9 / 2 = 4\n",
      "98\t1 / 4 = 0\n",
      "99\t9 / 6 = 1\n",
      "100\t6 / 7 = 1\n",
      "101\t6 * 3 = 18\n",
      "102\t8 * 1 = 8\n",
      "103\t6 / 1 = 5\n",
      "104\t5 / 5 = 1\n",
      "105\t1 + 9 = 10\n",
      "106\t0 + 4 = 4\n",
      "107\t3 + 2 = 5\n",
      "108\t2 + 1 = 3\n",
      "109\t9 / 1 = 9\n",
      "110\t4 + 8 = 12\n",
      "111\t1 + 7 = 8\n",
      "112\t0 / 0 = 0\n",
      "113\t3 / 1 = 2\n",
      "114\t1 / 4 = 3\n",
      "115\t6 * 6 = 36\n",
      "116\t5 + 7 = 12\n",
      "117\t1 / 6 = 0\n",
      "118\t0 + 6 = 6\n",
      "119\t1 + 3 = 4\n",
      "120\t4 * 9 = 36\n",
      "121\t3 / 2 = 1\n",
      "122\t2 / 3 = 1\n",
      "123\t0 + 9 = 9\n",
      "124\t8 / 2 = 4\n",
      "125\t5 + 2 = 7\n",
      "126\t5 + 2 = 7\n",
      "127\t4 / 4 = 0\n",
      "128\t6 / 0 = 6\n",
      "129\t8 / 8 = 1\n",
      "130\t5 + 0 = 5\n",
      "131\t1 * 8 = 8\n",
      "132\t4 + 3 = 7\n",
      "133\t4 + 4 = 8\n",
      "134\t1 + 4 = 5\n",
      "135\t1 / 3 = 2\n",
      "136\t0 * 7 = 0\n",
      "137\t9 / 7 = 1\n",
      "138\t4 + 0 = 4\n",
      "139\t6 * 9 = 54\n",
      "140\t3 / 3 = 0\n",
      "141\t3 * 4 = 12\n",
      "142\t8 + 3 = 11\n",
      "143\t8 / 5 = 1\n",
      "144\t3 * 3 = 9\n",
      "145\t9 + 2 = 11\n",
      "146\t3 + 5 = 8\n",
      "147\t3 + 0 = 3\n",
      "148\t8 * 3 = 24\n",
      "149\t1 + 1 = 2\n",
      "150\t6 / 1 = 5\n",
      "151\t5 / 8 = 3\n",
      "152\t9 + 5 = 14\n",
      "153\t2 / 7 = 0\n",
      "154\t2 / 7 = 5\n",
      "155\t5 / 4 = 1\n",
      "156\t6 + 7 = 13\n",
      "157\t8 / 1 = 8\n",
      "158\t8 + 4 = 12\n",
      "159\t4 * 3 = 12\n",
      "160\t9 / 2 = 7\n",
      "161\t3 / 4 = 0\n",
      "162\t9 / 3 = 6\n",
      "163\t2 * 1 = 2\n",
      "164\t3 / 1 = 2\n",
      "165\t9 * 6 = 54\n",
      "166\t1 + 4 = 5\n",
      "167\t4 / 2 = 2\n",
      "168\t3 / 0 = 3\n",
      "169\t1 / 1 = 0\n",
      "170\t0 * 9 = 0\n",
      "171\t1 / 6 = 0\n",
      "172\t3 / 8 = 5\n",
      "173\t1 + 7 = 8\n",
      "174\t4 / 1 = 3\n",
      "175\t7 / 1 = 6\n",
      "176\t9 / 3 = 6\n",
      "177\t9 / 4 = 5\n",
      "178\t2 + 3 = 5\n",
      "179\t4 / 0 = 4\n",
      "180\t8 / 2 = 6\n",
      "181\t4 / 4 = 1\n",
      "182\t4 / 0 = 4\n",
      "183\t7 / 2 = 3\n",
      "184\t0 / 1 = 1\n",
      "185\t1 * 4 = 4\n",
      "186\t7 * 0 = 0\n",
      "187\t5 * 4 = 20\n",
      "188\t4 / 3 = 1\n",
      "189\t6 + 3 = 9\n",
      "190\t7 * 3 = 21\n",
      "191\t9 + 5 = 14\n",
      "192\t8 + 9 = 17\n",
      "193\t4 / 2 = 2\n",
      "194\t0 / 3 = 0\n",
      "195\t7 + 1 = 8\n",
      "196\t9 + 5 = 14\n",
      "197\t9 + 7 = 16\n",
      "198\t0 + 3 = 3\n",
      "199\t3 / 7 = 4\n",
      "200\t0 / 0 = 0\n",
      "201\t8 + 4 = 12\n",
      "202\t2 + 4 = 6\n",
      "203\t0 * 4 = 0\n",
      "204\t0 + 3 = 3\n",
      "205\t9 + 8 = 17\n",
      "206\t5 + 1 = 6\n",
      "207\t2 * 7 = 14\n",
      "208\t6 + 3 = 9\n",
      "209\t3 * 0 = 0\n",
      "210\t9 / 5 = 4\n",
      "211\t4 + 6 = 10\n",
      "212\t1 + 0 = 1\n",
      "213\t7 / 2 = 3\n",
      "214\t2 / 3 = 0\n",
      "215\t8 / 0 = 8\n",
      "216\t1 / 1 = 0\n",
      "217\t2 / 4 = 2\n",
      "218\t4 / 1 = 4\n",
      "219\t7 + 2 = 9\n",
      "220\t5 / 8 = 3\n",
      "221\t3 * 8 = 24\n",
      "222\t4 + 3 = 7\n",
      "223\t5 * 3 = 15\n",
      "224\t5 / 2 = 2\n",
      "225\t6 + 7 = 13\n",
      "226\t6 / 5 = 1\n",
      "227\t6 + 4 = 10\n",
      "228\t4 / 6 = 2\n",
      "229\t9 * 9 = 81\n",
      "230\t3 + 3 = 6\n",
      "231\t9 + 6 = 15\n",
      "232\t4 / 4 = 0\n",
      "233\t4 / 9 = 0\n",
      "234\t2 / 3 = 1\n",
      "235\t6 / 7 = 1\n",
      "236\t5 / 5 = 1\n",
      "237\t6 / 3 = 3\n",
      "238\t9 * 8 = 72\n",
      "239\t2 * 7 = 14\n",
      "240\t5 + 1 = 6\n",
      "241\t2 / 5 = 3\n",
      "242\t2 / 6 = 0\n",
      "243\t5 + 5 = 10\n",
      "244\t6 * 8 = 48\n",
      "245\t9 / 9 = 1\n",
      "246\t4 + 3 = 7\n",
      "247\t7 / 6 = 1\n",
      "248\t3 * 4 = 12\n",
      "249\t3 / 0 = 3\n",
      "250\t8 / 2 = 6\n",
      "251\t3 / 3 = 0\n",
      "252\t4 / 3 = 1\n",
      "253\t3 / 8 = 5\n",
      "254\t8 / 3 = 5\n",
      "255\t3 * 4 = 12\n",
      "256\t2 / 7 = 5\n",
      "257\t3 / 3 = 1\n",
      "258\t2 / 3 = 1\n",
      "259\t3 / 5 = 2\n",
      "260\t9 + 5 = 14\n",
      "261\t8 + 2 = 10\n",
      "262\t3 / 6 = 3\n",
      "263\t0 * 7 = 0\n",
      "264\t8 / 1 = 7\n",
      "265\t5 / 9 = 0\n",
      "266\t9 + 7 = 16\n",
      "267\t3 / 3 = 0\n",
      "268\t9 / 5 = 4\n",
      "269\t0 + 9 = 9\n",
      "270\t6 + 8 = 14\n",
      "271\t6 / 4 = 2\n",
      "272\t7 * 7 = 49\n",
      "273\t0 / 6 = 6\n",
      "274\t8 * 6 = 48\n",
      "275\t4 * 5 = 20\n",
      "276\t5 + 0 = 5\n",
      "277\t5 * 9 = 45\n",
      "278\t1 + 9 = 10\n",
      "279\t9 / 6 = 3\n",
      "280\t8 / 3 = 2\n",
      "281\t1 + 2 = 3\n",
      "282\t9 / 2 = 4\n",
      "283\t0 / 2 = 0\n",
      "284\t0 + 7 = 7\n",
      "285\t7 / 2 = 5\n",
      "286\t1 + 4 = 5\n",
      "287\t7 / 6 = 1\n",
      "288\t7 / 2 = 5\n",
      "289\t2 * 1 = 2\n",
      "290\t0 / 8 = 8\n",
      "291\t8 + 1 = 9\n",
      "292\t5 + 9 = 14\n",
      "293\t7 * 2 = 14\n",
      "294\t3 / 2 = 1\n",
      "295\t7 * 1 = 7\n",
      "296\t5 * 2 = 10\n",
      "297\t3 / 9 = 0\n",
      "298\t8 + 5 = 13\n",
      "299\t0 + 7 = 7\n",
      "300\t8 / 6 = 2\n",
      "301\t1 * 6 = 6\n",
      "302\t2 + 8 = 10\n",
      "303\t6 / 7 = 0\n",
      "304\t4 / 3 = 1\n",
      "305\t0 / 0 = 0\n",
      "306\t4 / 1 = 4\n",
      "307\t9 * 0 = 0\n",
      "308\t7 / 0 = 7\n",
      "309\t8 / 1 = 8\n",
      "310\t6 / 6 = 1\n",
      "311\t8 / 4 = 4\n",
      "312\t7 / 0 = 0\n",
      "313\t0 + 4 = 4\n",
      "314\t4 * 4 = 16\n",
      "315\t1 / 1 = 0\n",
      "316\t4 / 5 = 1\n",
      "317\t2 / 4 = 2\n",
      "318\t1 * 8 = 8\n",
      "319\t4 + 9 = 13\n",
      "320\t7 / 1 = 6\n",
      "321\t8 / 1 = 8\n",
      "322\t2 + 4 = 6\n",
      "323\t0 / 2 = 2\n",
      "324\t1 * 1 = 1\n",
      "325\t9 + 3 = 12\n",
      "326\t0 * 6 = 0\n",
      "327\t6 / 0 = 0\n",
      "328\t1 + 4 = 5\n",
      "329\t5 / 4 = 1\n",
      "330\t1 * 0 = 0\n",
      "331\t4 / 4 = 1\n",
      "332\t7 / 2 = 5\n",
      "333\t4 / 1 = 4\n",
      "334\t4 / 9 = 0\n",
      "335\t9 + 1 = 10\n",
      "336\t2 + 3 = 5\n",
      "337\t9 * 7 = 63\n",
      "338\t5 / 8 = 0\n",
      "339\t3 / 7 = 0\n",
      "340\t7 * 9 = 63\n",
      "341\t6 / 6 = 0\n",
      "342\t9 + 1 = 10\n",
      "343\t7 / 7 = 1\n",
      "344\t4 + 4 = 8\n",
      "345\t8 * 0 = 0\n",
      "346\t4 / 5 = 1\n",
      "347\t7 * 7 = 49\n",
      "348\t2 / 7 = 0\n",
      "349\t8 / 8 = 1\n",
      "350\t5 / 0 = 5\n",
      "351\t6 + 0 = 6\n",
      "352\t9 + 1 = 10\n",
      "353\t0 + 2 = 2\n",
      "354\t0 + 3 = 3\n",
      "355\t8 / 6 = 1\n",
      "356\t5 / 6 = 1\n",
      "357\t3 / 9 = 6\n",
      "358\t0 + 5 = 5\n",
      "359\t5 / 1 = 5\n",
      "360\t7 + 7 = 14\n",
      "361\t9 / 2 = 7\n",
      "362\t6 + 6 = 12\n",
      "363\t2 / 3 = 0\n",
      "364\t4 + 9 = 13\n",
      "365\t4 + 4 = 8\n",
      "366\t1 + 4 = 5\n",
      "367\t2 / 5 = 0\n",
      "368\t4 + 7 = 11\n",
      "369\t9 / 0 = 9\n",
      "370\t5 / 1 = 4\n",
      "371\t1 / 0 = 1\n",
      "372\t7 + 6 = 13\n",
      "373\t1 / 1 = 0\n",
      "374\t4 / 8 = 0\n",
      "375\t1 / 8 = 0\n",
      "376\t2 * 5 = 10\n",
      "377\t8 + 2 = 10\n",
      "378\t3 * 3 = 9\n",
      "379\t9 + 2 = 11\n",
      "380\t5 / 6 = 1\n",
      "381\t6 / 2 = 3\n",
      "382\t1 + 8 = 9\n",
      "383\t9 + 3 = 12\n",
      "384\t1 + 2 = 3\n",
      "385\t7 + 4 = 11\n",
      "386\t7 + 4 = 11\n",
      "387\t6 + 5 = 11\n",
      "388\t1 * 6 = 6\n",
      "389\t1 / 5 = 4\n",
      "390\t7 + 6 = 13\n",
      "391\t1 / 8 = 0\n",
      "392\t3 * 8 = 24\n",
      "393\t8 * 9 = 72\n",
      "394\t2 / 0 = 2\n",
      "395\t5 + 3 = 8\n",
      "396\t6 + 8 = 14\n",
      "397\t3 / 4 = 1\n",
      "398\t2 + 9 = 11\n",
      "399\t7 + 0 = 7\n",
      "400\t9 + 9 = 18\n",
      "401\t0 + 1 = 1\n",
      "402\t5 / 0 = 5\n",
      "403\t3 + 4 = 7\n",
      "404\t4 + 8 = 12\n",
      "405\t2 / 0 = 2\n",
      "406\t1 / 5 = 0\n",
      "407\t3 + 2 = 5\n",
      "408\t1 / 5 = 4\n",
      "409\t4 / 3 = 1\n",
      "410\t1 + 6 = 7\n",
      "411\t8 * 5 = 40\n",
      "412\t1 + 9 = 10\n",
      "413\t2 / 1 = 1\n",
      "414\t2 / 7 = 5\n",
      "415\t6 / 1 = 6\n",
      "416\t9 / 9 = 0\n",
      "417\t7 / 3 = 2\n",
      "418\t1 / 7 = 6\n",
      "419\t4 / 9 = 5\n",
      "420\t8 + 7 = 15\n",
      "421\t6 / 6 = 1\n",
      "422\t2 / 2 = 0\n",
      "423\t0 / 4 = 0\n",
      "424\t4 / 1 = 3\n",
      "425\t6 + 3 = 9\n",
      "426\t6 / 7 = 1\n",
      "427\t4 + 4 = 8\n",
      "428\t8 / 6 = 2\n",
      "429\t6 / 2 = 4\n",
      "430\t1 * 9 = 9\n",
      "431\t8 + 3 = 11\n",
      "432\t6 / 7 = 1\n",
      "433\t8 + 5 = 13\n",
      "434\t2 / 6 = 4\n",
      "435\t8 / 1 = 8\n",
      "436\t4 + 9 = 13\n",
      "437\t9 / 1 = 9\n",
      "438\t0 * 9 = 0\n",
      "439\t8 * 6 = 48\n",
      "440\t7 / 0 = 7\n",
      "441\t9 / 3 = 3\n",
      "442\t7 / 8 = 0\n",
      "443\t0 * 7 = 0\n",
      "444\t2 + 3 = 5\n",
      "445\t9 / 5 = 1\n",
      "446\t4 + 0 = 4\n",
      "447\t4 / 6 = 0\n",
      "448\t2 / 6 = 4\n",
      "449\t2 / 8 = 6\n",
      "450\t4 / 4 = 1\n",
      "451\t4 + 5 = 9\n",
      "452\t2 + 6 = 8\n",
      "453\t7 + 1 = 8\n",
      "454\t9 + 5 = 14\n",
      "455\t0 * 7 = 0\n",
      "456\t0 / 6 = 0\n",
      "457\t1 / 2 = 1\n",
      "458\t8 / 7 = 1\n",
      "459\t6 + 8 = 14\n",
      "460\t4 / 9 = 0\n",
      "461\t1 + 4 = 5\n",
      "462\t0 * 3 = 0\n",
      "463\t2 / 5 = 3\n",
      "464\t9 + 3 = 12\n",
      "465\t7 / 5 = 1\n",
      "466\t1 / 0 = 1\n",
      "467\t0 + 0 = 0\n",
      "468\t2 / 6 = 0\n",
      "469\t0 / 5 = 0\n",
      "470\t8 * 4 = 32\n",
      "471\t7 / 9 = 0\n",
      "472\t0 + 6 = 6\n",
      "473\t6 / 3 = 3\n",
      "474\t8 / 6 = 2\n",
      "475\t4 + 8 = 12\n",
      "476\t0 / 9 = 9\n",
      "477\t3 + 2 = 5\n",
      "478\t6 + 1 = 7\n",
      "479\t1 + 7 = 8\n",
      "480\t1 / 0 = 1\n",
      "481\t7 / 2 = 5\n",
      "482\t7 / 7 = 1\n",
      "483\t5 / 3 = 2\n",
      "484\t4 + 4 = 8\n",
      "485\t6 * 3 = 18\n",
      "486\t1 * 8 = 8\n",
      "487\t3 + 6 = 9\n",
      "488\t4 / 0 = 0\n",
      "489\t7 * 5 = 35\n",
      "490\t5 / 1 = 4\n",
      "491\t9 * 7 = 63\n",
      "492\t3 + 4 = 7\n",
      "493\t9 + 5 = 14\n",
      "494\t8 * 9 = 72\n",
      "495\t4 + 3 = 7\n",
      "496\t7 / 7 = 0\n",
      "497\t7 * 6 = 42\n",
      "498\t8 + 3 = 11\n",
      "499\t1 + 7 = 8\n"
     ]
    }
   ],
   "source": [
    "ops=generateOperations(500, Test=False,verbose = False)"
   ]
  },
  {
   "cell_type": "code",
   "execution_count": null,
   "metadata": {},
   "outputs": [],
   "source": []
  },
  {
   "cell_type": "code",
   "execution_count": null,
   "metadata": {},
   "outputs": [],
   "source": []
  },
  {
   "cell_type": "code",
   "execution_count": null,
   "metadata": {},
   "outputs": [],
   "source": []
  },
  {
   "cell_type": "code",
   "execution_count": null,
   "metadata": {},
   "outputs": [],
   "source": []
  },
  {
   "cell_type": "code",
   "execution_count": null,
   "metadata": {},
   "outputs": [],
   "source": []
  },
  {
   "cell_type": "code",
   "execution_count": null,
   "metadata": {},
   "outputs": [],
   "source": []
  },
  {
   "cell_type": "code",
   "execution_count": null,
   "metadata": {},
   "outputs": [],
   "source": []
  },
  {
   "cell_type": "code",
   "execution_count": null,
   "metadata": {},
   "outputs": [],
   "source": []
  },
  {
   "cell_type": "code",
   "execution_count": null,
   "metadata": {},
   "outputs": [],
   "source": []
  },
  {
   "cell_type": "code",
   "execution_count": null,
   "metadata": {},
   "outputs": [],
   "source": []
  },
  {
   "cell_type": "code",
   "execution_count": 43,
   "metadata": {},
   "outputs": [
    {
     "name": "stdout",
     "output_type": "stream",
     "text": [
      "0\t0 + 1 = 1\n",
      "1\t4 * 0 = 0\n",
      "2\t3 / 2 = 1\n",
      "3\t6 / 8 = 2\n",
      "4\t5 / 5 = 1\n",
      "[5, 8, 4, 4, 3, 7, 5, 5, 9, 1, 10, 4, 11, 1, 6, 10, 2, -1, 2, 4]\n"
     ]
    }
   ],
   "source": [
    "ops=generateOperations(500, Test=False,verbose = True)\n",
    "#print((ops))\n",
    "\n",
    "decodedOps=decodeOperationsDeeper(input_data=ops,len_data=len(ops), qsignals= quantize(symbols,len_of_data=4) )\n",
    "    \n",
    "#GG,counter = train_tree( mergeList(mergeList(decodedOps)), GG, counter , WL, overlap)\n",
    "#print(decodedOps)\n",
    "\n",
    "ids = getBranchId(mergeList(mergeList(decodedOps)),GG, counter,8, overlap)\n",
    "\n",
    "print(ids)\n",
    "ops= mergeList(ops)\n"
   ]
  },
  {
   "cell_type": "code",
   "execution_count": 22,
   "metadata": {},
   "outputs": [
    {
     "name": "stdout",
     "output_type": "stream",
     "text": [
      "[-1, -1, -1, -1, -1]\n"
     ]
    }
   ],
   "source": [
    "ids1 = getBranchId([6, 8, 7, 6, 0, 1, 6, 0, 2, 9, 10, 2, 0, 1, 2, 3, 10, 1, 6, 10],GG1, counter1,4, overlap)\n",
    "print(ids1)"
   ]
  },
  {
   "cell_type": "code",
   "execution_count": 47,
   "metadata": {
    "scrolled": false
   },
   "outputs": [
    {
     "name": "stdout",
     "output_type": "stream",
     "text": [
      "[0, 4, 1, 0, 4, 2, 0, 0, 3, 9, 2, 0, 6, 9, 8, 0, 5, 7, 5, 0]\n",
      "[[0, 0, 1, 4], [0, 0, 2, 4], [0, 2, 3, 9], [0, 6, 8, 9], [0, 5, 5, 7]]\n",
      "[[0, 0, 1, 4], [0, 0, 2, 4], [0, 2, 3, 9], [0, 6, 8, 9], [0, 5, 5, 7]]\n"
     ]
    },
    {
     "data": {
      "image/png": "[encoded data removed]",
      "text/plain": [
       "<Figure size 1080x720 with 1 Axes>"
      ]
     },
     "metadata": {},
     "output_type": "display_data"
    },
    {
     "data": {
      "image/png": "[encoded data removed]",
      "text/plain": [
       "<Figure size 1080x720 with 1 Axes>"
      ]
     },
     "metadata": {},
     "output_type": "display_data"
    },
    {
     "data": {
      "image/png": "[encoded data removed]",
      "text/plain": [
       "<Figure size 1080x720 with 1 Axes>"
      ]
     },
     "metadata": {},
     "output_type": "display_data"
    },
    {
     "data": {
      "image/png": "[encoded data removed]",
      "text/plain": [
       "<Figure size 1080x720 with 1 Axes>"
      ]
     },
     "metadata": {},
     "output_type": "display_data"
    }
   ],
   "source": [
    "WL=4\n",
    "\n",
    "#\n",
    "print(ops)\n",
    "\n",
    "b=[]\n",
    "for i in range(int(len(ops)/WL)):\n",
    "    c= ops[i*WL:(i+1)*WL]   \n",
    "    c.sort()    \n",
    "    b.append(c)\n",
    "    \n",
    "print(b)\n",
    "GG1,counter1 = buildContextTree(GG1, b, counter1,WL)"
   ]
  },
  {
   "cell_type": "code",
   "execution_count": 48,
   "metadata": {},
   "outputs": [
    {
     "name": "stdout",
     "output_type": "stream",
     "text": [
      "0\t6 / 4 = 1\n",
      "1\t6 / 4 = 2\n",
      "2\t0 / 0 = 0\n",
      "3\t0 * 2 = 0\n",
      "4\t9 * 1 = 9\n",
      "[5, 8, 4, 4, 3, 7, 5, 5, 9, 1, 10, 4, 11, 1, 6, 10, 2, -1, 2, 4]\n",
      "[-1, -1, -1, -1, -1]\n"
     ]
    }
   ],
   "source": [
    "ops=generateOperations(5, Test=False,verbose = True)\n",
    "#print((ops))\n",
    "\n",
    "decodedOps=decodeOperationsDeeper(input_data=ops,len_data=len(ops), qsignals= quantize(symbols,len_of_data=4) )\n",
    "    \n",
    "#GG,counter = train_tree( mergeList(mergeList(decodedOps)), GG, counter , WL, overlap)\n",
    "#print(decodedOps)\n",
    "\n",
    "ids2 = getBranchId(mergeList(mergeList(decodedOps)),GG, counter,8, overlap)\n",
    "\n",
    "\n",
    "print(ids)\n",
    "ops= mergeList(ops)\n",
    "\n",
    "ids1 = getBranchId(ids2,GG1, counter1,4, overlap)\n",
    "print(ids1)\n"
   ]
  },
  {
   "cell_type": "code",
   "execution_count": null,
   "metadata": {},
   "outputs": [],
   "source": [
    "WL=4\n",
    "\n",
    "#\n",
    "print(ops)\n",
    "\n",
    "b=[]\n",
    "for i in range(int(len(ops)/WL)):\n",
    "    c= ops[i*WL:(i+1)*WL]   \n",
    "    c.sort()    \n",
    "    b.append(c)\n",
    "    \n",
    "print(b)"
   ]
  },
  {
   "cell_type": "code",
   "execution_count": null,
   "metadata": {},
   "outputs": [],
   "source": []
  },
  {
   "cell_type": "code",
   "execution_count": null,
   "metadata": {},
   "outputs": [],
   "source": []
  },
  {
   "cell_type": "code",
   "execution_count": null,
   "metadata": {},
   "outputs": [],
   "source": []
  },
  {
   "cell_type": "code",
   "execution_count": null,
   "metadata": {},
   "outputs": [],
   "source": []
  },
  {
   "cell_type": "markdown",
   "metadata": {},
   "source": [
    "# Test functions"
   ]
  },
  {
   "cell_type": "code",
   "execution_count": 24,
   "metadata": {},
   "outputs": [
    {
     "name": "stdout",
     "output_type": "stream",
     "text": [
      "0\t2 + 9 = ?\n",
      "1\t7 + 8 = 15\n",
      "2\t2 / 5 = ?\n",
      "3\t0 - 2 = ?\n",
      "4\t3 / 5 = 0\n",
      "\n",
      "\n",
      "ops =  [[2, 8, 9, 7], [7, 0, 8, 8], [2, 3, 5, 7], [0, 1, 2, 5], [3, 3, 5, 8]]\n",
      "\n",
      "\n",
      "\n",
      "\n"
     ]
    }
   ],
   "source": [
    "ops=generateOperations(5)\n",
    "print()\n",
    "print()\n",
    "print(\"ops = \", ops)\n",
    "print()\n",
    "print()\n",
    "#decodedOps=decodeOperationsDeeper(input_data=ops,len_data=len(ops), qsignals= quantize(symbols,len_of_data=4) )\n",
    "print()\n",
    "print()\n",
    "\n",
    "\n",
    "#print(decodedOps)"
   ]
  },
  {
   "cell_type": "code",
   "execution_count": 48,
   "metadata": {},
   "outputs": [
    {
     "name": "stdout",
     "output_type": "stream",
     "text": [
      "generate sample data\n",
      "[64, -3, 187, 26, 91, 201, 198, 143]\n",
      "[115, 68, 2, 154, 71, -57, 214, -61]\n",
      "[125, -48, 145, 168, 215, 20, 96, 230]\n",
      "[147, 62, -18, 63, 107, 67, 1, -65]\n",
      "[95, 145, 122, -36, 172, 56, 252, 40]\n",
      "[58, 151, -49, 7, -13, 185, 18, 193]\n",
      "[45, -38, 6, 70, 168, 76, 119, 122]\n",
      "[63, 42, 193, 223, 153, 42, 343, 143]\n",
      "[187, 120, 66, 37, -63, 84, 32, 93]\n",
      "[213, 60, 322, 29, 372, 110, 359, 90]\n",
      "[134, 74, 207, -1, 88, 158, 119, 198]\n",
      "[109, -12, 53, 160, -46, 179, -32, 114]\n",
      "[381, 103, 169, 94, 298, -84, 61, 41]\n",
      "[-17, 161, 35, 28, -17, 66, -14, 55]\n",
      "[16, 102, 36, 45, 214, 124, 21, -23]\n",
      "[181, 23, 77, 103, 179, -150, -61, 169]\n",
      "\n",
      "0 [320.6729252680994, -126.9256672229853, -76.00000000000003, -24.5, 47.37615433949869, 113.84419177103416, -77.78174593052023, 38.89087296526013]\n",
      "1 [178.89801564019658, 60.81118318204313, 13.500000000000014, -69.5, 33.23401871576773, -107.48023074035524, 90.50966799187809, 194.45436482630058]\n",
      "2 [336.22927445420345, -60.45762979144985, -118.00000000000003, -45.500000000000014, 122.32947314527273, -16.263455967290597, 137.88582233137677, -94.75230867899737]\n",
      "3 [128.69343417595164, 50.91168824543143, 82.0, 119.0, 60.104076400856535, -57.27564927611036, 28.284271247461895, 46.66904755831214]\n",
      "4 [299.10616844190963, -68.58935777509511, 77.00000000000001, -32.00000000000003, -35.35533905932738, 111.72287142747452, 82.02438661763952, 149.9066376115481]\n",
      "5 [194.45436482630058, -76.36753236814715, 125.5, -19.500000000000014, -65.76093065034893, -39.59797974644666, -140.0071426749364, -123.74368670764584]\n",
      "6 [200.81832585697953, -142.12846301849606, -34.5, 1.5, 58.68986283848345, -45.254833995939045, 65.05382386916239, -2.1213203435596313]\n",
      "7 [424.9711754931152, -56.568542494923804, -155.50000000000006, -145.50000000000006, 14.8492424049175, -21.213203435596427, 78.48885271170678, 141.4213562373095]\n",
      "8 [196.57568516986026, 93.3380951166243, 102.00000000000003, -52.00000000000001, 47.3761543394987, 20.506096654409877, -103.9446968344225, -43.133513652379406]\n",
      "9 [549.7755223725408, -108.54089091213504, -39.0, 16.5, 108.18733752154179, 207.18228688765845, 185.26197667087547, 190.21172413918129]\n",
      "10 [345.4216626096286, -52.67945519839779, 1.0000000000000142, -35.50000000000004, 42.42640687119286, 147.0782104868019, -49.49747468305833, -55.861435713737265]\n",
      "11 [185.6155300614688, 33.58757210636102, -58.000000000000014, 25.5, 85.55992052357226, -75.66042558696059, -159.0990257669732, -103.23759005323595]\n",
      "12 [375.82725420065015, 152.38151134570106, 110.5, 56.00000000000003, 196.5756851698602, 53.033008588991066, 270.1147904132612, 14.142135623730947]\n",
      "13 [105.00535700620232, 41.36574669941304, 40.500000000000014, 4.0, -125.86500705120547, 4.949747468305834, -58.68986283848345, -48.79036790187178]\n",
      "14 [189.15106396740148, -48.4368145112785, 18.5, 170.0, -60.81118318204309, -6.363961030678926, 63.639610306789265, 31.112698372208094]\n",
      "15 [184.20131649909567, 87.32768747653861, 11.999999999999986, -39.50000000000001, 111.72287142747452, -18.384776310850235, 232.63813101037414, -162.63455967290594]\n",
      "\n",
      "0 [6, 1, 2, 3, 4, 6, 2, 4]\n",
      "1 [6, 5, 4, 2, 4, 1, 5, 6]\n",
      "2 [6, 2, 1, 3, 6, 3, 6, 2]\n",
      "3 [6, 5, 5, 6, 5, 2, 4, 4]\n",
      "4 [6, 2, 5, 3, 3, 6, 5, 6]\n",
      "5 [6, 2, 6, 3, 2, 3, 1, 1]\n",
      "6 [6, 1, 3, 4, 5, 3, 5, 3]\n",
      "7 [6, 2, 1, 1, 4, 3, 5, 6]\n",
      "8 [6, 5, 6, 2, 4, 4, 1, 3]\n",
      "9 [6, 1, 3, 4, 6, 6, 6, 6]\n",
      "10 [6, 2, 4, 3, 4, 6, 3, 2]\n",
      "11 [6, 4, 2, 4, 5, 2, 1, 1]\n",
      "12 [6, 6, 6, 5, 6, 5, 6, 4]\n",
      "13 [6, 4, 4, 4, 1, 4, 2, 3]\n",
      "14 [6, 3, 4, 6, 2, 3, 5, 4]\n",
      "15 [6, 5, 4, 3, 6, 3, 6, 1]\n"
     ]
    }
   ],
   "source": [
    "symbols= genSample(16)\n",
    "wsymbols = getWaveletCoefs(symbols)\n",
    "print()\n",
    "for i in range(len(wsymbols)):\n",
    "    print(i,wsymbols[i])\n",
    "qsymbols = quantize(wsymbols)\n",
    "print()\n",
    "for i in range(len(qsymbols)):\n",
    "    print(i,qsymbols[i])"
   ]
  },
  {
   "cell_type": "code",
   "execution_count": 35,
   "metadata": {},
   "outputs": [
    {
     "name": "stdout",
     "output_type": "stream",
     "text": [
      "2897\n",
      "7088\n"
     ]
    }
   ],
   "source": [
    "for i in range(2):\n",
    "    for j in range(4):\n",
    "        print(ops[i][j], end = \"\")\n",
    "    print()\n",
    "    "
   ]
  },
  {
   "cell_type": "code",
   "execution_count": 55,
   "metadata": {},
   "outputs": [],
   "source": [
    "for i in range(len(symbols)):\n",
    "    for j in range():\n",
    "        \n",
    "nosySymbols= symbols"
   ]
  },
  {
   "cell_type": "code",
   "execution_count": 57,
   "metadata": {},
   "outputs": [
    {
     "ename": "TypeError",
     "evalue": "can only concatenate list (not \"int\") to list",
     "traceback": [
      "\u001b[0;31m---------------------------------------------------------------------------\u001b[0m",
      "\u001b[0;31mTypeError\u001b[0m                                 Traceback (most recent call last)",
      "\u001b[0;32m<ipython-input-57-797071037d02>\u001b[0m in \u001b[0;36m<module>\u001b[0;34m()\u001b[0m\n\u001b[0;32m----> 1\u001b[0;31m \u001b[0mprint\u001b[0m\u001b[0;34m(\u001b[0m\u001b[0mnosySymbols\u001b[0m\u001b[0;34m+\u001b[0m\u001b[0;36m3\u001b[0m\u001b[0;34m)\u001b[0m\u001b[0;34m\u001b[0m\u001b[0m\n\u001b[0m",
      "\u001b[0;31mTypeError\u001b[0m: can only concatenate list (not \"int\") to list"
     ],
     "output_type": "error"
    }
   ],
   "source": [
    "print(nosySymbols+3)"
   ]
  },
  {
   "cell_type": "code",
   "execution_count": 54,
   "metadata": {},
   "outputs": [
    {
     "name": "stdout",
     "output_type": "stream",
     "text": [
      "0\t2 0 9 1\n",
      "[6, 2, 1, 3, 6, 3, 6, 2] + [6, 1, 3, 4, 6, 6, 6, 6] = [6, 3, 4, 6, 2, 3, 5, 4]\n",
      "[6, 2, 1, 3, 6, 3, 6, 2] [6, 2, 4, 3, 4, 6, 3, 2] [6, 1, 3, 4, 6, 6, 6, 6] = [6, 3, 4, 6, 2, 3, 5, 4]\n",
      "1\t7 0 8 0\n"
     ]
    },
    {
     "data": {
      "text/plain": [
       "[[[6, 2, 1, 3, 6, 3, 6, 2],\n",
       "  [6, 2, 4, 3, 4, 6, 3, 2],\n",
       "  [6, 1, 3, 4, 6, 6, 6, 6],\n",
       "  [6, 3, 4, 6, 2, 3, 5, 4]]]"
      ]
     },
     "execution_count": 54,
     "metadata": {},
     "output_type": "execute_result"
    }
   ],
   "source": [
    "decodeOpes(ops,2,qsymbols)"
   ]
  },
  {
   "cell_type": "code",
   "execution_count": 40,
   "metadata": {},
   "outputs": [
    {
     "name": "stdout",
     "output_type": "stream",
     "text": [
      "[4, 3, 2, 1, 5, 4, 3, 2]\n",
      "[1, 2, 3, 4, 2, 3, 4, 5]\n"
     ]
    }
   ],
   "source": [
    "a= [4,3,2,1, 5,4,3,2,]\n",
    "\n",
    "b=[]\n",
    "for i in range(2):\n",
    "    c= a[i*4:(i+1)*4]   \n",
    "    c.sort()    \n",
    "    b.append(c)\n",
    "b=mergeList(b)\n",
    "print(a)\n",
    "print(b)"
   ]
  },
  {
   "cell_type": "code",
   "execution_count": null,
   "metadata": {},
   "outputs": [],
   "source": []
  }
 ],
 "metadata": {
  "kernelspec": {
   "display_name": "Python 3",
   "language": "python",
   "name": "python3"
  },
  "language_info": {
   "codemirror_mode": {
    "name": "ipython",
    "version": 3
   },
   "file_extension": ".py",
   "mimetype": "text/x-python",
   "name": "python",
   "nbconvert_exporter": "python",
   "pygments_lexer": "ipython3",
   "version": "3.6.5"
  }
 },
 "nbformat": 4,
 "nbformat_minor": 2
}
