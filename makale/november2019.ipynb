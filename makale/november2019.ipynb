{
 "cells": [
  {
   "cell_type": "code",
   "execution_count": 2,
   "metadata": {
    "pycharm": {
     "is_executing": false,
     "name": "#%%\n"
    }
   },
   "outputs": [],
   "source": [
    "f1_txt=\"\"\n",
    "\n",
    "\n",
    "filepath = \"../dune/01 dune.txt\"\n",
    "with open(filepath,encoding=\"utf8\", errors='ignore') as fp:\n",
    "   line = fp.readline()\n",
    "   cnt = 1\n",
    "   while line:\n",
    "       #print(\"{}\".format( line.strip()))\n",
    "       f1_txt=f1_txt+line\n",
    "       line = fp.readline()\n",
    "       cnt += 1\n",
    "       "
   ]
  },
  {
   "cell_type": "code",
   "execution_count": 3,
   "metadata": {
    "pycharm": {
     "is_executing": false,
     "name": "#%%       \n"
    }
   },
   "outputs": [],
   "source": [
    "#print(f1_txt[:100])"
   ]
  },
  {
   "cell_type": "code",
   "execution_count": null,
   "metadata": {
    "pycharm": {
     "is_executing": false,
     "name": "#%%\n"
    }
   },
   "outputs": [],
   "source": []
  },
  {
   "cell_type": "markdown",
   "metadata": {},
   "source": [
    "# Basliyor "
   ]
  },
  {
   "cell_type": "markdown",
   "metadata": {},
   "source": [
    "## Libraries"
   ]
  },
  {
   "cell_type": "code",
   "execution_count": 4,
   "metadata": {
    "pycharm": {
     "is_executing": false,
     "name": "#%%\n"
    }
   },
   "outputs": [],
   "source": [
    "import numpy as np\n",
    "from pywt import wavedec\n",
    "import matplotlib.pyplot as plt\n",
    "from networkx.drawing.nx_agraph import  graphviz_layout\n",
    "import networkx as nx\n",
    "import pandas as pd\n",
    "import seaborn as sns\n",
    "\n",
    "plt.rcParams['figure.figsize'] = [25, 20]"
   ]
  },
  {
   "cell_type": "markdown",
   "metadata": {},
   "source": [
    "## Functions"
   ]
  },
  {
   "cell_type": "code",
   "execution_count": null,
   "metadata": {
    "pycharm": {
     "is_executing": false,
     "name": "#%%\n"
    }
   },
   "outputs": [],
   "source": []
  },
  {
   "cell_type": "code",
   "execution_count": 5,
   "metadata": {
    "pycharm": {
     "is_executing": false,
     "name": "#%%\n"
    }
   },
   "outputs": [],
   "source": [
    "import numpy as np\n",
    "from pywt import wavedec\n",
    "import matplotlib.pyplot as plt\n",
    "from networkx.drawing.nx_agraph import  graphviz_layout\n",
    "import networkx as nx\n",
    "import pandas as pd\n",
    "import seaborn as sns\n",
    "\n",
    "plt.rcParams['figure.figsize'] = [25, 20]     \n",
    "\n",
    "\n",
    "def genData(param, show = False):\n",
    "\ta=[]\n",
    "\tif param[0]==\"normal\":\n",
    "\t\tmu, sigma, s = param[1],   param[2], param[3]\n",
    "\t\ta= np.random.normal(mu, sigma, size=s)\n",
    "\telif param[0]=='uniform':\n",
    "\t\tmi, ma,s=param[1],   param[2], param[3]\n",
    "\t\ta= np.random.uniform(mi, ma, s)\n",
    "\telif param[0]==\"poisson\":\n",
    "\t\trate,s=param[1],   param[2]\n",
    "\t\ta = np.random.poisson(rate, s)\n",
    "\tif(show):\n",
    "\t\tcount, bins, ignored = plt.hist(s, 14, density=True)\n",
    "\treturn a"
   ]
  },
  {
   "cell_type": "code",
   "execution_count": 6,
   "metadata": {
    "pycharm": {
     "is_executing": false,
     "name": "#%%\n"
    }
   },
   "outputs": [],
   "source": [
    "def genSample(signalCount):\n",
    "    print(\"generate sample data\")\n",
    "    signals = [] \n",
    "    for i in range(signalCount):\n",
    "        a = genData([\"normal\", 100,100,8])\n",
    "        #print(a)\n",
    "        sig = [] \n",
    "        for j in range(8):\n",
    "            sig.append(int(a[j]))\n",
    "        signals.append(sig)\n",
    "    for i in range(signalCount):\n",
    "        print(signals[i])\n",
    "    return signals"
   ]
  },
  {
   "cell_type": "code",
   "execution_count": 7,
   "metadata": {
    "pycharm": {
     "is_executing": false,
     "name": "#%%\n"
    }
   },
   "outputs": [],
   "source": [
    "def getSamplePredef():\n",
    "    print(\"return sample data\")\n",
    "    signals = [[105, 220, 23, 99, 266, 190, 37, 5],\n",
    "                [334, 174, 134, -7, 19, 155, 93, 89],\n",
    "                [72, 96, 102, 151, -14, 171, 127, 127],\n",
    "                [151, 38, 283, 204, 232, 141, 121, 47],\n",
    "                [157, -60, 54, 54, 69, -27, -14, 101],\n",
    "                [0, 113, 74, 176, 68, 322, 135, 367],\n",
    "                [56, 114, 126, 181, 93, 41, 118, 76],\n",
    "                [164, 200, 351, 51, 36, 163, 298, -5],\n",
    "                [140, 124, 99, 34, -46, -5, 240, 136],\n",
    "                [113, 58, 130, 123, 171, 143, 109, 17],\n",
    "                [-8, 299, 65, 62, 130, 146, -43, 23],\n",
    "                [-96, 212, 56, 150, -55, 150, 151, 70],\n",
    "                [-22, 148, 219, 62, 108, 136, 198, 126],\n",
    "                [220, 84, 165, 167, 1, 227, 15, 144],\n",
    "                [0, 135, 165, 64, 100, 224, 244, 140],\n",
    "                [211, 183, -161, 65, 33, 257, -16, 112]]\n",
    "    return signals"
   ]
  },
  {
   "cell_type": "code",
   "execution_count": 8,
   "metadata": {
    "pycharm": {
     "is_executing": false,
     "name": "#%%\n"
    }
   },
   "outputs": [],
   "source": [
    "def mergeList(input_data, verbose= False):\n",
    "    if verbose:\n",
    "        print(\"merge data\")\n",
    "    merged_list = []\n",
    "    for l in input_data:\n",
    "        merged_list += list(l)\n",
    "    return merged_list"
   ]
  },
  {
   "cell_type": "code",
   "execution_count": 9,
   "metadata": {
    "pycharm": {
     "is_executing": false,
     "name": "#%%\n"
    }
   },
   "outputs": [],
   "source": [
    "def listToPandasDF(input_data):\n",
    "    df = pd.DataFrame(input_data)\n",
    "    return df"
   ]
  },
  {
   "cell_type": "code",
   "execution_count": 10,
   "metadata": {
    "pycharm": {
     "is_executing": false,
     "name": "#%%\n"
    }
   },
   "outputs": [],
   "source": [
    "def getWaveletCoefs(input_data):\n",
    "    coefs = [] \n",
    "    for i in range(len(input_data)):\n",
    "        girdi = np.array(input_data[i]) #np.array([1,2,3,4,5,6,7,8])*1\n",
    "        coeff = wavedec(girdi, 'haar', level=int(np.log2(len(girdi))))\n",
    "        coefs.append(mergeList(coeff))\n",
    "    return coefs"
   ]
  },
  {
   "cell_type": "code",
   "execution_count": 11,
   "metadata": {
    "pycharm": {
     "is_executing": false,
     "name": "#%%\n"
    }
   },
   "outputs": [],
   "source": [
    "def plotCorrelation(input_data_frame):\n",
    "    Var_Corr = input_data_frame.corr()\n",
    "    # plot the heatmap and annotation on it\n",
    "    sns.heatmap(Var_Corr, xticklabels=Var_Corr.columns, yticklabels=Var_Corr.columns, annot=True)\n",
    "    plt.show()\n",
    "    # Basic correlogram\n",
    "    sns_plot = sns.pairplot(input_data_frame)\n",
    "    plt.show()"
   ]
  },
  {
   "cell_type": "code",
   "execution_count": 12,
   "metadata": {
    "pycharm": {
     "is_executing": false,
     "name": "#%%\n"
    }
   },
   "outputs": [],
   "source": [
    "def generateOperationsSymbols(operations_count, symbol_list, Test = False, verbose= False):\n",
    "    ops_ids=[]\n",
    "    symbolSet = []\n",
    "    \n",
    "    for i in range(operations_count):\n",
    "        if(verbose):print(i, end=\"\\t\")\n",
    "        a = genData([\"uniform\", 0,10,4])    \n",
    "        a= [int(x) for x in a]\n",
    "        if(Test):\n",
    "            a[3]=0\n",
    "        go = True        \n",
    "        #a=[4, 5, 9, -5]\n",
    "        \n",
    "        rez = 0\n",
    "        if(int(a[1])%4==0   ): # operation is + \n",
    "            if ( a[0] + a[2] > 9 ):\n",
    "                go = False\n",
    "            else :\n",
    "                rez = a[0] + a[2]\n",
    "        elif(int(a[1])%4==1   ): # operation is -\n",
    "            if a[0] < a[2]  :\n",
    "                go = False                \n",
    "            else :\n",
    "                #print(\"here\", a[0] - a[2] , a[0] > a[2])\n",
    "                rez = a[0] - a[2]\n",
    "        elif(int(a[1])%4==2   ): # operation is *\n",
    "            if ( a[0] * a[2] >9  ):\n",
    "                go = False\n",
    "            else :                \n",
    "                rez = a[0] * a[2]               \n",
    "        elif(int(a[1])%4==3   ): # operation is -\n",
    "            if ( a[2] ==0 ):                \n",
    "                go = False\n",
    "            else :\n",
    "                rez = int(a[0] / a[2])\n",
    "        #rint(go)  \n",
    "        if go:\n",
    "            if verbose : print(go , rez)\n",
    "            a[3]=rez\n",
    "            ops_ids.append(a)\n",
    "            symbolSet.append(symbol_list[a[0]] )\n",
    "            symbolSet.append(symbol_list[a[1]%4+10] )\n",
    "            symbolSet.append(symbol_list[a[2]] )\n",
    "            symbolSet.append(symbol_list[14] )\n",
    "            if(not Test):\n",
    "                symbolSet.append(symbol_list[a[3]] )\n",
    "            else:\n",
    "                symbolSet.append(symbol_list[15] )\n",
    "    return ops_ids, symbolSet\n",
    "            "
   ]
  },
  {
   "cell_type": "code",
   "execution_count": 13,
   "metadata": {
    "pycharm": {
     "is_executing": false,
     "name": "#%%\n"
    }
   },
   "outputs": [],
   "source": [
    "def generateOperations(operations_count, Test = False, verbose= False):\n",
    "    energy = 0 \n",
    "    all=[]\n",
    "    for i in range(operations_count):\n",
    "        if(verbose):print(i, end=\"\\t\")\n",
    "        a = genData([\"uniform\", 0,10,4])    \n",
    "        a= [int(x) for x in a]\n",
    "        if(True):#Test):\n",
    "            a[3]=0\n",
    "            \n",
    "        all.append(a)\n",
    "        #print(int(a[0]) , int(a[1])%4, int(a[2]) ,int(a[3])%2)\n",
    "        if(int(a[1])%4==0 and int(a[3])%2 == 0  ):\n",
    "            if(verbose):\n",
    "                print(int(a[0]) , \"+\", int(a[2]) ,\"=\", int(a[0])  + int(a[2]))\n",
    "        elif(int(a[1])%4==0 and int(a[3])%2 == 1 ):\n",
    "            if(verbose):print(int(a[0]) , \"+\", int(a[2]) ,\"= ?\")\n",
    "        elif(int(a[1])%4==1 and int(a[3])%2 == 0  ):\n",
    "            if(int(a[2])<int(a[0])):\n",
    "                if(verbose):print(int(a[0]) , \"/\", int(a[2]) ,\"=\", int(int(a[0])  - int(a[2])))\n",
    "            else:\n",
    "                if(verbose):print(int(a[0]) , \"/\", int(a[2]) ,\"=\", int(int(a[2])  - int(a[0])))          \n",
    "        elif(int(a[1])%4==1 and int(a[3])%2 == 1  ):\n",
    "            if(verbose):print(int(a[0]) , \"-\", int(a[2]) ,\"= ?\")        \n",
    "        \n",
    "        elif(int(a[1])%4==2 and int(a[3])%2 == 0  ):\n",
    "            if(verbose):print(int(a[0]) , \"*\", int(a[2]) ,\"=\", int(a[0])  * int(a[2]))\n",
    "        elif(int(a[1])%4==2 and int(a[3])%2 == 1 ):\n",
    "            if(verbose):print(int(a[0]) , \"*\", int(a[2]) ,\"= ?\")\n",
    "        \n",
    "        elif(int(a[1])%4==3 and int(a[3])%2 == 0  ):\n",
    "            if(int(a[2])!=0):\n",
    "                if(verbose):print(int(a[0]) , \"/\", int(a[2]) ,\"=\", int(int(a[0])  / int(a[2])))\n",
    "            elif(int(a[0])!=0):\n",
    "                if(verbose):print(int(a[0]) , \"/\", int(a[2]) ,\"=\", int(int(a[2])  / int(a[0])))    \n",
    "        \n",
    "        elif(int(a[1])%4==3 and int(a[3])%2 == 1  ):\n",
    "            if(verbose):print(int(a[0]) , \"/\", int(a[2]) ,\"= ?\")\n",
    "    return all"
   ]
  },
  {
   "cell_type": "code",
   "execution_count": 14,
   "metadata": {
    "pycharm": {
     "is_executing": false,
     "name": "#%%\n"
    }
   },
   "outputs": [],
   "source": [
    "def decodeOperations(all):\n",
    "    for i in range(1):\n",
    "        print(i, end=\"\\t\")\n",
    "        a = all[i]\n",
    "        #print(int(a[0]) , int(a[1])%4, int(a[2]) ,int(a[3])%2)\n",
    "        if(int(a[1])%4==0 and int(a[3])%2 == 0  ):\n",
    "            print(int(a[0]) , \"+\", int(a[2]) ,\"=\", int(a[0])  + int(a[2]))\n",
    "        elif(int(a[1])%4==0 and int(a[3])%2 == 1 ):\n",
    "            print(int(a[0]) , \"+\", int(a[2]) ,\"= ?\")\n",
    "        elif(int(a[1])%4==1 and int(a[3])%2 == 0  ):\n",
    "            if(int(a[2])<int(a[0])):\n",
    "                print(int(a[0]) , \"/\", int(a[2]) ,\"=\", int(int(a[0])  - int(a[2])))\n",
    "            else:\n",
    "                print(int(a[0]) , \"/\", int(a[2]) ,\"=\", int(int(a[2])  - int(a[0])))          \n",
    "        elif(int(a[1])%4==1 and int(a[3])%2 == 1  ):\n",
    "            print(int(a[0]) , \"-\", int(a[2]) ,\"= ?\")        \n",
    "        elif(int(a[1])%4==2 and int(a[3])%2 == 0  ):\n",
    "            print(int(a[0]) , \"*\", int(a[2]) ,\"=\", int(a[0])  * int(a[2]))\n",
    "        elif(int(a[1])%4==2 and int(a[3])%2 == 1 ):\n",
    "            print(int(a[0]) , \"*\", int(a[2]) ,\"= ?\")\n",
    "        elif(int(a[1])%4==3 and int(a[3])%2 == 0  ):\n",
    "            if(int(a[2])>0):\n",
    "                print(int(a[0]) , \"/\", int(a[2]) ,\"=\", int(int(a[0])  / int(a[2])))\n",
    "            else:\n",
    "                print(int(a[0]) , \"/\", int(a[2]) ,\"=\", int(int(a[2])  / int(a[0])))    \n",
    "        elif(int(a[1])%4==3 and int(a[3])%2 == 1  ):\n",
    "            print(int(a[0]) , \"/\", int(a[2]) ,\"= ?\")"
   ]
  },
  {
   "cell_type": "code",
   "execution_count": 15,
   "metadata": {
    "pycharm": {
     "is_executing": false,
     "name": "#%%\n"
    }
   },
   "outputs": [],
   "source": [
    "def decodeTrainOperations(all):\n",
    "    for i in range(len(all)):\n",
    "        print(i, end=\"\\t\")\n",
    "        a = all[i]\n",
    "        \n",
    "        if(int(a[1])%4==0   ):\n",
    "            print(int(a[0]) , \"+\", int(a[2]) ,\"=\", int(a[0])  + int(a[2]))\n",
    "       \n",
    "        elif(int(a[1])%4==1  ):            \n",
    "            print(int(a[0]) , \"-\", int(a[2]) ,\"=\", int(int(a[0])  - int(a[2])))            \n",
    "        \n",
    "        elif(int(a[1])%4==2   ):\n",
    "            print(int(a[0]) , \"*\", int(a[2]) ,\"=\", int(a[0])  * int(a[2]))\n",
    "                    \n",
    "        elif(int(a[1])%4==3 ):            \n",
    "            print(int(a[0]) , \"/\", int(a[2]) ,\"=\", int(int(a[0])  / int(a[2])))\n",
    "           "
   ]
  },
  {
   "cell_type": "code",
   "execution_count": 16,
   "metadata": {
    "pycharm": {
     "is_executing": false,
     "name": "#%%\n"
    }
   },
   "outputs": [],
   "source": [
    "def quantize(input_data, len_of_data, verbose = False):\n",
    "    borders = [-200,-100,-50,0, 50, 100, 200]\n",
    "    qsignals = [] \n",
    "\n",
    "    for i in range(len(input_data)):\n",
    "        sig = [] \n",
    "        if(verbose):\n",
    "            print(input_data[i])\n",
    "        for j in range(int(len(input_data[i]))):\n",
    "            output = 7\n",
    "            for k in range(7):\n",
    "                if( input_data[i][j] < borders[k]):\n",
    "                    output = k\n",
    "                    break\n",
    "            if verbose:\n",
    "                print(output, end = \" \")\n",
    "            sig.append(output)\n",
    "        if verbose:\n",
    "            print()\n",
    "        qsignals.append(sig)\n",
    "    return qsignals"
   ]
  },
  {
   "cell_type": "code",
   "execution_count": 17,
   "metadata": {
    "pycharm": {
     "is_executing": false,
     "name": "#%%\n"
    }
   },
   "outputs": [],
   "source": [
    "def decodeOperationsDeeper(input_data, len_data, qsignals, verbose = False):\n",
    "    inputs = [] \n",
    "    for i in range(len_data):\n",
    "\n",
    "        if (verbose):print(i, end=\"\\t\")\n",
    "        a = input_data[i]\n",
    "        if(verbose):print(int(a[0]) , int(a[1])%4, int(a[2]) ,int(a[3])%2)\n",
    "\n",
    "        if(int(a[1])%4==0 and int(a[3])%2 == 0  ):\n",
    "            if(int(a[0])  + int(a[2]) < 10):\n",
    "                if(verbose):\n",
    "                    print( qsignals[int(a[0])] , \"+\", qsignals[int(a[2])] ,\"=\", qsignals[int(a[0])  + int(a[2])])            \n",
    "                    print( qsignals[int(a[0])] , qsignals[10], qsignals[int(a[2])] ,\"=\", qsignals[int(a[0])  + int(a[2])])            \n",
    "                inputs.append([ qsignals[int(a[0])] , qsignals[10], qsignals[int(a[2])] , qsignals[int(a[0])  + int(a[2])]])            \n",
    "        elif(int(a[1])%4==0 and int(a[3])%2 == 1 ):\n",
    "            if(verbose):\n",
    "                print( qsignals[int(a[0])] , \"+\", qsignals[int(a[2])] ,\"=\", qsignals[14])\n",
    "                print( qsignals[int(a[0])] , qsignals[10], qsignals[int(a[2])] ,\"=\", qsignals[14])\n",
    "            inputs.append( [qsignals[int(a[0])] , qsignals[10], qsignals[int(a[2])] , qsignals[14]])\n",
    "\n",
    "        elif(int(a[1])%4==1 and int(a[3])%2 == 0  ):\n",
    "            if(int(a[2])<int(a[0])):\n",
    "                if(verbose):\n",
    "                    print( qsignals[int(a[0])] , \"-\", qsignals[int(a[2])] ,\"=\", qsignals[int(a[0])  - int(a[2])])\n",
    "                    print( qsignals[int(a[0])] , qsignals[11], qsignals[int(a[2])] ,\"=\", qsignals[int(a[0])  - int(a[2])])\n",
    "                inputs.append( [qsignals[int(a[0])] , qsignals[11], qsignals[int(a[2])] , qsignals[int(a[0])  - int(a[2])]])\n",
    "            else:\n",
    "                if(verbose):\n",
    "                    print( qsignals[int(a[0])] , \"-\", qsignals[int(a[2])] ,\"=\", qsignals[int(a[2])  - int(a[0])])   \n",
    "                    print( qsignals[int(a[0])] , qsignals[11], qsignals[int(a[2])] ,\"=\", qsignals[int(a[2])  - int(a[0])])   \n",
    "                inputs.append( [qsignals[int(a[0])] , qsignals[11], qsignals[int(a[2])] , qsignals[int(a[2])  - int(a[0])]])\n",
    "\n",
    "        elif(int(a[1])%4==1 and int(a[3])%2 == 1  ):\n",
    "            if(verbose):\n",
    "                print( qsignals[int(a[0])] , \"-\", qsignals[int(a[2])] ,\"=\", qsignals[14])\n",
    "                print( qsignals[int(a[0])] , qsignals[11], qsignals[int(a[2])] ,\"=\", qsignals[14])\n",
    "            inputs.append( [qsignals[int(a[0])] , qsignals[11], qsignals[int(a[2])] , qsignals[14]])        \n",
    "\n",
    "        elif(int(a[1])%4==2 and int(a[3])%2 == 0  ):\n",
    "            if(int(a[0])  * int(a[2]) < 10):\n",
    "                if(verbose):\n",
    "                    print( qsignals[int(a[0])] , \"*\", qsignals[int(a[2])] ,\"=\", qsignals[int(a[0])  * int(a[2])])\n",
    "                    print( qsignals[int(a[0])] , qsignals[12], qsignals[int(a[2])] ,\"=\", qsignals[int(a[0])  * int(a[2])])\n",
    "                inputs.append( [qsignals[int(a[0])] , qsignals[12], qsignals[int(a[2])] , qsignals[int(a[0])  * int(a[2])]])\n",
    "        elif(int(a[1])%4==2 and int(a[3])%2 == 1 ):\n",
    "            if(verbose):\n",
    "                print( qsignals[int(a[0])] , \"*\", qsignals[int(a[2])] ,\"=\", qsignals[14])\n",
    "                print( qsignals[int(a[0])] ,  qsignals[12], qsignals[int(a[2])] ,\"=\", qsignals[14])\n",
    "            inputs.append( [qsignals[int(a[0])] ,  qsignals[12], qsignals[int(a[2])] , qsignals[14]])\n",
    "        elif(int(a[1])%4==3 and int(a[3])%2 == 0  ):\n",
    "            if(int(a[2])>0):            \n",
    "                if(verbose):\n",
    "                    print( qsignals[int(a[0])] , \"/\", qsignals[int(a[2])] ,\"=\", qsignals[int( int(a[0])  /int(a[2]))])\n",
    "                    print( qsignals[int(a[0])] , qsignals[13], qsignals[int(a[2])] ,\"=\", qsignals[int(int(a[0])  /int(a[2]))])\n",
    "                inputs.append( [qsignals[int(a[0])] , qsignals[13], qsignals[int(a[2])] , qsignals[ int(int(a[0])  /int(a[2]))]])\n",
    "\n",
    "        elif(int(a[1])%4==3 and int(a[3])%2 == 1  ):\n",
    "            if(verbose):\n",
    "                print( qsignals[int(a[0])] , \"/\", qsignals[int(a[2])] ,\"=\", qsignals[14])\n",
    "                print( qsignals[int(a[0])] , qsignals[13], qsignals[int(a[2])] ,\"=\", qsignals[14])\n",
    "            inputs.append( [qsignals[int(a[0])] , qsignals[13], qsignals[int(a[2])] , qsignals[14]])\n",
    "    return inputs\n",
    "\n",
    "\n"
   ]
  },
  {
   "cell_type": "code",
   "execution_count": 18,
   "metadata": {
    "pycharm": {
     "is_executing": false,
     "name": "#%%\n"
    }
   },
   "outputs": [],
   "source": [
    "def initTree():\n",
    "    GG=nx.DiGraph()    \n",
    "    GG.add_node(0, value=999,occurance_count=1, id = -1,food =0)    \n",
    "    return GG,1"
   ]
  },
  {
   "cell_type": "code",
   "execution_count": 19,
   "metadata": {
    "pycharm": {
     "is_executing": false,
     "name": "#%%\n"
    }
   },
   "outputs": [],
   "source": [
    "def train_tree(input_data, GG, counter , WL, overlap):\n",
    "    plt.rcParams.update({'font.size': 22})\n",
    "    data1= input_data  \n",
    "    #print(data1)\n",
    "    poz = 0\n",
    "    #print(len(data1)/WL)    \n",
    "    step = WL-overlap\n",
    "\n",
    "    for i in range(0,len(data1)-step+1, step):\n",
    "        #if(data1[i:i+step]==[0,0,1,0] or  data1[i:i+step]==[1,0,0,0] ):\n",
    "        #    //print(str(i)+ \" food\")\n",
    "        poz=0\n",
    "        for j in range(WL):\n",
    "            # data\n",
    "            d=data1[i + j]\n",
    "            #print(d, end=' ')\n",
    "            #print (d)\n",
    "            # neighbours \n",
    "            nei= list(GG.neighbors(poz))       \n",
    "            if len(nei)==0:\n",
    "                #print (counter, poz, data1[i: i+step])\n",
    "                GG.add_node(counter,value=d, occurance_count=1, id = -1,food =0)    \n",
    "                GG.add_edge(poz,counter)\n",
    "                poz=counter\n",
    "                counter +=1\n",
    "            else:\n",
    "                k=-1\n",
    "                for n in nei:\n",
    "                    if(GG.node[n]['value']==d):\n",
    "                        k=n\n",
    "                        break\n",
    "                if(k>=0):\n",
    "                    poz=k\n",
    "                    GG.node[k]['occurance_count'] = GG.node[k]['occurance_count'] + 1\n",
    "                else:\n",
    "                    GG.add_node(counter,value=d,occurance_count=1, id = -1,food =0)    \n",
    "                    GG.add_edge(poz,counter)\n",
    "                    poz=counter\n",
    "                    counter += 1\n",
    "    finalNodes = [] \n",
    "    for i in range(1, counter):\n",
    "        yol =  nx.shortest_path(GG,0,i)\n",
    "        if(len(yol) >WL):\n",
    "            GG.node[yol[-1]]['id']=len(finalNodes)\n",
    "            finalNodes.append(yol[-1])\n",
    "    return GG, counter\n"
   ]
  },
  {
   "cell_type": "code",
   "execution_count": 20,
   "metadata": {
    "pycharm": {
     "is_executing": false,
     "name": "#%%\n"
    }
   },
   "outputs": [],
   "source": [
    "def plotGraph(GG, WL, counter, short = False):\n",
    "    plt.rcParams['figure.figsize'] = [15, 10]        \n",
    "    labels=dict((n,d['value']) for n,d in GG.nodes(data=True))   \n",
    "    #pos=nx.graphviz_layout(GG, prog='dot')\n",
    "    pos =graphviz_layout(GG, prog='dot')\n",
    "    #nx.spring_layout(GG)\n",
    "\n",
    "    plt.title(\"node values\")\n",
    "    nx.draw_networkx(GG,  pos=pos, arrows=True, with_labels=True, labels=labels )\n",
    "    plt.show()\n",
    "    if( short):\n",
    "        return\n",
    "    plt.title(\"node ids\")\n",
    "    nx.draw_networkx(GG,  pos=pos, arrows=True, with_labels=True )\n",
    "    plt.show()\n",
    "\n",
    "    plt.title(\"node frequency\")\n",
    "    labels=dict((n,d['occurance_count']) for n,d in GG.nodes(data=True))   \n",
    "    nx.draw_networkx(GG,  pos=pos, arrows=True, with_labels=True, labels=labels )\n",
    "    plt.show()\n",
    "\n",
    "    \n",
    "\n",
    "    plt.title(\"final nodes ids\")\n",
    "    labels=dict((n,d['id']) for n,d in GG.nodes(data=True))   \n",
    "    nx.draw_networkx(GG,  pos=pos, arrows=True, with_labels=True, labels=labels )\n",
    "    plt.show()    "
   ]
  },
  {
   "cell_type": "code",
   "execution_count": 21,
   "metadata": {
    "pycharm": {
     "is_executing": false,
     "name": "#%%\n"
    }
   },
   "outputs": [],
   "source": [
    "def getBranchId(branch,GG, counter , WL, overlap):    \n",
    "    ids = []\n",
    "    plt.rcParams.update({'font.size': 22})\n",
    "    data1= branch  \n",
    "    #print (data1)\n",
    "    poz = 0\n",
    "    #print(len(data1)/WL)    \n",
    "    step = WL-overlap\n",
    "    \n",
    "    for i in range(0,len(data1)-step+1, step):\n",
    "        k=0\n",
    "        poz=0\n",
    "        #print()\n",
    "        for j in range(WL):\n",
    "            # data\n",
    "            d=data1[i + j]\n",
    "            \n",
    "            # neighbours \n",
    "            nei= list(GG.neighbors(poz))       \n",
    "            if len(nei)==0:\n",
    "                k=-1\n",
    "                break\n",
    "            else:\n",
    "                k=-1\n",
    "                for n in nei:\n",
    "                    if(GG.node[n]['value']==d):\n",
    "                        k=n\n",
    "                        break\n",
    "                if(k>=0):\n",
    "                    poz=k                    \n",
    "                    #GG.node[k]['occurance_count'] = GG.node[k]['occurance_count'] + 1\n",
    "                else:\n",
    "                    k=-1\n",
    "                    break\n",
    "        #ids.append(k)\n",
    "        \n",
    "        #ids.append(GG.node[k]['id'])\n",
    "        if(k>0):\n",
    "            ids.append(GG.node[k]['id'])\n",
    "        else:\n",
    "            ids.append(-1)\n",
    "    return ids\n"
   ]
  },
  {
   "cell_type": "code",
   "execution_count": 22,
   "metadata": {
    "pycharm": {
     "is_executing": false,
     "name": "#%%\n"
    }
   },
   "outputs": [],
   "source": [
    "def getBranchGivenStartNodeValue(startNodeValue,GG, counter , WL, overlap):    \n",
    "    data = [] \n",
    "    nei= list(GG.neighbors(0))      \n",
    "    #print(nei)\n",
    "    k=-1\n",
    "    for n in nei:\n",
    "        if(GG.node[n]['value']==startNodeValue):\n",
    "            k=n\n",
    "            break\n",
    "    #print(k)\n",
    "    #data.append(k)\n",
    "    \n",
    "    while(k>=0):\n",
    "        nei= list(GG.neighbors(k))    \n",
    "        if len(nei)==0:\n",
    "            k=-1\n",
    "        else:\n",
    "            k=nei[0]\n",
    "            data.append(GG.node[k]['value'])\n",
    "    return data\n"
   ]
  },
  {
   "cell_type": "code",
   "execution_count": 23,
   "metadata": {
    "pycharm": {
     "is_executing": false,
     "name": "#%%\n"
    }
   },
   "outputs": [],
   "source": [
    "def checkBranch(branch,GG, counter , WL, overlap):    \n",
    "    ids = []\n",
    "    plt.rcParams.update({'font.size': 22})\n",
    "    data1= branch  \n",
    "    #print (data1)\n",
    "    poz = 0\n",
    "    #print(len(data1)/WL)    \n",
    "    step = WL-overlap\n",
    "    \n",
    "    for i in range(0,len(data1)-step+1, step):\n",
    "        k=0\n",
    "        poz=0\n",
    "        #print()\n",
    "        j=0\n",
    "        # data\n",
    "        d=data1[i + j]\n",
    "\n",
    "        # neighbours \n",
    "        nei= list(GG.neighbors(poz))       \n",
    "        if len(nei)==0:\n",
    "            k=-1\n",
    "            break\n",
    "        else:\n",
    "            k=-1\n",
    "            for n in nei:\n",
    "                if(GG.node[n]['value']==d):\n",
    "                    k=n\n",
    "                    break\n",
    "            if(k>=0):\n",
    "                poz=k                    \n",
    "                #GG.node[k]['occurance_count'] = GG.node[k]['occurance_count'] + 1\n",
    "            else:\n",
    "                k=-1\n",
    "                break\n",
    "        #ids.append(k)\n",
    "        \n",
    "        #ids.append(GG.node[k]['id'])\n",
    "        if(k>0):\n",
    "            ids.append(GG.node[k]['value'])\n",
    "        else:\n",
    "            ids.append(-1)\n",
    "    return ids"
   ]
  },
  {
   "cell_type": "code",
   "execution_count": 24,
   "metadata": {
    "pycharm": {
     "is_executing": false,
     "name": "#%%\n"
    }
   },
   "outputs": [],
   "source": [
    "def buildAbstractTree(GG, symbols, ops,counter):\n",
    "    #print(b)\n",
    "    decodedOps=decodeOperationsDeeper(input_data=ops,len_data=20, qsignals= quantize(symbols,len_of_data=4) )\n",
    "    \n",
    "    GG,counter = train_tree( mergeList(mergeList(decodedOps)), GG, counter , WL, overlap)\n",
    "    plotGraph(GG,WL,counter)\n",
    "    return GG, counter\n"
   ]
  },
  {
   "cell_type": "code",
   "execution_count": 25,
   "metadata": {
    "pycharm": {
     "is_executing": false,
     "name": "#%%\n"
    }
   },
   "outputs": [],
   "source": [
    "def addBranches(GG,ops,counter,WL, overlap=0, doPlot = False):    \n",
    "    GG,counter = train_tree( (mergeList(ops)), GG, counter , WL, overlap)\n",
    "    if doPlot:\n",
    "        plotGraph(GG,WL,counter)\n",
    "    return GG, counter"
   ]
  },
  {
   "cell_type": "code",
   "execution_count": 26,
   "metadata": {
    "pycharm": {
     "is_executing": false,
     "name": "#%%\n"
    }
   },
   "outputs": [],
   "source": [
    "def buildContextTree(GG, ops,counter,WL, overlap=0):\n",
    "    #print(b)\n",
    "    #decodedOps=decodeOperationsDeeper(input_data=ops,len_data=20, qsignals= quantize(symbols,len_of_data=4) )\n",
    "    \n",
    "    GG,counter = train_tree( ops, GG, counter , WL, overlap)\n",
    "    plotGraph(GG,WL,counter)\n",
    "    return GG, counter"
   ]
  },
  {
   "cell_type": "code",
   "execution_count": 27,
   "metadata": {
    "pycharm": {
     "is_executing": false,
     "name": "#%%\n"
    }
   },
   "outputs": [
    {
     "name": "stdout",
     "output_type": "stream",
     "text": [
      "generate sample data\n",
      "[86, 177, 45, 202, 66, -20, 273, 158]\n",
      "[275, 299, 78, 287, -78, 186, 223, 129]\n",
      "[164, 115, 282, 172, -73, 85, 5, 66]\n",
      "[-31, 102, 195, -27, -20, 142, 47, 207]\n",
      "[230, 208, 98, 213, 30, 66, -41, 211]\n",
      "[99, 59, 59, 144, -41, 180, 250, -15]\n",
      "[195, 173, 167, 117, 194, 12, 179, 184]\n",
      "[167, -7, 103, 109, 7, 15, 315, -61]\n",
      "[150, -108, 404, 387, -13, 255, 224, 15]\n",
      "[150, -160, 272, 57, 17, 302, 114, 237]\n",
      "[180, 90, -88, 160, 162, 97, 97, -50]\n",
      "[138, 191, 168, 193, 1, -56, 43, 47]\n",
      "[158, 299, 69, 42, 59, 139, 92, 189]\n",
      "[150, 59, 84, 216, -20, 225, 22, -147]\n",
      "[290, 104, 16, 146, 165, 145, 81, 5]\n",
      "[62, 63, 11, 66, 196, -55, 127, 228]\n",
      "\n",
      "0 [348, 11, 7, -192, -64, -111, 60, 81]\n",
      "1 [494, 169, 104, -122, -16, -147, -186, 66]\n",
      "2 [288, 229, -87, -29, 34, 77, -111, -43]\n",
      "3 [217, -48, -48, -66, -94, 156, -114, -113]\n",
      "4 [358, 170, 63, -37, 15, -81, -25, -178]\n",
      "5 [259, -4, -22, -48, 28, -60, -156, 187]\n",
      "6 [431, 29, 42, -78, 15, 35, 128, -3]\n",
      "7 [229, 33, -26, -116, 123, -4, -5, 265]\n",
      "8 [464, 124, -374, 1, 182, 12, -189, 147]\n",
      "9 [349, -124, -169, -16, 219, 152, -201, -86]\n",
      "10 [229, 12, 99, 106, 63, -175, 45, 103]\n",
      "11 [256, 231, -16, -72, -37, -17, 40, -2]\n",
      "12 [370, 31, 173, -41, -99, 19, -56, -68]\n",
      "13 [208, 151, -45, 165, 64, -93, -173, 119]\n",
      "14 [336, 56, 116, 112, 131, -91, 14, 53]\n",
      "15 [246, -103, 24, -107, 0, -38, 177, -71]\n"
     ]
    }
   ],
   "source": [
    "\n",
    "#GG= initTree()\n",
    "WL = 8 # window length\n",
    "overlap = 0# int(WL/5)\n",
    "GG,counter = initTree()\n",
    "\n",
    "symbols= genSample(16)\n",
    "wsymbols= ( getWaveletCoefs(symbols))\n",
    "print()\n",
    "for i in range(len(wsymbols)):\n",
    "    #print(symbols[i])\n",
    "    print(i,[ int(j) for j in wsymbols[i]])\n",
    "#a= getSamplePredef()"
   ]
  },
  {
   "cell_type": "code",
   "execution_count": 28,
   "metadata": {
    "pycharm": {
     "is_executing": false,
     "name": "#%%\n"
    }
   },
   "outputs": [
    {
     "name": "stdout",
     "output_type": "stream",
     "text": [
      "[[2, 0, 7, 0], [4, 6, 8, 0], [4, 7, 7, 0], [6, 7, 7, 0], [2, 7, 1, 0], [7, 9, 2, 0], [0, 5, 4, 0], [6, 6, 1, 0], [3, 9, 8, 0], [0, 6, 2, 0], [0, 3, 8, 0], [1, 7, 9, 0], [5, 2, 2, 0], [6, 2, 3, 0], [5, 3, 0, 0], [5, 5, 2, 0], [2, 4, 6, 0], [2, 4, 7, 0], [7, 3, 3, 0], [1, 4, 3, 0], [1, 4, 2, 0], [1, 1, 5, 0], [8, 1, 0, 0], [3, 3, 4, 0], [0, 5, 8, 0], [3, 9, 3, 0], [2, 1, 0, 0], [2, 4, 0, 0], [4, 1, 2, 0], [9, 4, 6, 0], [7, 5, 9, 0], [5, 5, 4, 0], [4, 4, 8, 0], [0, 6, 1, 0], [0, 7, 1, 0], [6, 9, 8, 0], [1, 2, 2, 0], [1, 4, 8, 0], [8, 6, 7, 0], [0, 9, 2, 0], [9, 4, 5, 0], [8, 7, 4, 0], [2, 0, 6, 0], [1, 6, 6, 0], [1, 5, 5, 0], [6, 4, 0, 0], [4, 5, 2, 0], [5, 8, 8, 0], [2, 1, 4, 0], [6, 6, 7, 0], [9, 4, 0, 0], [4, 5, 4, 0], [8, 8, 2, 0], [4, 0, 4, 0], [7, 3, 3, 0], [3, 4, 5, 0], [5, 0, 0, 0], [6, 8, 5, 0], [0, 2, 9, 0], [8, 4, 9, 0], [8, 8, 1, 0], [4, 7, 7, 0], [2, 0, 7, 0], [1, 6, 8, 0], [3, 2, 5, 0], [9, 1, 7, 0], [6, 6, 6, 0], [4, 9, 3, 0], [7, 8, 8, 0], [6, 0, 4, 0], [0, 6, 4, 0], [3, 0, 5, 0], [7, 5, 7, 0], [3, 7, 8, 0], [7, 3, 5, 0], [0, 2, 6, 0], [7, 6, 0, 0], [8, 2, 1, 0], [7, 7, 8, 0], [4, 9, 2, 0], [6, 1, 9, 0], [6, 9, 6, 0], [8, 5, 9, 0], [3, 7, 4, 0], [0, 2, 7, 0], [6, 8, 1, 0], [6, 7, 8, 0], [3, 7, 1, 0], [6, 2, 2, 0], [3, 1, 5, 0], [1, 5, 7, 0], [3, 5, 0, 0], [7, 5, 7, 0], [5, 4, 9, 0], [9, 7, 0, 0], [5, 9, 5, 0], [0, 8, 5, 0], [7, 1, 4, 0], [8, 9, 2, 0], [7, 1, 3, 0]]\n"
     ]
    },
    {
     "ename": "ImportError",
     "evalue": "('requires pygraphviz ', 'http://pygraphviz.github.io/')",
     "output_type": "error",
     "traceback": [
      "\u001b[1;31m---------------------------------------------------------------------------\u001b[0m",
      "\u001b[1;31mModuleNotFoundError\u001b[0m                       Traceback (most recent call last)",
      "\u001b[1;32m~\\AppData\\Local\\Continuum\\anaconda3\\lib\\site-packages\\networkx\\drawing\\nx_agraph.py\u001b[0m in \u001b[0;36mpygraphviz_layout\u001b[1;34m(G, prog, root, args)\u001b[0m\n\u001b[0;32m    282\u001b[0m     \u001b[1;32mtry\u001b[0m\u001b[1;33m:\u001b[0m\u001b[1;33m\u001b[0m\u001b[1;33m\u001b[0m\u001b[0m\n\u001b[1;32m--> 283\u001b[1;33m         \u001b[1;32mimport\u001b[0m \u001b[0mpygraphviz\u001b[0m\u001b[1;33m\u001b[0m\u001b[1;33m\u001b[0m\u001b[0m\n\u001b[0m\u001b[0;32m    284\u001b[0m     \u001b[1;32mexcept\u001b[0m \u001b[0mImportError\u001b[0m\u001b[1;33m:\u001b[0m\u001b[1;33m\u001b[0m\u001b[1;33m\u001b[0m\u001b[0m\n",
      "\u001b[1;31mModuleNotFoundError\u001b[0m: No module named 'pygraphviz'",
      "\nDuring handling of the above exception, another exception occurred:\n",
      "\u001b[1;31mImportError\u001b[0m                               Traceback (most recent call last)",
      "\u001b[1;32m<ipython-input-28-07b353960d20>\u001b[0m in \u001b[0;36m<module>\u001b[1;34m\u001b[0m\n\u001b[0;32m      1\u001b[0m \u001b[0mops\u001b[0m\u001b[1;33m=\u001b[0m\u001b[0mgenerateOperations\u001b[0m\u001b[1;33m(\u001b[0m\u001b[1;36m100\u001b[0m\u001b[1;33m)\u001b[0m\u001b[1;33m\u001b[0m\u001b[1;33m\u001b[0m\u001b[0m\n\u001b[0;32m      2\u001b[0m \u001b[0mprint\u001b[0m\u001b[1;33m(\u001b[0m\u001b[0mops\u001b[0m\u001b[1;33m)\u001b[0m\u001b[1;33m\u001b[0m\u001b[1;33m\u001b[0m\u001b[0m\n\u001b[1;32m----> 3\u001b[1;33m \u001b[0mGG\u001b[0m\u001b[1;33m,\u001b[0m\u001b[0mcounter\u001b[0m \u001b[1;33m=\u001b[0m \u001b[0mbuildAbstractTree\u001b[0m\u001b[1;33m(\u001b[0m\u001b[0mGG\u001b[0m\u001b[1;33m,\u001b[0m \u001b[0msymbols\u001b[0m\u001b[1;33m,\u001b[0m \u001b[0mops\u001b[0m\u001b[1;33m,\u001b[0m \u001b[0mcounter\u001b[0m\u001b[1;33m)\u001b[0m\u001b[1;33m\u001b[0m\u001b[1;33m\u001b[0m\u001b[0m\n\u001b[0m",
      "\u001b[1;32m<ipython-input-24-d358c4234808>\u001b[0m in \u001b[0;36mbuildAbstractTree\u001b[1;34m(GG, symbols, ops, counter)\u001b[0m\n\u001b[0;32m      4\u001b[0m \u001b[1;33m\u001b[0m\u001b[0m\n\u001b[0;32m      5\u001b[0m     \u001b[0mGG\u001b[0m\u001b[1;33m,\u001b[0m\u001b[0mcounter\u001b[0m \u001b[1;33m=\u001b[0m \u001b[0mtrain_tree\u001b[0m\u001b[1;33m(\u001b[0m \u001b[0mmergeList\u001b[0m\u001b[1;33m(\u001b[0m\u001b[0mmergeList\u001b[0m\u001b[1;33m(\u001b[0m\u001b[0mdecodedOps\u001b[0m\u001b[1;33m)\u001b[0m\u001b[1;33m)\u001b[0m\u001b[1;33m,\u001b[0m \u001b[0mGG\u001b[0m\u001b[1;33m,\u001b[0m \u001b[0mcounter\u001b[0m \u001b[1;33m,\u001b[0m \u001b[0mWL\u001b[0m\u001b[1;33m,\u001b[0m \u001b[0moverlap\u001b[0m\u001b[1;33m)\u001b[0m\u001b[1;33m\u001b[0m\u001b[1;33m\u001b[0m\u001b[0m\n\u001b[1;32m----> 6\u001b[1;33m     \u001b[0mplotGraph\u001b[0m\u001b[1;33m(\u001b[0m\u001b[0mGG\u001b[0m\u001b[1;33m,\u001b[0m\u001b[0mWL\u001b[0m\u001b[1;33m,\u001b[0m\u001b[0mcounter\u001b[0m\u001b[1;33m)\u001b[0m\u001b[1;33m\u001b[0m\u001b[1;33m\u001b[0m\u001b[0m\n\u001b[0m\u001b[0;32m      7\u001b[0m     \u001b[1;32mreturn\u001b[0m \u001b[0mGG\u001b[0m\u001b[1;33m,\u001b[0m \u001b[0mcounter\u001b[0m\u001b[1;33m\u001b[0m\u001b[1;33m\u001b[0m\u001b[0m\n",
      "\u001b[1;32m<ipython-input-20-e2f4c2577a53>\u001b[0m in \u001b[0;36mplotGraph\u001b[1;34m(GG, WL, counter, short)\u001b[0m\n\u001b[0;32m      3\u001b[0m     \u001b[0mlabels\u001b[0m\u001b[1;33m=\u001b[0m\u001b[0mdict\u001b[0m\u001b[1;33m(\u001b[0m\u001b[1;33m(\u001b[0m\u001b[0mn\u001b[0m\u001b[1;33m,\u001b[0m\u001b[0md\u001b[0m\u001b[1;33m[\u001b[0m\u001b[1;34m'value'\u001b[0m\u001b[1;33m]\u001b[0m\u001b[1;33m)\u001b[0m \u001b[1;32mfor\u001b[0m \u001b[0mn\u001b[0m\u001b[1;33m,\u001b[0m\u001b[0md\u001b[0m \u001b[1;32min\u001b[0m \u001b[0mGG\u001b[0m\u001b[1;33m.\u001b[0m\u001b[0mnodes\u001b[0m\u001b[1;33m(\u001b[0m\u001b[0mdata\u001b[0m\u001b[1;33m=\u001b[0m\u001b[1;32mTrue\u001b[0m\u001b[1;33m)\u001b[0m\u001b[1;33m)\u001b[0m\u001b[1;33m\u001b[0m\u001b[1;33m\u001b[0m\u001b[0m\n\u001b[0;32m      4\u001b[0m     \u001b[1;31m#pos=nx.graphviz_layout(GG, prog='dot')\u001b[0m\u001b[1;33m\u001b[0m\u001b[1;33m\u001b[0m\u001b[1;33m\u001b[0m\u001b[0m\n\u001b[1;32m----> 5\u001b[1;33m     \u001b[0mpos\u001b[0m \u001b[1;33m=\u001b[0m\u001b[0mgraphviz_layout\u001b[0m\u001b[1;33m(\u001b[0m\u001b[0mGG\u001b[0m\u001b[1;33m,\u001b[0m \u001b[0mprog\u001b[0m\u001b[1;33m=\u001b[0m\u001b[1;34m'dot'\u001b[0m\u001b[1;33m)\u001b[0m\u001b[1;33m\u001b[0m\u001b[1;33m\u001b[0m\u001b[0m\n\u001b[0m\u001b[0;32m      6\u001b[0m     \u001b[1;31m#nx.spring_layout(GG)\u001b[0m\u001b[1;33m\u001b[0m\u001b[1;33m\u001b[0m\u001b[1;33m\u001b[0m\u001b[0m\n\u001b[0;32m      7\u001b[0m \u001b[1;33m\u001b[0m\u001b[0m\n",
      "\u001b[1;32m~\\AppData\\Local\\Continuum\\anaconda3\\lib\\site-packages\\networkx\\drawing\\nx_agraph.py\u001b[0m in \u001b[0;36mgraphviz_layout\u001b[1;34m(G, prog, root, args)\u001b[0m\n\u001b[0;32m    241\u001b[0m     \u001b[0mThis\u001b[0m \u001b[1;32mis\u001b[0m \u001b[0ma\u001b[0m \u001b[0mwrapper\u001b[0m \u001b[1;32mfor\u001b[0m \u001b[0mpygraphviz_layout\u001b[0m\u001b[1;33m.\u001b[0m\u001b[1;33m\u001b[0m\u001b[1;33m\u001b[0m\u001b[0m\n\u001b[0;32m    242\u001b[0m     \"\"\"\n\u001b[1;32m--> 243\u001b[1;33m     \u001b[1;32mreturn\u001b[0m \u001b[0mpygraphviz_layout\u001b[0m\u001b[1;33m(\u001b[0m\u001b[0mG\u001b[0m\u001b[1;33m,\u001b[0m \u001b[0mprog\u001b[0m\u001b[1;33m=\u001b[0m\u001b[0mprog\u001b[0m\u001b[1;33m,\u001b[0m \u001b[0mroot\u001b[0m\u001b[1;33m=\u001b[0m\u001b[0mroot\u001b[0m\u001b[1;33m,\u001b[0m \u001b[0margs\u001b[0m\u001b[1;33m=\u001b[0m\u001b[0margs\u001b[0m\u001b[1;33m)\u001b[0m\u001b[1;33m\u001b[0m\u001b[1;33m\u001b[0m\u001b[0m\n\u001b[0m\u001b[0;32m    244\u001b[0m \u001b[1;33m\u001b[0m\u001b[0m\n\u001b[0;32m    245\u001b[0m \u001b[1;33m\u001b[0m\u001b[0m\n",
      "\u001b[1;32m~\\AppData\\Local\\Continuum\\anaconda3\\lib\\site-packages\\networkx\\drawing\\nx_agraph.py\u001b[0m in \u001b[0;36mpygraphviz_layout\u001b[1;34m(G, prog, root, args)\u001b[0m\n\u001b[0;32m    284\u001b[0m     \u001b[1;32mexcept\u001b[0m \u001b[0mImportError\u001b[0m\u001b[1;33m:\u001b[0m\u001b[1;33m\u001b[0m\u001b[1;33m\u001b[0m\u001b[0m\n\u001b[0;32m    285\u001b[0m         raise ImportError('requires pygraphviz ',\n\u001b[1;32m--> 286\u001b[1;33m                           'http://pygraphviz.github.io/')\n\u001b[0m\u001b[0;32m    287\u001b[0m     \u001b[1;32mif\u001b[0m \u001b[0mroot\u001b[0m \u001b[1;32mis\u001b[0m \u001b[1;32mnot\u001b[0m \u001b[1;32mNone\u001b[0m\u001b[1;33m:\u001b[0m\u001b[1;33m\u001b[0m\u001b[1;33m\u001b[0m\u001b[0m\n\u001b[0;32m    288\u001b[0m         \u001b[0margs\u001b[0m \u001b[1;33m+=\u001b[0m \u001b[1;34m\"-Groot=%s\"\u001b[0m \u001b[1;33m%\u001b[0m \u001b[0mroot\u001b[0m\u001b[1;33m\u001b[0m\u001b[1;33m\u001b[0m\u001b[0m\n",
      "\u001b[1;31mImportError\u001b[0m: ('requires pygraphviz ', 'http://pygraphviz.github.io/')"
     ]
    }
   ],
   "source": [
    "\n",
    "ops=generateOperations(100)\n",
    "print(ops)\n",
    "GG,counter = buildAbstractTree(GG, symbols, ops, counter)"
   ]
  },
  {
   "cell_type": "markdown",
   "metadata": {},
   "source": [
    "# test the abstract with some operations"
   ]
  },
  {
   "cell_type": "code",
   "execution_count": null,
   "metadata": {
    "pycharm": {
     "is_executing": false,
     "name": "#%%\n"
    }
   },
   "outputs": [],
   "source": [
    "WL = 4 # window length\n",
    "overlap = 0# int(WL/5)\n",
    "GG1,counter1 = initTree()"
   ]
  },
  {
   "cell_type": "code",
   "execution_count": null,
   "metadata": {
    "pycharm": {
     "is_executing": false,
     "name": "#%%\n"
    }
   },
   "outputs": [],
   "source": [
    "ops=generateOperations(500, Test=False,verbose = False)"
   ]
  },
  {
   "cell_type": "code",
   "execution_count": null,
   "metadata": {
    "pycharm": {
     "name": "#%%\n"
    }
   },
   "outputs": [],
   "source": []
  },
  {
   "cell_type": "code",
   "execution_count": 36,
   "metadata": {
    "pycharm": {
     "is_executing": false,
     "name": "#%%\n"
    }
   },
   "outputs": [],
   "source": []
  },
  {
   "cell_type": "code",
   "execution_count": null,
   "metadata": {
    "pycharm": {
     "name": "#%%\n"
    }
   },
   "outputs": [],
   "source": [
    "\n"
   ]
  }
 ],
 "metadata": {
  "kernelspec": {
   "display_name": "Python 3",
   "language": "python",
   "name": "python3"
  },
  "language_info": {
   "codemirror_mode": {
    "name": "ipython",
    "version": 3
   },
   "file_extension": ".py",
   "mimetype": "text/x-python",
   "name": "python",
   "nbconvert_exporter": "python",
   "pygments_lexer": "ipython3",
   "version": "3.7.3"
  },
  "pycharm": {
   "stem_cell": {
    "cell_type": "raw",
    "metadata": {
     "collapsed": false
    },
    "source": []
   }
  }
 },
 "nbformat": 4,
 "nbformat_minor": 1
}
