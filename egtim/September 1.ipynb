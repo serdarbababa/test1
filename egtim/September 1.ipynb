{
 "nbformat_minor": 1,
 "cells": [
  {
   "source": [
    "# ."
   ],
   "cell_type": "markdown",
   "metadata": {}
  },
  {
   "source": "# 1. Linear Regression\nLinear Regression algorithm will use the data points to find the best fit line to model the data. A line can be represented by the equation, y = m*x + c where y is the dependent variable and x is the independent variable. Basic calculus theories are applied to find the values for m and c using the given data set.\nLinear Regression has 2 types as Simple Linear Regression where only 1 independent variable is used and Multiple Linear Regression where multiple independent variables are defined.\n\nâscikit-learnâ is a simple and efficient tool using for machine learning in python. Following is an implementation of Linear Regression using scikit-learn.",
   "cell_type": "markdown",
   "metadata": {}
  },
  {
   "execution_count": 1,
   "cell_type": "code",
   "source": "from sklearn import linear_model, datasets\n\n#digit dataset from sklearn\ndigits = datasets.load_digits()\n\n#create the LinearRegression model\nclf = linear_model.LinearRegression()\n\n#set training set\nx, y = digits.data[:-1], digits.target[:-1]\n\n#train model\nclf.fit(x, y)\n\n#predict\ny_pred = clf.predict([digits.data[-1]])\ny_true = digits.target[-1]\n\nprint(y_pred)\nprint(y_true)",
   "outputs": [
    {
     "name": "stdout",
     "text": [
      "[8.86342983]\n8\n"
     ],
     "output_type": "stream"
    }
   ],
   "metadata": {
    "pycharm": {
     "is_executing": false
    }
   }
  },
  {
   "execution_count": 2,
   "cell_type": "code",
   "source": "print(len(digits[\"data\"]))\nprint(digits.data.shape)\nprint(digits.keys())\n\ni=100\nprint(clf)\nprint(digits[\"data\"][i])\nprint(digits[\"target\"][i])\n\nimport matplotlib.pyplot as plt \nplt.gray() \nplt.matshow(digits.images[i]) \nplt.show() ",
   "outputs": [
    {
     "name": "stdout",
     "text": [
      "1797\n(1797, 64)\ndict_keys(['data', 'target', 'target_names', 'images', 'DESCR'])\nLinearRegression(copy_X=True, fit_intercept=True, n_jobs=None,\n         normalize=False)\n[ 0.  0.  0.  2. 13.  0.  0.  0.  0.  0.  0.  8. 15.  0.  0.  0.  0.  0.\n  5. 16.  5.  2.  0.  0.  0.  0. 15. 12.  1. 16.  4.  0.  0.  4. 16.  2.\n  9. 16.  8.  0.  0.  0. 10. 14. 16. 16.  4.  0.  0.  0.  0.  0. 13.  8.\n  0.  0.  0.  0.  0.  0. 13.  6.  0.  0.]\n4\n"
     ],
     "output_type": "stream"
    },
    {
     "data": {
      "text/plain": "<Figure size 640x480 with 0 Axes>"
     },
     "metadata": {},
     "output_type": "display_data"
    },
    {
     "data": {
      "text/plain": "<Figure size 480x480 with 1 Axes>"
     },
     "metadata": {},
     "output_type": "display_data"
    }
   ],
   "metadata": {
    "pycharm": {
     "is_executing": false
    }
   }
  },
  {
   "execution_count": 2,
   "cell_type": "code",
   "source": "",
   "outputs": [],
   "metadata": {
    "pycharm": {
     "is_executing": false
    }
   }
  },
  {
   "execution_count": 3,
   "cell_type": "code",
   "source": "import matplotlib.pyplot as plt\nimport numpy as np\nfrom sklearn import datasets, linear_model\nfrom sklearn.metrics import mean_squared_error, r2_score\n\n# Load the diabetes dataset\ndiabetes = datasets.load_diabetes()\n\n\n# Use only one feature\ndiabetes_X = diabetes.data[:, np.newaxis, 2]\n\n# Split the data into training/testing sets\ndiabetes_X_train = diabetes_X[:-20]\ndiabetes_X_test = diabetes_X[-20:]\n\n# Split the targets into training/testing sets\ndiabetes_y_train = diabetes.target[:-20]\ndiabetes_y_test = diabetes.target[-20:]\n\n# Create linear regression object\nregr = linear_model.LinearRegression()\n\n# Train the model using the training sets\nregr.fit(diabetes_X_train, diabetes_y_train)\n\n# Make predictions using the testing set\ndiabetes_y_pred = regr.predict(diabetes_X_test)\n\n# The coefficients\nprint('Coefficients: \\n', regr.coef_)\n# The mean squared error\nprint(\"Mean squared error: %.2f\"\n      % mean_squared_error(diabetes_y_test, diabetes_y_pred))\n# Explained variance score: 1 is perfect prediction\nprint('Variance score: %.2f' % r2_score(diabetes_y_test, diabetes_y_pred))\n\n# Plot outputs\nplt.scatter(diabetes_X_test, diabetes_y_test,  color='black')\nplt.plot(diabetes_X_test, diabetes_y_pred, color='blue', linewidth=3)\n\n#plt.xticks(())\n#plt.yticks(())\n\nplt.show()",
   "outputs": [
    {
     "name": "stdout",
     "text": [
      "Coefficients: \n [938.23786125]\nMean squared error: 2548.07\nVariance score: 0.47\n"
     ],
     "output_type": "stream"
    },
    {
     "data": {
      "text/plain": "<Figure size 432x288 with 1 Axes>",
      "image/png": "[encoded data removed]"
     },
     "metadata": {
      "needs_background": "light"
     },
     "output_type": "display_data"
    }
   ],
   "metadata": {
    "pycharm": {
     "is_executing": false
    }
   }
  },
  {
   "execution_count": 4,
   "cell_type": "code",
   "source": "print(len(diabetes[\"data\"]))\nprint(diabetes.data.shape)\nprint(diabetes.keys())\n\ni=100\nprint(regr)\nprint(diabetes[\"data\"][i])\nprint(diabetes[\"target\"][i])\n\n",
   "outputs": [
    {
     "name": "stdout",
     "text": [
      "442\n(442, 10)\ndict_keys(['data', 'target', 'DESCR', 'feature_names', 'data_filename', 'target_filename'])\nLinearRegression(copy_X=True, fit_intercept=True, n_jobs=None,\n         normalize=False)\n[ 0.01628068 -0.04464164  0.01750591 -0.02288496  0.06034892  0.0444058\n  0.03023191 -0.00259226  0.03723201 -0.0010777 ]\n128.0\n"
     ],
     "output_type": "stream"
    }
   ],
   "metadata": {
    "pycharm": {
     "is_executing": false
    }
   }
  },
  {
   "source": "## 2. SVM (Support Vector Machine)\nThis belongs to classification type algorithm. The algorithm will separate the data points using a line. This line is chosen such that it will be furthermost from the nearest data points in 2 categories.\n\nIn above diagram red line is the best line since it has the most distance from the nearest points. Based on this line data points are classified into 2 groups.",
   "cell_type": "markdown",
   "metadata": {}
  },
  {
   "execution_count": 5,
   "cell_type": "code",
   "source": "from sklearn import svm, datasets\n\n#digit dataset from sklearn\ndigits = datasets.load_digits()\n\n#create the  Support Vector Classifier\nclf = svm.SVC(gamma = 0.001, C = 100)\n\n#set training set\nx, y = digits.data[:-1], digits.target[:-1]\n\n#train model\nclf.fit(x, y)\n\n#predict\ny_pred = clf.predict([digits.data[-1]])\ny_true = digits.target[-1]\n\nprint(y_pred)\nprint(y_true)\n",
   "outputs": [
    {
     "name": "stdout",
     "text": [
      "[8]\n8\n"
     ],
     "output_type": "stream"
    }
   ],
   "metadata": {
    "pycharm": {
     "is_executing": false
    }
   }
  },
  {
   "source": "## 3. KNN (K-Nearest Neighbors)\nThis is a simple algorithm which predicts unknown data point with its k nearest neighbors. The value of k is a critical factor here regarding the accuracy of prediction. It determines the nearest by calculating the distance using basic distance functions like Euclidean.\n<p>\nHowever, this algorithm needs high computation power and we need to normalize data initially to bring every data point to same range",
   "cell_type": "markdown",
   "metadata": {}
  },
  {
   "execution_count": 6,
   "cell_type": "code",
   "source": "from sklearn import datasets\nfrom sklearn.neighbors import KNeighborsClassifier\n\n#digit dataset from sklearn\ndigits = datasets.load_digits()\n\n#create the  KNeighborsClassifier\nclf = KNeighborsClassifier(n_neighbors=6)\n\n#set training set\nx, y = digits.data[:-1], digits.target[:-1]\n\n#train model\nclf.fit(x, y)\n\n#predict\ny_pred = clf.predict([digits.data[-1]])\ny_true = digits.target[-1]\n\nprint(y_pred)\nprint(y_true)",
   "outputs": [
    {
     "name": "stdout",
     "text": [
      "[8]\n8\n"
     ],
     "output_type": "stream"
    }
   ],
   "metadata": {
    "pycharm": {
     "is_executing": false
    }
   }
  },
  {
   "source": "## 4. Logistic Regression\nLogistic Regression is used where a discreet output is expected such as the occurrence of some event (Ex. predict whether rain will occur or not). Usually, Logistic regression uses some function to squeeze values to a particular range.\n\nâSigmoidâ (Logistic function) is one of such function which has âSâ shape curve used for binary classification. It converts values to the range of 0, 1 which interpreted as a probability of occurring some event.\ny = e^(b0 + b1*x) / (1 + e^(b0 + b1*x))\n\nAbove is a simple logistic regression equation where b0, b1 are constants. While training values for these will be calculated such that the error between prediction and actual value become minimum.",
   "cell_type": "markdown",
   "metadata": {}
  },
  {
   "execution_count": 6,
   "cell_type": "code",
   "source": "",
   "outputs": [],
   "metadata": {
    "pycharm": {
     "is_executing": false
    }
   }
  },
  {
   "source": "## 5. Decision Tree\nThis algorithm categorizes the population for several sets based on some chosen properties (independent variables) of a population. Usually, this algorithm is used to solve classification problems. Categorization is done by using some techniques such as Gini, Chi-square, entropy etc.\nLetâs consider a population of people and use decision tree algorithm to identify who like to have a credit card. For example, consider the age and marital status the properties of the population. If age>30 or a person is married, people tend to prefer credit cards much and less otherwise.\n\nThis decision tree can be further extended by identifying suitable properties to define more categories. In this example, if a person is married and he is over 30, they are more likely to have credit cards (100% preference). Testing data is used to generate this decision tree.\n",
   "cell_type": "markdown",
   "metadata": {}
  },
  {
   "execution_count": 6,
   "cell_type": "code",
   "source": "",
   "outputs": [],
   "metadata": {
    "pycharm": {
     "is_executing": false
    }
   }
  },
  {
   "source": "## 6. K-Means\nThis is an unsupervised algorithm which provides a solution for clustering problem. The algorithm follows a procedure to form clusters which contain homogeneous data points.\n\nThe value of k is an input for the algorithm. Based on that, algorithm selects k number of centroids. Then the neighboring data points to a centroid combines with its centroid and creates a cluster. Later a new centroid is created within each cluster. Then data points near to new centroid will combine again to expand the cluster. This process is continued until centroids do not change.\n",
   "cell_type": "markdown",
   "metadata": {}
  },
  {
   "execution_count": 6,
   "cell_type": "code",
   "source": "",
   "outputs": [],
   "metadata": {
    "pycharm": {
     "is_executing": false
    }
   }
  },
  {
   "source": "## 7. Random Forest\nRandom forest can be identified as a collection of decision trees as its name says. Each tree tries to estimate a classification and this is called as a âvoteâ. Ideally, we consider each vote from every tree and chose the most voted classification.",
   "cell_type": "markdown",
   "metadata": {}
  },
  {
   "execution_count": 6,
   "cell_type": "code",
   "source": "",
   "outputs": [],
   "metadata": {
    "pycharm": {
     "is_executing": false
    }
   }
  },
  {
   "source": "## 8. Naive Bayes\nThis algorithm is based on the âBayesâ Theoremâ in probability. Due to that Naive Bayes can be applied only if the features are independent of each other since it is a requirement in Bayesâ Theorem. If we try to predict a flower type by its petal length and width, we can use Naive Bayes approach since both those features are independent.\n\nBayes Equation\nNaive Bayes algorithm also falls into classification type. This algorithm is mostly used when many classes exist in the problem.",
   "cell_type": "markdown",
   "metadata": {}
  },
  {
   "execution_count": 6,
   "cell_type": "code",
   "source": "",
   "outputs": [],
   "metadata": {
    "pycharm": {
     "is_executing": false
    }
   }
  },
  {
   "source": "## 9. Dimensional Reduction Algorithms\nSome datasets may contain many variables that may cause very hard to handle. Especially nowadays data collecting in systems occur at very detailed level due to the existence of more than enough resources. In such cases, the data sets may contain thousands of variables and most of them can be unnecessary as well.\n\nIn this case, it is almost impossible to identify the variables which have the most impact on our prediction. Dimensional Reduction Algorithms are used in this kind of situations. It utilizes other algorithms like Random Forest, Decision Tree to identify the most important variables.",
   "cell_type": "markdown",
   "metadata": {}
  },
  {
   "source": "## 10. Gradient Boosting Algorithms\nGradient Boosting Algorithm uses multiple weak algorithms to create a more powerful accurate algorithm. Instead of using a single estimator, having multiple will create a more stable and robust algorithm.\n\nThere are several Gradient Boosting Algorithms.\n- XGBoost â uses liner and tree algorithms\n- LightGBM â uses only tree-based algorithms\n\nThe specialty of Gradient Boosting Algorithms is their higher accuracy. Further, algorithms like LightGBM has incredible high performance as well.",
   "cell_type": "markdown",
   "metadata": {}
  },
  {
   "execution_count": 6,
   "cell_type": "code",
   "source": "",
   "outputs": [],
   "metadata": {
    "pycharm": {
     "is_executing": false
    }
   }
  },
  {
   "execution_count": 6,
   "cell_type": "code",
   "source": "",
   "outputs": [],
   "metadata": {
    "pycharm": {
     "is_executing": false
    }
   }
  },
  {
   "execution_count": 6,
   "cell_type": "code",
   "source": "",
   "outputs": [],
   "metadata": {
    "pycharm": {
     "is_executing": false
    }
   }
  },
  {
   "execution_count": 6,
   "cell_type": "code",
   "source": "",
   "outputs": [],
   "metadata": {
    "pycharm": {
     "is_executing": false
    }
   }
  },
  {
   "execution_count": 7,
   "cell_type": "code",
   "source": "import pandas as pd\nimport os, bs4, requests\nimport re\n",
   "outputs": [],
   "metadata": {
    "pycharm": {
     "is_executing": false
    }
   }
  },
  {
   "execution_count": 8,
   "cell_type": "code",
   "source": "from azureml import Workspace\nws = Workspace(\n    workspace_id='809e2c97fae44071992bed8bf9ded6c5',\n    authorization_token='FwSzPaQsDr59Fg+xzJTGlrH4wUjTwWfnc++Psw2/T47KOCrZWj8FT+5JfCVGKZVw8o7RyxN1WflfNx1UnZ4vuQ==',\n    endpoint='https://studioapi.azureml.net'\n)\nds = ws.datasets['Bike Buyers']\nframe = ds.to_dataframe()\n",
   "outputs": [
    {
     "traceback": [
      "\u001b[0;31m---------------------------------------------------------------------------\u001b[0m",
      "\u001b[0;31mModuleNotFoundError\u001b[0m                       Traceback (most recent call last)",
      "\u001b[0;32m<ipython-input-8-af25cff6c8ba>\u001b[0m in \u001b[0;36m<module>\u001b[0;34m\u001b[0m\n\u001b[1;32m      1\u001b[0m \u001b[0;34m\u001b[0m\u001b[0m\n\u001b[0;32m----> 2\u001b[0;31m \u001b[0;32mfrom\u001b[0m \u001b[0mazureml\u001b[0m \u001b[0;32mimport\u001b[0m \u001b[0mWorkspace\u001b[0m\u001b[0;34m\u001b[0m\u001b[0;34m\u001b[0m\u001b[0m\n\u001b[0m\u001b[1;32m      3\u001b[0m ws = Workspace(\n\u001b[1;32m      4\u001b[0m     \u001b[0mworkspace_id\u001b[0m\u001b[0;34m=\u001b[0m\u001b[0;34m'809e2c97fae44071992bed8bf9ded6c5'\u001b[0m\u001b[0;34m,\u001b[0m\u001b[0;34m\u001b[0m\u001b[0;34m\u001b[0m\u001b[0m\n\u001b[1;32m      5\u001b[0m     \u001b[0mauthorization_token\u001b[0m\u001b[0;34m=\u001b[0m\u001b[0;34m'FwSzPaQsDr59Fg+xzJTGlrH4wUjTwWfnc++Psw2/T47KOCrZWj8FT+5JfCVGKZVw8o7RyxN1WflfNx1UnZ4vuQ=='\u001b[0m\u001b[0;34m,\u001b[0m\u001b[0;34m\u001b[0m\u001b[0;34m\u001b[0m\u001b[0m\n",
      "\u001b[0;31mModuleNotFoundError\u001b[0m: No module named 'azureml'"
     ],
     "ename": "ModuleNotFoundError",
     "evalue": "No module named 'azureml'",
     "output_type": "error"
    }
   ],
   "metadata": {
    "pycharm": {
     "is_executing": false
    }
   }
  },
  {
   "execution_count": null,
   "cell_type": "code",
   "source": "frame.head()",
   "outputs": [],
   "metadata": {
    "pycharm": {
     "is_executing": false
    }
   }
  },
  {
   "execution_count": null,
   "cell_type": "code",
   "source": "",
   "outputs": [],
   "metadata": {
    "pycharm": {
     "is_executing": false
    }
   }
  },
  {
   "execution_count": null,
   "cell_type": "code",
   "source": "",
   "outputs": [],
   "metadata": {
    "pycharm": {
     "is_executing": false
    }
   }
  },
  {
   "execution_count": null,
   "cell_type": "code",
   "source": "",
   "outputs": [],
   "metadata": {
    "pycharm": {
     "is_executing": false
    }
   }
  },
  {
   "source": "# KNN example\nhttps://stackabuse.com/k-nearest-neighbors-algorithm-in-python-and-scikit-learn/",
   "cell_type": "markdown",
   "metadata": {}
  },
  {
   "execution_count": null,
   "cell_type": "code",
   "source": "import numpy as np\nimport matplotlib.pyplot as plt\nimport pandas as pd",
   "outputs": [],
   "metadata": {
    "pycharm": {
     "is_executing": false
    }
   }
  },
  {
   "source": "## Getting data",
   "cell_type": "markdown",
   "metadata": {}
  },
  {
   "execution_count": null,
   "cell_type": "code",
   "source": "url = \"https://archive.ics.uci.edu/ml/machine-learning-databases/iris/iris.data\"\n\n# Assign colum names to the dataset\nnames = ['sepal-length', 'sepal-width', 'petal-length', 'petal-width', 'Class']\n\n# Read dataset to pandas dataframe\ndataset = pd.read_csv(url, names=names)\ndataset.head()",
   "outputs": [],
   "metadata": {
    "pycharm": {
     "is_executing": false
    }
   }
  },
  {
   "source": "## Spliting X and Y into array ",
   "cell_type": "markdown",
   "metadata": {}
  },
  {
   "execution_count": null,
   "cell_type": "code",
   "source": "X = dataset.iloc[:, :-1].values\ny = dataset.iloc[:, 4].values",
   "outputs": [],
   "metadata": {
    "pycharm": {
     "is_executing": false
    }
   }
  },
  {
   "source": "## Train Test Split",
   "cell_type": "markdown",
   "metadata": {}
  },
  {
   "execution_count": null,
   "cell_type": "code",
   "source": "from sklearn.model_selection import train_test_split\nX_train, X_test, y_train, y_test = train_test_split(X, y, test_size=0.20)",
   "outputs": [],
   "metadata": {
    "pycharm": {
     "is_executing": false
    }
   }
  },
  {
   "source": "## Feature Scaling",
   "cell_type": "markdown",
   "metadata": {}
  },
  {
   "execution_count": null,
   "cell_type": "code",
   "source": "from sklearn.preprocessing import StandardScaler\nscaler = StandardScaler()\nscaler.fit(X_train)\n\nX_train = scaler.transform(X_train)\nX_test = scaler.transform(X_test)",
   "outputs": [],
   "metadata": {
    "pycharm": {
     "is_executing": false
    }
   }
  },
  {
   "source": "## Training and prediction",
   "cell_type": "markdown",
   "metadata": {}
  },
  {
   "execution_count": null,
   "cell_type": "code",
   "source": "from sklearn.neighbors import KNeighborsClassifier\nclassifier = KNeighborsClassifier(n_neighbors=5)\nclassifier.fit(X_train, y_train)",
   "outputs": [],
   "metadata": {
    "pycharm": {
     "is_executing": false
    }
   }
  },
  {
   "execution_count": null,
   "cell_type": "code",
   "source": "y_pred = classifier.predict(X_test)",
   "outputs": [],
   "metadata": {
    "pycharm": {
     "is_executing": false
    }
   }
  },
  {
   "execution_count": null,
   "cell_type": "code",
   "source": "y_pred",
   "outputs": [],
   "metadata": {
    "pycharm": {
     "is_executing": false
    }
   }
  },
  {
   "execution_count": null,
   "cell_type": "code",
   "source": "y_test",
   "outputs": [],
   "metadata": {
    "pycharm": {
     "is_executing": false
    }
   }
  },
  {
   "source": "## Evaluation",
   "cell_type": "markdown",
   "metadata": {}
  },
  {
   "execution_count": null,
   "cell_type": "code",
   "source": "from sklearn.metrics import classification_report, confusion_matrix\nprint(confusion_matrix(y_test, y_pred))\nprint(classification_report(y_test, y_pred))",
   "outputs": [],
   "metadata": {
    "pycharm": {
     "is_executing": false
    }
   }
  },
  {
   "source": "## Comparing Error Rate with the K Value",
   "cell_type": "markdown",
   "metadata": {}
  },
  {
   "execution_count": null,
   "cell_type": "code",
   "source": "error = []\n\n# Calculating error for K values between 1 and 40\nfor i in range(1, 40):\n    knn = KNeighborsClassifier(n_neighbors=i)\n    knn.fit(X_train, y_train)\n    pred_i = knn.predict(X_test)\n    error.append(np.mean(pred_i != y_test))",
   "outputs": [],
   "metadata": {
    "pycharm": {
     "is_executing": false
    }
   }
  },
  {
   "execution_count": null,
   "cell_type": "code",
   "source": "plt.figure(figsize=(12, 6))\nplt.plot(range(1, 40), error, color='red', linestyle='dashed', marker='o',\n         markerfacecolor='blue', markersize=10)\nplt.title('Error Rate K Value')\nplt.xlabel('K Value')\nplt.ylabel('Mean Error')\nplt.show()",
   "outputs": [],
   "metadata": {
    "pycharm": {
     "is_executing": false
    }
   }
  },
  {
   "execution_count": null,
   "cell_type": "code",
   "source": "",
   "outputs": [],
   "metadata": {
    "pycharm": {
     "is_executing": false
    }
   }
  },
  {
   "execution_count": null,
   "cell_type": "code",
   "source": "",
   "outputs": [],
   "metadata": {
    "pycharm": {
     "is_executing": false
    }
   }
  },
  {
   "execution_count": null,
   "cell_type": "code",
   "source": "",
   "outputs": [],
   "metadata": {
    "pycharm": {
     "is_executing": false
    }
   }
  },
  {
   "execution_count": null,
   "cell_type": "code",
   "source": "",
   "outputs": [],
   "metadata": {
    "pycharm": {
     "is_executing": false
    }
   }
  }
 ],
 "nbformat": 4,
 "metadata": {
  "kernelspec": {
   "name": "python3",
   "language": "python",
   "display_name": "Python 3"
  },
  "language_info": {
   "mimetype": "text/x-python",
   "nbconvert_exporter": "python",
   "version": "3.4.5",
   "name": "python",
   "file_extension": ".py",
   "pygments_lexer": "ipython3",
   "codemirror_mode": {
    "version": 3,
    "name": "ipython"
   }
  },
  "pycharm": {
   "stem_cell": {
    "cell_type": "raw",
    "source": [
     "# md\n",
     "\n",
     "# Algorithms\n",
     "\n",
     "###  Linear Regression\n",
     "### SVM (Support Vector Machine)\n",
     "### KNN (K-Nearest Neighbors)\n",
     "### Logistic Regression\n",
     "### Decision Tree\n",
     "### K-Means\n",
     "### Random Forest\n",
     "### Naive Bayes\n",
     "### Dimensional Reduction Algorithms\n",
     "### Gradient Boosting Algorithms\n"
    ],
    "metadata": {
     "collapsed": false
    }
   }
  }
 }
}